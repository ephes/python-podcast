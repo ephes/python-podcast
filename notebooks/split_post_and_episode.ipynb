{
 "cells": [
  {
   "cell_type": "code",
   "execution_count": 1,
   "metadata": {},
   "outputs": [
    {
     "data": {
      "application/javascript": [
       "\n",
       "            setTimeout(function() {\n",
       "                var nbb_cell_id = 1;\n",
       "                var nbb_unformatted_code = \"%load_ext nb_black\";\n",
       "                var nbb_formatted_code = \"%load_ext nb_black\";\n",
       "                var nbb_cells = Jupyter.notebook.get_cells();\n",
       "                for (var i = 0; i < nbb_cells.length; ++i) {\n",
       "                    if (nbb_cells[i].input_prompt_number == nbb_cell_id) {\n",
       "                        if (nbb_cells[i].get_text() == nbb_unformatted_code) {\n",
       "                             nbb_cells[i].set_text(nbb_formatted_code);\n",
       "                        }\n",
       "                        break;\n",
       "                    }\n",
       "                }\n",
       "            }, 500);\n",
       "            "
      ],
      "text/plain": [
       "<IPython.core.display.Javascript object>"
      ]
     },
     "metadata": {},
     "output_type": "display_data"
    }
   ],
   "source": [
    "%load_ext nb_black"
   ]
  },
  {
   "cell_type": "code",
   "execution_count": 2,
   "metadata": {},
   "outputs": [
    {
     "data": {
      "application/javascript": [
       "\n",
       "            setTimeout(function() {\n",
       "                var nbb_cell_id = 2;\n",
       "                var nbb_unformatted_code = \"from rich.jupyter import print\";\n",
       "                var nbb_formatted_code = \"from rich.jupyter import print\";\n",
       "                var nbb_cells = Jupyter.notebook.get_cells();\n",
       "                for (var i = 0; i < nbb_cells.length; ++i) {\n",
       "                    if (nbb_cells[i].input_prompt_number == nbb_cell_id) {\n",
       "                        if (nbb_cells[i].get_text() == nbb_unformatted_code) {\n",
       "                             nbb_cells[i].set_text(nbb_formatted_code);\n",
       "                        }\n",
       "                        break;\n",
       "                    }\n",
       "                }\n",
       "            }, 500);\n",
       "            "
      ],
      "text/plain": [
       "<IPython.core.display.Javascript object>"
      ]
     },
     "metadata": {},
     "output_type": "display_data"
    }
   ],
   "source": [
    "from rich.jupyter import print"
   ]
  },
  {
   "cell_type": "markdown",
   "metadata": {},
   "source": [
    "# Create Episodes from Posts\n",
    "\n",
    "- Fetch production database dump and apply it locally\n",
    "- Set site to localhost in wagtailadmin\n",
    "- Migrate up to add episode migration\n",
    "- Convert Posts to Episodes\n",
    "- Recover slugs\n",
    "- Apply rename attributes and delete old attributes migration\n",
    "- Dump db and restore to staging"
   ]
  },
  {
   "cell_type": "code",
   "execution_count": 3,
   "metadata": {},
   "outputs": [
    {
     "data": {
      "application/javascript": [
       "\n",
       "            setTimeout(function() {\n",
       "                var nbb_cell_id = 3;\n",
       "                var nbb_unformatted_code = \"post = Post.objects.first()\";\n",
       "                var nbb_formatted_code = \"post = Post.objects.first()\";\n",
       "                var nbb_cells = Jupyter.notebook.get_cells();\n",
       "                for (var i = 0; i < nbb_cells.length; ++i) {\n",
       "                    if (nbb_cells[i].input_prompt_number == nbb_cell_id) {\n",
       "                        if (nbb_cells[i].get_text() == nbb_unformatted_code) {\n",
       "                             nbb_cells[i].set_text(nbb_formatted_code);\n",
       "                        }\n",
       "                        break;\n",
       "                    }\n",
       "                }\n",
       "            }, 500);\n",
       "            "
      ],
      "text/plain": [
       "<IPython.core.display.Javascript object>"
      ]
     },
     "metadata": {},
     "output_type": "display_data"
    }
   ],
   "source": [
    "post = Post.objects.first()"
   ]
  },
  {
   "cell_type": "code",
   "execution_count": 5,
   "metadata": {},
   "outputs": [
    {
     "data": {
      "application/javascript": [
       "\n",
       "            setTimeout(function() {\n",
       "                var nbb_cell_id = 5;\n",
       "                var nbb_unformatted_code = \"def post_to_episode(post, content_type):\\n    exclude = {\\\"id\\\", \\\"page_ptr_id\\\", \\\"page_ptr\\\", \\\"translation_key\\\"}\\n    kwargs = {\\n        f.name: getattr(post, f.name)\\n        for f in Post._meta.fields\\n        if f.name not in exclude\\n    }\\n    kwargs[\\\"slug\\\"] = f\\\"new_{post.slug}\\\"\\n    kwargs[\\\"content_type\\\"] = content_type\\n    kwargs[\\\"new_keywords\\\"] = post.keywords\\n    kwargs[\\\"new_block\\\"] = post.block\\n    kwargs[\\\"new_podcast_audio\\\"] = post.podcast_audio\\n    kwargs[\\\"new_explicit\\\"] = post.explicit\\n    return Episode(**kwargs)\";\n",
       "                var nbb_formatted_code = \"def post_to_episode(post, content_type):\\n    exclude = {\\\"id\\\", \\\"page_ptr_id\\\", \\\"page_ptr\\\", \\\"translation_key\\\"}\\n    kwargs = {\\n        f.name: getattr(post, f.name)\\n        for f in Post._meta.fields\\n        if f.name not in exclude\\n    }\\n    kwargs[\\\"slug\\\"] = f\\\"new_{post.slug}\\\"\\n    kwargs[\\\"content_type\\\"] = content_type\\n    kwargs[\\\"new_keywords\\\"] = post.keywords\\n    kwargs[\\\"new_block\\\"] = post.block\\n    kwargs[\\\"new_podcast_audio\\\"] = post.podcast_audio\\n    kwargs[\\\"new_explicit\\\"] = post.explicit\\n    return Episode(**kwargs)\";\n",
       "                var nbb_cells = Jupyter.notebook.get_cells();\n",
       "                for (var i = 0; i < nbb_cells.length; ++i) {\n",
       "                    if (nbb_cells[i].input_prompt_number == nbb_cell_id) {\n",
       "                        if (nbb_cells[i].get_text() == nbb_unformatted_code) {\n",
       "                             nbb_cells[i].set_text(nbb_formatted_code);\n",
       "                        }\n",
       "                        break;\n",
       "                    }\n",
       "                }\n",
       "            }, 500);\n",
       "            "
      ],
      "text/plain": [
       "<IPython.core.display.Javascript object>"
      ]
     },
     "metadata": {},
     "output_type": "display_data"
    }
   ],
   "source": [
    "def post_to_episode(post, content_type):\n",
    "    exclude = {\"id\", \"page_ptr_id\", \"page_ptr\", \"translation_key\"}\n",
    "    kwargs = {\n",
    "        f.name: getattr(post, f.name)\n",
    "        for f in Post._meta.fields\n",
    "        if f.name not in exclude\n",
    "    }\n",
    "    kwargs[\"slug\"] = f\"new_{post.slug}\"\n",
    "    kwargs[\"content_type\"] = content_type\n",
    "    kwargs[\"new_keywords\"] = post.keywords\n",
    "    kwargs[\"new_block\"] = post.block\n",
    "    kwargs[\"new_podcast_audio\"] = post.podcast_audio\n",
    "    kwargs[\"new_explicit\"] = post.explicit\n",
    "    return Episode(**kwargs)"
   ]
  },
  {
   "cell_type": "code",
   "execution_count": 6,
   "metadata": {},
   "outputs": [
    {
     "data": {
      "application/javascript": [
       "\n",
       "            setTimeout(function() {\n",
       "                var nbb_cell_id = 6;\n",
       "                var nbb_unformatted_code = \"episode_content_type = ContentType.objects.get(app_label=\\\"cast\\\", model=\\\"episode\\\")\\nblog = post.blog\\nfor post in Post.objects.all():\\n    if post.podcast_audio is None:\\n        continue\\n    episode = post_to_episode(post, episode_content_type)\\n    blog.add_child(instance=episode)\\n    post.delete()\";\n",
       "                var nbb_formatted_code = \"episode_content_type = ContentType.objects.get(app_label=\\\"cast\\\", model=\\\"episode\\\")\\nblog = post.blog\\nfor post in Post.objects.all():\\n    if post.podcast_audio is None:\\n        continue\\n    episode = post_to_episode(post, episode_content_type)\\n    blog.add_child(instance=episode)\\n    post.delete()\";\n",
       "                var nbb_cells = Jupyter.notebook.get_cells();\n",
       "                for (var i = 0; i < nbb_cells.length; ++i) {\n",
       "                    if (nbb_cells[i].input_prompt_number == nbb_cell_id) {\n",
       "                        if (nbb_cells[i].get_text() == nbb_unformatted_code) {\n",
       "                             nbb_cells[i].set_text(nbb_formatted_code);\n",
       "                        }\n",
       "                        break;\n",
       "                    }\n",
       "                }\n",
       "            }, 500);\n",
       "            "
      ],
      "text/plain": [
       "<IPython.core.display.Javascript object>"
      ]
     },
     "metadata": {},
     "output_type": "display_data"
    }
   ],
   "source": [
    "episode_content_type = ContentType.objects.get(app_label=\"cast\", model=\"episode\")\n",
    "blog = post.blog\n",
    "for post in Post.objects.all():\n",
    "    if post.podcast_audio is None:\n",
    "        continue\n",
    "    episode = post_to_episode(post, episode_content_type)\n",
    "    blog.add_child(instance=episode)\n",
    "    post.delete()"
   ]
  },
  {
   "cell_type": "code",
   "execution_count": 7,
   "metadata": {},
   "outputs": [
    {
     "data": {
      "application/javascript": [
       "\n",
       "            setTimeout(function() {\n",
       "                var nbb_cell_id = 7;\n",
       "                var nbb_unformatted_code = \"for episode in Episode.objects.all():\\n    episode.slug = episode.slug.removeprefix(\\\"new_\\\")\\n    episode.save()\";\n",
       "                var nbb_formatted_code = \"for episode in Episode.objects.all():\\n    episode.slug = episode.slug.removeprefix(\\\"new_\\\")\\n    episode.save()\";\n",
       "                var nbb_cells = Jupyter.notebook.get_cells();\n",
       "                for (var i = 0; i < nbb_cells.length; ++i) {\n",
       "                    if (nbb_cells[i].input_prompt_number == nbb_cell_id) {\n",
       "                        if (nbb_cells[i].get_text() == nbb_unformatted_code) {\n",
       "                             nbb_cells[i].set_text(nbb_formatted_code);\n",
       "                        }\n",
       "                        break;\n",
       "                    }\n",
       "                }\n",
       "            }, 500);\n",
       "            "
      ],
      "text/plain": [
       "<IPython.core.display.Javascript object>"
      ]
     },
     "metadata": {},
     "output_type": "display_data"
    }
   ],
   "source": [
    "for episode in Episode.objects.all():\n",
    "    episode.slug = episode.slug.removeprefix(\"new_\")\n",
    "    episode.save()"
   ]
  },
  {
   "cell_type": "code",
   "execution_count": 1,
   "metadata": {},
   "outputs": [
    {
     "name": "stdout",
     "output_type": "stream",
     "text": [
      "7 - Weihnachtsfolge - Episode 3\n",
      "14 - Machine Learning am Beispiel Bildklassifikation - Episode 8\n",
      "13 - Machine Learning am Beispiel Textklassifikation - Episode 7\n",
      "18 - Deployment von Webapplikationen - Episode 12\n",
      "20 - Python 3.8 - Episode 14\n",
      "21 - Fragen über Fragen - Episode 15\n",
      "23 - Python Entwicklungsumgebung 2020 Edition\n",
      "22 - pp_16\n",
      "24 - Suchmaschinen\n",
      "29 - Projektmanagement - \"es ist alles nicht so einfach\"\n",
      "26 - Corona aus der Data-Science Perspektive\n",
      "8 - Python für Einsteiger - Episode 4\n",
      "5 - Vorstellung und Python-Einführung - Episode 1\n",
      "15 - Content Management mit Django / Wagtail - Episode 9\n",
      "12 - Pandas - Episode 6\n",
      "9 - Datenbanken - Episode 5\n",
      "16 - Devops - Episode 10\n",
      "19 - Naive Bayes - Episode 13\n",
      "17 - Python in der Wissenschaft - Episode 11\n",
      "28 - Open Source\n",
      "27 - Javascript Frontends\n",
      "34 - Python Async Teil 1 - am Beispiel von Django\n",
      "63 - Ansible\n",
      "58 - FastAPI\n",
      "38 - Tests\n",
      "64 - Crypto / BitCoin / Smart Contracts etc\n",
      "59 - CSS / Markdown / Microservices\n",
      "65 - Python 3.11 und Listen\n",
      "39 - Python 3.9 und Design Patterns (Teil 1)\n",
      "61 - European XFEL - Röntgenlaser mit Python\n",
      "60 - Microservices\n",
      "40 - Security\n",
      "48 - Python in der Visual Effects Branche\n",
      "57 - HTMX\n",
      "44 - REST\n",
      "42 - Wins and Fails\n",
      "45 - Natural Language Processing / Spacy\n",
      "41 - Python Async Teil 2\n",
      "50 - DjangoCon Europe 2021\n",
      "43 - Vermischtes über Data Science, Machine Learning und nbdev\n",
      "6 - Django - Episode 2\n",
      "51 - Python Packaging\n",
      "62 - PostgresSQL und MariaDB\n",
      "55 - Was, wenn alles ein dict wäre?\n",
      "54 - Python 3.10\n",
      "56 - Refactoring\n",
      "52 - Das Python Importsystem\n",
      "1 - Jahresrückblick 2022 und eigene Projekte\n"
     ]
    }
   ],
   "source": [
    "for episode in Episode.objects.all():\n",
    "    print(episode.podcast_audio)"
   ]
  },
  {
   "cell_type": "code",
   "execution_count": 4,
   "metadata": {},
   "outputs": [],
   "source": [
    "#episode = Episode.objects.first()"
   ]
  },
  {
   "cell_type": "markdown",
   "metadata": {},
   "source": [
    "# Make Sure the Feed is Still Working"
   ]
  },
  {
   "cell_type": "code",
   "execution_count": 34,
   "metadata": {},
   "outputs": [],
   "source": [
    "import requests"
   ]
  },
  {
   "cell_type": "code",
   "execution_count": 35,
   "metadata": {},
   "outputs": [],
   "source": [
    "url = \"http://localhost:8000/show/feed/podcast/m4a/rss.xml\""
   ]
  },
  {
   "cell_type": "code",
   "execution_count": 36,
   "metadata": {},
   "outputs": [],
   "source": [
    "r = requests.get(url)"
   ]
  },
  {
   "cell_type": "code",
   "execution_count": 37,
   "metadata": {},
   "outputs": [
    {
     "data": {
      "text/plain": [
       "200"
      ]
     },
     "execution_count": 37,
     "metadata": {},
     "output_type": "execute_result"
    }
   ],
   "source": [
    "r.status_code"
   ]
  },
  {
   "cell_type": "code",
   "execution_count": 53,
   "metadata": {},
   "outputs": [],
   "source": [
    "#r.content"
   ]
  },
  {
   "cell_type": "code",
   "execution_count": 1,
   "metadata": {},
   "outputs": [
    {
     "data": {
      "text/plain": [
       "49"
      ]
     },
     "execution_count": 1,
     "metadata": {},
     "output_type": "execute_result"
    }
   ],
   "source": [
    "Post.objects.count()"
   ]
  },
  {
   "cell_type": "code",
   "execution_count": 43,
   "metadata": {},
   "outputs": [],
   "source": [
    "non_episode = Post.objects.first()"
   ]
  },
  {
   "cell_type": "code",
   "execution_count": 50,
   "metadata": {},
   "outputs": [
    {
     "data": {
      "text/plain": [
       "True"
      ]
     },
     "execution_count": 50,
     "metadata": {},
     "output_type": "execute_result"
    }
   ],
   "source": [
    "isinstance(non_episode.specific, Post)"
   ]
  },
  {
   "cell_type": "code",
   "execution_count": 39,
   "metadata": {},
   "outputs": [],
   "source": [
    "post = Post.objects.last()"
   ]
  },
  {
   "cell_type": "code",
   "execution_count": 40,
   "metadata": {},
   "outputs": [
    {
     "data": {
      "text/plain": [
       "'jahresruckblick-2022-und-ungelesene-macbooks'"
      ]
     },
     "execution_count": 40,
     "metadata": {},
     "output_type": "execute_result"
    }
   ],
   "source": [
    "post.slug"
   ]
  },
  {
   "cell_type": "code",
   "execution_count": 48,
   "metadata": {},
   "outputs": [
    {
     "data": {
      "text/plain": [
       "<Episode: Jahresrückblick 2022 und ungelesene MacBooks>"
      ]
     },
     "execution_count": 48,
     "metadata": {},
     "output_type": "execute_result"
    }
   ],
   "source": [
    "post.specific"
   ]
  },
  {
   "cell_type": "code",
   "execution_count": 52,
   "metadata": {},
   "outputs": [
    {
     "data": {
      "text/plain": [
       "True"
      ]
     },
     "execution_count": 52,
     "metadata": {},
     "output_type": "execute_result"
    }
   ],
   "source": [
    "isinstance(post.specific, Episode)"
   ]
  },
  {
   "cell_type": "code",
   "execution_count": 42,
   "metadata": {},
   "outputs": [
    {
     "ename": "AttributeError",
     "evalue": "'Post' object has no attribute 'podcast_audio'",
     "output_type": "error",
     "traceback": [
      "\u001b[0;31m---------------------------------------------------------------------------\u001b[0m",
      "\u001b[0;31mAttributeError\u001b[0m                            Traceback (most recent call last)",
      "Cell \u001b[0;32mIn[42], line 1\u001b[0m\n\u001b[0;32m----> 1\u001b[0m \u001b[43mpost\u001b[49m\u001b[38;5;241;43m.\u001b[39;49m\u001b[43mpodcast_audio\u001b[49m\n",
      "\u001b[0;31mAttributeError\u001b[0m: 'Post' object has no attribute 'podcast_audio'"
     ]
    }
   ],
   "source": [
    "post.podcast_audio"
   ]
  },
  {
   "cell_type": "code",
   "execution_count": 16,
   "metadata": {},
   "outputs": [
    {
     "data": {
      "text/plain": [
       "<Audio: 1 - Jahresrückblick 2022 und eigene Projekte>"
      ]
     },
     "execution_count": 16,
     "metadata": {},
     "output_type": "execute_result"
    }
   ],
   "source": [
    "post.specific.podcast_audio"
   ]
  },
  {
   "cell_type": "code",
   "execution_count": 17,
   "metadata": {},
   "outputs": [
    {
     "ename": "AttributeError",
     "evalue": "'Post' object has no attribute 'podcast_audio'",
     "output_type": "error",
     "traceback": [
      "\u001b[0;31m---------------------------------------------------------------------------\u001b[0m",
      "\u001b[0;31mAttributeError\u001b[0m                            Traceback (most recent call last)",
      "Cell \u001b[0;32mIn[17], line 1\u001b[0m\n\u001b[0;32m----> 1\u001b[0m \u001b[43mpost\u001b[49m\u001b[38;5;241;43m.\u001b[39;49m\u001b[43mpodcast_audio\u001b[49m\n",
      "\u001b[0;31mAttributeError\u001b[0m: 'Post' object has no attribute 'podcast_audio'"
     ]
    }
   ],
   "source": [
    "post.podcast_audio"
   ]
  },
  {
   "cell_type": "code",
   "execution_count": 12,
   "metadata": {},
   "outputs": [
    {
     "ename": "DoesNotExist",
     "evalue": "Episode matching query does not exist.",
     "output_type": "error",
     "traceback": [
      "\u001b[0;31m---------------------------------------------------------------------------\u001b[0m",
      "\u001b[0;31mDoesNotExist\u001b[0m                              Traceback (most recent call last)",
      "Cell \u001b[0;32mIn[12], line 1\u001b[0m\n\u001b[0;32m----> 1\u001b[0m \u001b[43mEpisode\u001b[49m\u001b[38;5;241;43m.\u001b[39;49m\u001b[43mobjects\u001b[49m\u001b[38;5;241;43m.\u001b[39;49m\u001b[43mget\u001b[49m\u001b[43m(\u001b[49m\u001b[43mslug\u001b[49m\u001b[38;5;241;43m=\u001b[39;49m\u001b[38;5;124;43m\"\u001b[39;49m\u001b[38;5;124;43mdesign-patterns-draft\u001b[39;49m\u001b[38;5;124;43m\"\u001b[39;49m\u001b[43m)\u001b[49m\n",
      "File \u001b[0;32m~/.virtualenvs/pp/lib/python3.11/site-packages/django/db/models/manager.py:85\u001b[0m, in \u001b[0;36mBaseManager._get_queryset_methods.<locals>.create_method.<locals>.manager_method\u001b[0;34m(self, *args, **kwargs)\u001b[0m\n\u001b[1;32m     84\u001b[0m \u001b[38;5;28;01mdef\u001b[39;00m \u001b[38;5;21mmanager_method\u001b[39m(\u001b[38;5;28mself\u001b[39m, \u001b[38;5;241m*\u001b[39margs, \u001b[38;5;241m*\u001b[39m\u001b[38;5;241m*\u001b[39mkwargs):\n\u001b[0;32m---> 85\u001b[0m     \u001b[38;5;28;01mreturn\u001b[39;00m \u001b[38;5;28;43mgetattr\u001b[39;49m\u001b[43m(\u001b[49m\u001b[38;5;28;43mself\u001b[39;49m\u001b[38;5;241;43m.\u001b[39;49m\u001b[43mget_queryset\u001b[49m\u001b[43m(\u001b[49m\u001b[43m)\u001b[49m\u001b[43m,\u001b[49m\u001b[43m \u001b[49m\u001b[43mname\u001b[49m\u001b[43m)\u001b[49m\u001b[43m(\u001b[49m\u001b[38;5;241;43m*\u001b[39;49m\u001b[43margs\u001b[49m\u001b[43m,\u001b[49m\u001b[43m \u001b[49m\u001b[38;5;241;43m*\u001b[39;49m\u001b[38;5;241;43m*\u001b[39;49m\u001b[43mkwargs\u001b[49m\u001b[43m)\u001b[49m\n",
      "File \u001b[0;32m~/.virtualenvs/pp/lib/python3.11/site-packages/django/db/models/query.py:650\u001b[0m, in \u001b[0;36mQuerySet.get\u001b[0;34m(self, *args, **kwargs)\u001b[0m\n\u001b[1;32m    648\u001b[0m     \u001b[38;5;28;01mreturn\u001b[39;00m clone\u001b[38;5;241m.\u001b[39m_result_cache[\u001b[38;5;241m0\u001b[39m]\n\u001b[1;32m    649\u001b[0m \u001b[38;5;28;01mif\u001b[39;00m \u001b[38;5;129;01mnot\u001b[39;00m num:\n\u001b[0;32m--> 650\u001b[0m     \u001b[38;5;28;01mraise\u001b[39;00m \u001b[38;5;28mself\u001b[39m\u001b[38;5;241m.\u001b[39mmodel\u001b[38;5;241m.\u001b[39mDoesNotExist(\n\u001b[1;32m    651\u001b[0m         \u001b[38;5;124m\"\u001b[39m\u001b[38;5;132;01m%s\u001b[39;00m\u001b[38;5;124m matching query does not exist.\u001b[39m\u001b[38;5;124m\"\u001b[39m \u001b[38;5;241m%\u001b[39m \u001b[38;5;28mself\u001b[39m\u001b[38;5;241m.\u001b[39mmodel\u001b[38;5;241m.\u001b[39m_meta\u001b[38;5;241m.\u001b[39mobject_name\n\u001b[1;32m    652\u001b[0m     )\n\u001b[1;32m    653\u001b[0m \u001b[38;5;28;01mraise\u001b[39;00m \u001b[38;5;28mself\u001b[39m\u001b[38;5;241m.\u001b[39mmodel\u001b[38;5;241m.\u001b[39mMultipleObjectsReturned(\n\u001b[1;32m    654\u001b[0m     \u001b[38;5;124m\"\u001b[39m\u001b[38;5;124mget() returned more than one \u001b[39m\u001b[38;5;132;01m%s\u001b[39;00m\u001b[38;5;124m -- it returned \u001b[39m\u001b[38;5;132;01m%s\u001b[39;00m\u001b[38;5;124m!\u001b[39m\u001b[38;5;124m\"\u001b[39m\n\u001b[1;32m    655\u001b[0m     \u001b[38;5;241m%\u001b[39m (\n\u001b[0;32m   (...)\u001b[0m\n\u001b[1;32m    658\u001b[0m     )\n\u001b[1;32m    659\u001b[0m )\n",
      "\u001b[0;31mDoesNotExist\u001b[0m: Episode matching query does not exist."
     ]
    }
   ],
   "source": [
    "Episode.objects.get(slug=\"design-patterns-draft\")"
   ]
  },
  {
   "cell_type": "code",
   "execution_count": null,
   "metadata": {},
   "outputs": [],
   "source": []
  }
 ],
 "metadata": {
  "kernelspec": {
   "display_name": "Django Kernel",
   "language": "python",
   "name": "django_extensions"
  },
  "language_info": {
   "codemirror_mode": {
    "name": "ipython",
    "version": 3
   },
   "file_extension": ".py",
   "mimetype": "text/x-python",
   "name": "python",
   "nbconvert_exporter": "python",
   "pygments_lexer": "ipython3",
   "version": "3.11.1"
  }
 },
 "nbformat": 4,
 "nbformat_minor": 2
}
