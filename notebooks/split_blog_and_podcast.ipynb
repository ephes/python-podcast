{
 "cells": [
  {
   "cell_type": "code",
   "execution_count": 1,
   "id": "beb3f3a3-54cf-46dd-8c9c-d4031dab022a",
   "metadata": {
    "tags": []
   },
   "outputs": [
    {
     "data": {
      "application/javascript": [
       "\n",
       "            setTimeout(function() {\n",
       "                var nbb_cell_id = 1;\n",
       "                var nbb_unformatted_code = \"%load_ext nb_black\";\n",
       "                var nbb_formatted_code = \"%load_ext nb_black\";\n",
       "                var nbb_cells = Jupyter.notebook.get_cells();\n",
       "                for (var i = 0; i < nbb_cells.length; ++i) {\n",
       "                    if (nbb_cells[i].input_prompt_number == nbb_cell_id) {\n",
       "                        if (nbb_cells[i].get_text() == nbb_unformatted_code) {\n",
       "                             nbb_cells[i].set_text(nbb_formatted_code);\n",
       "                        }\n",
       "                        break;\n",
       "                    }\n",
       "                }\n",
       "            }, 500);\n",
       "            "
      ],
      "text/plain": [
       "<IPython.core.display.Javascript object>"
      ]
     },
     "metadata": {},
     "output_type": "display_data"
    }
   ],
   "source": [
    "%load_ext nb_black"
   ]
  },
  {
   "cell_type": "code",
   "execution_count": 2,
   "id": "c89ee613-d47f-4971-836c-5635b916cd3e",
   "metadata": {
    "tags": []
   },
   "outputs": [
    {
     "data": {
      "application/javascript": [
       "\n",
       "            setTimeout(function() {\n",
       "                var nbb_cell_id = 2;\n",
       "                var nbb_unformatted_code = \"def blog_to_podcast(blog, content_type):\\n    exclude = {\\\"id\\\", \\\"page_ptr_id\\\", \\\"page_ptr\\\", \\\"translation_key\\\"}\\n    kwargs = {\\n        f.name: getattr(blog, f.name)\\n        for f in Blog._meta.fields\\n        if f.name not in exclude\\n    }\\n    kwargs[\\\"slug\\\"] = f\\\"new_{blog.slug}\\\"\\n    kwargs[\\\"content_type\\\"] = content_type\\n    kwargs[\\\"new_itunes_artwork\\\"] = blog.itunes_artwork\\n    kwargs[\\\"new_itunes_categories\\\"] = blog.itunes_categories\\n    kwargs[\\\"new_keywords\\\"] = blog.keywords\\n    kwargs[\\\"new_explicit\\\"] = blog.explicit\\n    return Podcast(**kwargs)\";\n",
       "                var nbb_formatted_code = \"def blog_to_podcast(blog, content_type):\\n    exclude = {\\\"id\\\", \\\"page_ptr_id\\\", \\\"page_ptr\\\", \\\"translation_key\\\"}\\n    kwargs = {\\n        f.name: getattr(blog, f.name)\\n        for f in Blog._meta.fields\\n        if f.name not in exclude\\n    }\\n    kwargs[\\\"slug\\\"] = f\\\"new_{blog.slug}\\\"\\n    kwargs[\\\"content_type\\\"] = content_type\\n    kwargs[\\\"new_itunes_artwork\\\"] = blog.itunes_artwork\\n    kwargs[\\\"new_itunes_categories\\\"] = blog.itunes_categories\\n    kwargs[\\\"new_keywords\\\"] = blog.keywords\\n    kwargs[\\\"new_explicit\\\"] = blog.explicit\\n    return Podcast(**kwargs)\";\n",
       "                var nbb_cells = Jupyter.notebook.get_cells();\n",
       "                for (var i = 0; i < nbb_cells.length; ++i) {\n",
       "                    if (nbb_cells[i].input_prompt_number == nbb_cell_id) {\n",
       "                        if (nbb_cells[i].get_text() == nbb_unformatted_code) {\n",
       "                             nbb_cells[i].set_text(nbb_formatted_code);\n",
       "                        }\n",
       "                        break;\n",
       "                    }\n",
       "                }\n",
       "            }, 500);\n",
       "            "
      ],
      "text/plain": [
       "<IPython.core.display.Javascript object>"
      ]
     },
     "metadata": {},
     "output_type": "display_data"
    }
   ],
   "source": [
    "def blog_to_podcast(blog, content_type):\n",
    "    exclude = {\"id\", \"page_ptr_id\", \"page_ptr\", \"translation_key\"}\n",
    "    kwargs = {\n",
    "        f.name: getattr(blog, f.name)\n",
    "        for f in Blog._meta.fields\n",
    "        if f.name not in exclude\n",
    "    }\n",
    "    kwargs[\"slug\"] = f\"new_{blog.slug}\"\n",
    "    kwargs[\"content_type\"] = content_type\n",
    "    kwargs[\"new_itunes_artwork\"] = blog.itunes_artwork\n",
    "    kwargs[\"new_itunes_categories\"] = blog.itunes_categories\n",
    "    kwargs[\"new_keywords\"] = blog.keywords\n",
    "    kwargs[\"new_explicit\"] = blog.explicit\n",
    "    return Podcast(**kwargs)"
   ]
  },
  {
   "cell_type": "code",
   "execution_count": 3,
   "id": "46548c33-4e5a-4c26-afe6-ffaa72faba3a",
   "metadata": {
    "tags": []
   },
   "outputs": [
    {
     "name": "stdout",
     "output_type": "stream",
     "text": [
      "Operations to perform:\n",
      "  Apply all migrations: account, admin, auth, authtoken, cast, contenttypes, django_comments, fluent_comments, indieweb, sessions, sites, socialaccount, taggit, threadedcomments, users, wagtailadmin, wagtailcore, wagtaildocs, wagtailembeds, wagtailforms, wagtailimages, wagtailredirects, wagtailsearch, wagtailusers\n",
      "Running migrations:\n",
      "  Applying cast.0033_add_new_podcast_model... OK\n",
      "Checking page tree for problems...\n",
      "Incorrect numchild value found for pages: [120]\n",
      "All problems fixed.\n",
      "\n",
      "Checking collection tree for problems...\n",
      "No problems found.\n",
      "\n"
     ]
    },
    {
     "data": {
      "application/javascript": [
       "\n",
       "            setTimeout(function() {\n",
       "                var nbb_cell_id = 3;\n",
       "                var nbb_unformatted_code = \"# first migration to add podcast model\\nfrom django.core.management import call_command\\ncall_command(\\\"migrate\\\")\\n\\n# get the original blog + parent\\nblog = Blog.objects.first()\\noriginal_slug = blog.slug\\nblog_parent = Page.objects.parent_of(blog).first()\\n\\n# fix hostname and port\\nsite = Site.objects.first()\\nsite.hostname = \\\"localhost\\\"\\nsite.port = 8000\\nsite.save()\\n\\n# create new page\\npodcast_content_type = ContentType.objects.get(app_label=\\\"cast\\\", model=\\\"podcast\\\")\\npodcast = blog_to_podcast(blog, podcast_content_type)\\npodcast = blog_parent.add_child(instance=podcast)\\n# podcast = Podcast.objects.first()  # super important!\\n\\n# fix treebeard, dunno why this is needed\\nfrom django.core.management import call_command\\ncall_command(\\\"fixtree\\\")\\npodcast = Podcast.objects.first()  # super important!\\n\\n# move children - this is extremely brittle!\\nfrom wagtail.actions.move_page import MovePageAction\\nfor child in blog.get_children():\\n    mpa = MovePageAction(child, podcast, pos=\\\"last-child\\\")\\n    mpa.execute()\\n\\n# delete old page\\nblog.delete()\\n\\n# restore slug\\npodcast.slug = original_slug\\npodcast.save()\";\n",
       "                var nbb_formatted_code = \"# first migration to add podcast model\\nfrom django.core.management import call_command\\n\\ncall_command(\\\"migrate\\\")\\n\\n# get the original blog + parent\\nblog = Blog.objects.first()\\noriginal_slug = blog.slug\\nblog_parent = Page.objects.parent_of(blog).first()\\n\\n# fix hostname and port\\nsite = Site.objects.first()\\nsite.hostname = \\\"localhost\\\"\\nsite.port = 8000\\nsite.save()\\n\\n# create new page\\npodcast_content_type = ContentType.objects.get(app_label=\\\"cast\\\", model=\\\"podcast\\\")\\npodcast = blog_to_podcast(blog, podcast_content_type)\\npodcast = blog_parent.add_child(instance=podcast)\\n# podcast = Podcast.objects.first()  # super important!\\n\\n# fix treebeard, dunno why this is needed\\nfrom django.core.management import call_command\\n\\ncall_command(\\\"fixtree\\\")\\npodcast = Podcast.objects.first()  # super important!\\n\\n# move children - this is extremely brittle!\\nfrom wagtail.actions.move_page import MovePageAction\\n\\nfor child in blog.get_children():\\n    mpa = MovePageAction(child, podcast, pos=\\\"last-child\\\")\\n    mpa.execute()\\n\\n# delete old page\\nblog.delete()\\n\\n# restore slug\\npodcast.slug = original_slug\\npodcast.save()\";\n",
       "                var nbb_cells = Jupyter.notebook.get_cells();\n",
       "                for (var i = 0; i < nbb_cells.length; ++i) {\n",
       "                    if (nbb_cells[i].input_prompt_number == nbb_cell_id) {\n",
       "                        if (nbb_cells[i].get_text() == nbb_unformatted_code) {\n",
       "                             nbb_cells[i].set_text(nbb_formatted_code);\n",
       "                        }\n",
       "                        break;\n",
       "                    }\n",
       "                }\n",
       "            }, 500);\n",
       "            "
      ],
      "text/plain": [
       "<IPython.core.display.Javascript object>"
      ]
     },
     "metadata": {},
     "output_type": "display_data"
    }
   ],
   "source": [
    "# first migration to add podcast model\n",
    "from django.core.management import call_command\n",
    "call_command(\"migrate\")\n",
    "\n",
    "# get the original blog + parent\n",
    "blog = Blog.objects.first()\n",
    "original_slug = blog.slug\n",
    "blog_parent = Page.objects.parent_of(blog).first()\n",
    "\n",
    "# fix hostname and port\n",
    "site = Site.objects.first()\n",
    "site.hostname = \"localhost\"\n",
    "site.port = 8000\n",
    "site.save()\n",
    "\n",
    "# create new page\n",
    "podcast_content_type = ContentType.objects.get(app_label=\"cast\", model=\"podcast\")\n",
    "podcast = blog_to_podcast(blog, podcast_content_type)\n",
    "podcast = blog_parent.add_child(instance=podcast)\n",
    "\n",
    "# fix treebeard, dunno why this is needed\n",
    "from django.core.management import call_command\n",
    "call_command(\"fixtree\")\n",
    "podcast = Podcast.objects.first()  # super important!\n",
    "\n",
    "# move children - this is extremely brittle!\n",
    "from wagtail.actions.move_page import MovePageAction\n",
    "for child in blog.get_children():\n",
    "    mpa = MovePageAction(child, podcast, pos=\"last-child\")\n",
    "    mpa.execute()\n",
    "\n",
    "# delete old page\n",
    "blog.delete()\n",
    "\n",
    "# restore slug\n",
    "podcast.slug = original_slug\n",
    "podcast.save()"
   ]
  },
  {
   "cell_type": "code",
   "execution_count": 4,
   "id": "6851421f-8ea2-4df2-a731-294b657659ab",
   "metadata": {
    "tags": []
   },
   "outputs": [
    {
     "data": {
      "application/javascript": [
       "\n",
       "            setTimeout(function() {\n",
       "                var nbb_cell_id = 4;\n",
       "                var nbb_unformatted_code = \"episode = Episode.objects.first()\";\n",
       "                var nbb_formatted_code = \"episode = Episode.objects.first()\";\n",
       "                var nbb_cells = Jupyter.notebook.get_cells();\n",
       "                for (var i = 0; i < nbb_cells.length; ++i) {\n",
       "                    if (nbb_cells[i].input_prompt_number == nbb_cell_id) {\n",
       "                        if (nbb_cells[i].get_text() == nbb_unformatted_code) {\n",
       "                             nbb_cells[i].set_text(nbb_formatted_code);\n",
       "                        }\n",
       "                        break;\n",
       "                    }\n",
       "                }\n",
       "            }, 500);\n",
       "            "
      ],
      "text/plain": [
       "<IPython.core.display.Javascript object>"
      ]
     },
     "metadata": {},
     "output_type": "display_data"
    }
   ],
   "source": [
    "episode = Episode.objects.first()"
   ]
  },
  {
   "cell_type": "code",
   "execution_count": 5,
   "id": "d9b2c35e-8141-4ea6-b4fe-48f16f0c38ee",
   "metadata": {
    "tags": []
   },
   "outputs": [
    {
     "ename": "AttributeError",
     "evalue": "'Episode' object has no attribute 'podcast'",
     "output_type": "error",
     "traceback": [
      "\u001B[0;31m---------------------------------------------------------------------------\u001B[0m",
      "\u001B[0;31mAttributeError\u001B[0m                            Traceback (most recent call last)",
      "Cell \u001B[0;32mIn[5], line 1\u001B[0m\n\u001B[0;32m----> 1\u001B[0m \u001B[43mepisode\u001B[49m\u001B[38;5;241;43m.\u001B[39;49m\u001B[43mpodcast\u001B[49m\n",
      "\u001B[0;31mAttributeError\u001B[0m: 'Episode' object has no attribute 'podcast'"
     ]
    },
    {
     "data": {
      "application/javascript": [
       "\n",
       "            setTimeout(function() {\n",
       "                var nbb_cell_id = 5;\n",
       "                var nbb_unformatted_code = \"episode.podcast\";\n",
       "                var nbb_formatted_code = \"episode.podcast\";\n",
       "                var nbb_cells = Jupyter.notebook.get_cells();\n",
       "                for (var i = 0; i < nbb_cells.length; ++i) {\n",
       "                    if (nbb_cells[i].input_prompt_number == nbb_cell_id) {\n",
       "                        if (nbb_cells[i].get_text() == nbb_unformatted_code) {\n",
       "                             nbb_cells[i].set_text(nbb_formatted_code);\n",
       "                        }\n",
       "                        break;\n",
       "                    }\n",
       "                }\n",
       "            }, 500);\n",
       "            "
      ],
      "text/plain": [
       "<IPython.core.display.Javascript object>"
      ]
     },
     "metadata": {},
     "output_type": "display_data"
    }
   ],
   "source": [
    "episode.podcast"
   ]
  },
  {
   "cell_type": "code",
   "execution_count": 10,
   "id": "be4f3a91-6c33-433a-b357-54adcd2bef9c",
   "metadata": {
    "tags": []
   },
   "outputs": [
    {
     "data": {
      "application/javascript": [
       "\n",
       "            setTimeout(function() {\n",
       "                var nbb_cell_id = 10;\n",
       "                var nbb_unformatted_code = \"page = episode.get_parent()\";\n",
       "                var nbb_formatted_code = \"page = episode.get_parent()\";\n",
       "                var nbb_cells = Jupyter.notebook.get_cells();\n",
       "                for (var i = 0; i < nbb_cells.length; ++i) {\n",
       "                    if (nbb_cells[i].input_prompt_number == nbb_cell_id) {\n",
       "                        if (nbb_cells[i].get_text() == nbb_unformatted_code) {\n",
       "                             nbb_cells[i].set_text(nbb_formatted_code);\n",
       "                        }\n",
       "                        break;\n",
       "                    }\n",
       "                }\n",
       "            }, 500);\n",
       "            "
      ],
      "text/plain": [
       "<IPython.core.display.Javascript object>"
      ]
     },
     "metadata": {},
     "output_type": "display_data"
    }
   ],
   "source": [
    "page = episode.get_parent()"
   ]
  },
  {
   "cell_type": "code",
   "execution_count": 11,
   "id": "acaea52d-9374-41b6-9106-46b0696e9e7d",
   "metadata": {
    "tags": []
   },
   "outputs": [
    {
     "data": {
      "text/plain": [
       "<Podcast: Python Podcast>"
      ]
     },
     "execution_count": 11,
     "metadata": {},
     "output_type": "execute_result"
    },
    {
     "data": {
      "application/javascript": [
       "\n",
       "            setTimeout(function() {\n",
       "                var nbb_cell_id = 11;\n",
       "                var nbb_unformatted_code = \"page.specific\";\n",
       "                var nbb_formatted_code = \"page.specific\";\n",
       "                var nbb_cells = Jupyter.notebook.get_cells();\n",
       "                for (var i = 0; i < nbb_cells.length; ++i) {\n",
       "                    if (nbb_cells[i].input_prompt_number == nbb_cell_id) {\n",
       "                        if (nbb_cells[i].get_text() == nbb_unformatted_code) {\n",
       "                             nbb_cells[i].set_text(nbb_formatted_code);\n",
       "                        }\n",
       "                        break;\n",
       "                    }\n",
       "                }\n",
       "            }, 500);\n",
       "            "
      ],
      "text/plain": [
       "<IPython.core.display.Javascript object>"
      ]
     },
     "metadata": {},
     "output_type": "display_data"
    }
   ],
   "source": [
    "page.specific"
   ]
  },
  {
   "cell_type": "code",
   "execution_count": 4,
   "id": "dc1c1efd-186f-45d7-84ee-97103e235bf2",
   "metadata": {
    "tags": []
   },
   "outputs": [
    {
     "ename": "ProgrammingError",
     "evalue": "column cast_blog.itunes_artwork_id does not exist\nLINE 1: ...st_blog\".\"email\", \"cast_blog\".\"comments_enabled\", \"cast_blog...\n                                                             ^\n",
     "output_type": "error",
     "traceback": [
      "\u001B[0;31m---------------------------------------------------------------------------\u001B[0m",
      "\u001B[0;31mUndefinedColumn\u001B[0m                           Traceback (most recent call last)",
      "File \u001B[0;32m~/.virtualenvs/pp/lib/python3.11/site-packages/django/db/backends/utils.py:89\u001B[0m, in \u001B[0;36mCursorWrapper._execute\u001B[0;34m(self, sql, params, *ignored_wrapper_args)\u001B[0m\n\u001B[1;32m     88\u001B[0m \u001B[38;5;28;01melse\u001B[39;00m:\n\u001B[0;32m---> 89\u001B[0m     \u001B[38;5;28;01mreturn\u001B[39;00m \u001B[38;5;28;43mself\u001B[39;49m\u001B[38;5;241;43m.\u001B[39;49m\u001B[43mcursor\u001B[49m\u001B[38;5;241;43m.\u001B[39;49m\u001B[43mexecute\u001B[49m\u001B[43m(\u001B[49m\u001B[43msql\u001B[49m\u001B[43m,\u001B[49m\u001B[43m \u001B[49m\u001B[43mparams\u001B[49m\u001B[43m)\u001B[49m\n",
      "\u001B[0;31mUndefinedColumn\u001B[0m: column cast_blog.itunes_artwork_id does not exist\nLINE 1: ...st_blog\".\"email\", \"cast_blog\".\"comments_enabled\", \"cast_blog...\n                                                             ^\n",
      "\nThe above exception was the direct cause of the following exception:\n",
      "\u001B[0;31mProgrammingError\u001B[0m                          Traceback (most recent call last)",
      "Cell \u001B[0;32mIn[4], line 1\u001B[0m\n\u001B[0;32m----> 1\u001B[0m \u001B[43mBlog\u001B[49m\u001B[38;5;241;43m.\u001B[39;49m\u001B[43mobjects\u001B[49m\u001B[38;5;241;43m.\u001B[39;49m\u001B[43mfirst\u001B[49m\u001B[43m(\u001B[49m\u001B[43m)\u001B[49m\n",
      "File \u001B[0;32m~/.virtualenvs/pp/lib/python3.11/site-packages/django/db/models/manager.py:85\u001B[0m, in \u001B[0;36mBaseManager._get_queryset_methods.<locals>.create_method.<locals>.manager_method\u001B[0;34m(self, *args, **kwargs)\u001B[0m\n\u001B[1;32m     84\u001B[0m \u001B[38;5;28;01mdef\u001B[39;00m \u001B[38;5;21mmanager_method\u001B[39m(\u001B[38;5;28mself\u001B[39m, \u001B[38;5;241m*\u001B[39margs, \u001B[38;5;241m*\u001B[39m\u001B[38;5;241m*\u001B[39mkwargs):\n\u001B[0;32m---> 85\u001B[0m     \u001B[38;5;28;01mreturn\u001B[39;00m \u001B[38;5;28;43mgetattr\u001B[39;49m\u001B[43m(\u001B[49m\u001B[38;5;28;43mself\u001B[39;49m\u001B[38;5;241;43m.\u001B[39;49m\u001B[43mget_queryset\u001B[49m\u001B[43m(\u001B[49m\u001B[43m)\u001B[49m\u001B[43m,\u001B[49m\u001B[43m \u001B[49m\u001B[43mname\u001B[49m\u001B[43m)\u001B[49m\u001B[43m(\u001B[49m\u001B[38;5;241;43m*\u001B[39;49m\u001B[43margs\u001B[49m\u001B[43m,\u001B[49m\u001B[43m \u001B[49m\u001B[38;5;241;43m*\u001B[39;49m\u001B[38;5;241;43m*\u001B[39;49m\u001B[43mkwargs\u001B[49m\u001B[43m)\u001B[49m\n",
      "File \u001B[0;32m~/.virtualenvs/pp/lib/python3.11/site-packages/django/db/models/query.py:1047\u001B[0m, in \u001B[0;36mQuerySet.first\u001B[0;34m(self)\u001B[0m\n\u001B[1;32m   1045\u001B[0m \u001B[38;5;28;01mdef\u001B[39;00m \u001B[38;5;21mfirst\u001B[39m(\u001B[38;5;28mself\u001B[39m):\n\u001B[1;32m   1046\u001B[0m \u001B[38;5;250m    \u001B[39m\u001B[38;5;124;03m\"\"\"Return the first object of a query or None if no match is found.\"\"\"\u001B[39;00m\n\u001B[0;32m-> 1047\u001B[0m     \u001B[38;5;28;01mfor\u001B[39;00m obj \u001B[38;5;129;01min\u001B[39;00m (\u001B[38;5;28mself\u001B[39m \u001B[38;5;28;01mif\u001B[39;00m \u001B[38;5;28mself\u001B[39m\u001B[38;5;241m.\u001B[39mordered \u001B[38;5;28;01melse\u001B[39;00m \u001B[38;5;28mself\u001B[39m\u001B[38;5;241m.\u001B[39morder_by(\u001B[38;5;124m\"\u001B[39m\u001B[38;5;124mpk\u001B[39m\u001B[38;5;124m\"\u001B[39m))[:\u001B[38;5;241m1\u001B[39m]:\n\u001B[1;32m   1048\u001B[0m         \u001B[38;5;28;01mreturn\u001B[39;00m obj\n",
      "File \u001B[0;32m~/.virtualenvs/pp/lib/python3.11/site-packages/django/db/models/query.py:394\u001B[0m, in \u001B[0;36mQuerySet.__iter__\u001B[0;34m(self)\u001B[0m\n\u001B[1;32m    379\u001B[0m \u001B[38;5;28;01mdef\u001B[39;00m \u001B[38;5;21m__iter__\u001B[39m(\u001B[38;5;28mself\u001B[39m):\n\u001B[1;32m    380\u001B[0m \u001B[38;5;250m    \u001B[39m\u001B[38;5;124;03m\"\"\"\u001B[39;00m\n\u001B[1;32m    381\u001B[0m \u001B[38;5;124;03m    The queryset iterator protocol uses three nested iterators in the\u001B[39;00m\n\u001B[1;32m    382\u001B[0m \u001B[38;5;124;03m    default case:\u001B[39;00m\n\u001B[0;32m   (...)\u001B[0m\n\u001B[1;32m    392\u001B[0m \u001B[38;5;124;03m           - Responsible for turning the rows into model objects.\u001B[39;00m\n\u001B[1;32m    393\u001B[0m \u001B[38;5;124;03m    \"\"\"\u001B[39;00m\n\u001B[0;32m--> 394\u001B[0m     \u001B[38;5;28;43mself\u001B[39;49m\u001B[38;5;241;43m.\u001B[39;49m\u001B[43m_fetch_all\u001B[49m\u001B[43m(\u001B[49m\u001B[43m)\u001B[49m\n\u001B[1;32m    395\u001B[0m     \u001B[38;5;28;01mreturn\u001B[39;00m \u001B[38;5;28miter\u001B[39m(\u001B[38;5;28mself\u001B[39m\u001B[38;5;241m.\u001B[39m_result_cache)\n",
      "File \u001B[0;32m~/.virtualenvs/pp/lib/python3.11/site-packages/django/db/models/query.py:1867\u001B[0m, in \u001B[0;36mQuerySet._fetch_all\u001B[0;34m(self)\u001B[0m\n\u001B[1;32m   1865\u001B[0m \u001B[38;5;28;01mdef\u001B[39;00m \u001B[38;5;21m_fetch_all\u001B[39m(\u001B[38;5;28mself\u001B[39m):\n\u001B[1;32m   1866\u001B[0m     \u001B[38;5;28;01mif\u001B[39;00m \u001B[38;5;28mself\u001B[39m\u001B[38;5;241m.\u001B[39m_result_cache \u001B[38;5;129;01mis\u001B[39;00m \u001B[38;5;28;01mNone\u001B[39;00m:\n\u001B[0;32m-> 1867\u001B[0m         \u001B[38;5;28mself\u001B[39m\u001B[38;5;241m.\u001B[39m_result_cache \u001B[38;5;241m=\u001B[39m \u001B[38;5;28mlist\u001B[39m(\u001B[38;5;28mself\u001B[39m\u001B[38;5;241m.\u001B[39m_iterable_class(\u001B[38;5;28mself\u001B[39m))\n\u001B[1;32m   1868\u001B[0m     \u001B[38;5;28;01mif\u001B[39;00m \u001B[38;5;28mself\u001B[39m\u001B[38;5;241m.\u001B[39m_prefetch_related_lookups \u001B[38;5;129;01mand\u001B[39;00m \u001B[38;5;129;01mnot\u001B[39;00m \u001B[38;5;28mself\u001B[39m\u001B[38;5;241m.\u001B[39m_prefetch_done:\n\u001B[1;32m   1869\u001B[0m         \u001B[38;5;28mself\u001B[39m\u001B[38;5;241m.\u001B[39m_prefetch_related_objects()\n",
      "File \u001B[0;32m~/.virtualenvs/pp/lib/python3.11/site-packages/django/db/models/query.py:87\u001B[0m, in \u001B[0;36mModelIterable.__iter__\u001B[0;34m(self)\u001B[0m\n\u001B[1;32m     84\u001B[0m compiler \u001B[38;5;241m=\u001B[39m queryset\u001B[38;5;241m.\u001B[39mquery\u001B[38;5;241m.\u001B[39mget_compiler(using\u001B[38;5;241m=\u001B[39mdb)\n\u001B[1;32m     85\u001B[0m \u001B[38;5;66;03m# Execute the query. This will also fill compiler.select, klass_info,\u001B[39;00m\n\u001B[1;32m     86\u001B[0m \u001B[38;5;66;03m# and annotations.\u001B[39;00m\n\u001B[0;32m---> 87\u001B[0m results \u001B[38;5;241m=\u001B[39m \u001B[43mcompiler\u001B[49m\u001B[38;5;241;43m.\u001B[39;49m\u001B[43mexecute_sql\u001B[49m\u001B[43m(\u001B[49m\n\u001B[1;32m     88\u001B[0m \u001B[43m    \u001B[49m\u001B[43mchunked_fetch\u001B[49m\u001B[38;5;241;43m=\u001B[39;49m\u001B[38;5;28;43mself\u001B[39;49m\u001B[38;5;241;43m.\u001B[39;49m\u001B[43mchunked_fetch\u001B[49m\u001B[43m,\u001B[49m\u001B[43m \u001B[49m\u001B[43mchunk_size\u001B[49m\u001B[38;5;241;43m=\u001B[39;49m\u001B[38;5;28;43mself\u001B[39;49m\u001B[38;5;241;43m.\u001B[39;49m\u001B[43mchunk_size\u001B[49m\n\u001B[1;32m     89\u001B[0m \u001B[43m\u001B[49m\u001B[43m)\u001B[49m\n\u001B[1;32m     90\u001B[0m select, klass_info, annotation_col_map \u001B[38;5;241m=\u001B[39m (\n\u001B[1;32m     91\u001B[0m     compiler\u001B[38;5;241m.\u001B[39mselect,\n\u001B[1;32m     92\u001B[0m     compiler\u001B[38;5;241m.\u001B[39mklass_info,\n\u001B[1;32m     93\u001B[0m     compiler\u001B[38;5;241m.\u001B[39mannotation_col_map,\n\u001B[1;32m     94\u001B[0m )\n\u001B[1;32m     95\u001B[0m model_cls \u001B[38;5;241m=\u001B[39m klass_info[\u001B[38;5;124m\"\u001B[39m\u001B[38;5;124mmodel\u001B[39m\u001B[38;5;124m\"\u001B[39m]\n",
      "File \u001B[0;32m~/.virtualenvs/pp/lib/python3.11/site-packages/django/db/models/sql/compiler.py:1398\u001B[0m, in \u001B[0;36mSQLCompiler.execute_sql\u001B[0;34m(self, result_type, chunked_fetch, chunk_size)\u001B[0m\n\u001B[1;32m   1396\u001B[0m     cursor \u001B[38;5;241m=\u001B[39m \u001B[38;5;28mself\u001B[39m\u001B[38;5;241m.\u001B[39mconnection\u001B[38;5;241m.\u001B[39mcursor()\n\u001B[1;32m   1397\u001B[0m \u001B[38;5;28;01mtry\u001B[39;00m:\n\u001B[0;32m-> 1398\u001B[0m     \u001B[43mcursor\u001B[49m\u001B[38;5;241;43m.\u001B[39;49m\u001B[43mexecute\u001B[49m\u001B[43m(\u001B[49m\u001B[43msql\u001B[49m\u001B[43m,\u001B[49m\u001B[43m \u001B[49m\u001B[43mparams\u001B[49m\u001B[43m)\u001B[49m\n\u001B[1;32m   1399\u001B[0m \u001B[38;5;28;01mexcept\u001B[39;00m \u001B[38;5;167;01mException\u001B[39;00m:\n\u001B[1;32m   1400\u001B[0m     \u001B[38;5;66;03m# Might fail for server-side cursors (e.g. connection closed)\u001B[39;00m\n\u001B[1;32m   1401\u001B[0m     cursor\u001B[38;5;241m.\u001B[39mclose()\n",
      "File \u001B[0;32m~/.virtualenvs/pp/lib/python3.11/site-packages/django/db/backends/utils.py:103\u001B[0m, in \u001B[0;36mCursorDebugWrapper.execute\u001B[0;34m(self, sql, params)\u001B[0m\n\u001B[1;32m    101\u001B[0m \u001B[38;5;28;01mdef\u001B[39;00m \u001B[38;5;21mexecute\u001B[39m(\u001B[38;5;28mself\u001B[39m, sql, params\u001B[38;5;241m=\u001B[39m\u001B[38;5;28;01mNone\u001B[39;00m):\n\u001B[1;32m    102\u001B[0m     \u001B[38;5;28;01mwith\u001B[39;00m \u001B[38;5;28mself\u001B[39m\u001B[38;5;241m.\u001B[39mdebug_sql(sql, params, use_last_executed_query\u001B[38;5;241m=\u001B[39m\u001B[38;5;28;01mTrue\u001B[39;00m):\n\u001B[0;32m--> 103\u001B[0m         \u001B[38;5;28;01mreturn\u001B[39;00m \u001B[38;5;28;43msuper\u001B[39;49m\u001B[43m(\u001B[49m\u001B[43m)\u001B[49m\u001B[38;5;241;43m.\u001B[39;49m\u001B[43mexecute\u001B[49m\u001B[43m(\u001B[49m\u001B[43msql\u001B[49m\u001B[43m,\u001B[49m\u001B[43m \u001B[49m\u001B[43mparams\u001B[49m\u001B[43m)\u001B[49m\n",
      "File \u001B[0;32m~/.virtualenvs/pp/lib/python3.11/site-packages/django/db/backends/utils.py:67\u001B[0m, in \u001B[0;36mCursorWrapper.execute\u001B[0;34m(self, sql, params)\u001B[0m\n\u001B[1;32m     66\u001B[0m \u001B[38;5;28;01mdef\u001B[39;00m \u001B[38;5;21mexecute\u001B[39m(\u001B[38;5;28mself\u001B[39m, sql, params\u001B[38;5;241m=\u001B[39m\u001B[38;5;28;01mNone\u001B[39;00m):\n\u001B[0;32m---> 67\u001B[0m     \u001B[38;5;28;01mreturn\u001B[39;00m \u001B[38;5;28;43mself\u001B[39;49m\u001B[38;5;241;43m.\u001B[39;49m\u001B[43m_execute_with_wrappers\u001B[49m\u001B[43m(\u001B[49m\n\u001B[1;32m     68\u001B[0m \u001B[43m        \u001B[49m\u001B[43msql\u001B[49m\u001B[43m,\u001B[49m\u001B[43m \u001B[49m\u001B[43mparams\u001B[49m\u001B[43m,\u001B[49m\u001B[43m \u001B[49m\u001B[43mmany\u001B[49m\u001B[38;5;241;43m=\u001B[39;49m\u001B[38;5;28;43;01mFalse\u001B[39;49;00m\u001B[43m,\u001B[49m\u001B[43m \u001B[49m\u001B[43mexecutor\u001B[49m\u001B[38;5;241;43m=\u001B[39;49m\u001B[38;5;28;43mself\u001B[39;49m\u001B[38;5;241;43m.\u001B[39;49m\u001B[43m_execute\u001B[49m\n\u001B[1;32m     69\u001B[0m \u001B[43m    \u001B[49m\u001B[43m)\u001B[49m\n",
      "File \u001B[0;32m~/.virtualenvs/pp/lib/python3.11/site-packages/django/db/backends/utils.py:80\u001B[0m, in \u001B[0;36mCursorWrapper._execute_with_wrappers\u001B[0;34m(self, sql, params, many, executor)\u001B[0m\n\u001B[1;32m     78\u001B[0m \u001B[38;5;28;01mfor\u001B[39;00m wrapper \u001B[38;5;129;01min\u001B[39;00m \u001B[38;5;28mreversed\u001B[39m(\u001B[38;5;28mself\u001B[39m\u001B[38;5;241m.\u001B[39mdb\u001B[38;5;241m.\u001B[39mexecute_wrappers):\n\u001B[1;32m     79\u001B[0m     executor \u001B[38;5;241m=\u001B[39m functools\u001B[38;5;241m.\u001B[39mpartial(wrapper, executor)\n\u001B[0;32m---> 80\u001B[0m \u001B[38;5;28;01mreturn\u001B[39;00m \u001B[43mexecutor\u001B[49m\u001B[43m(\u001B[49m\u001B[43msql\u001B[49m\u001B[43m,\u001B[49m\u001B[43m \u001B[49m\u001B[43mparams\u001B[49m\u001B[43m,\u001B[49m\u001B[43m \u001B[49m\u001B[43mmany\u001B[49m\u001B[43m,\u001B[49m\u001B[43m \u001B[49m\u001B[43mcontext\u001B[49m\u001B[43m)\u001B[49m\n",
      "File \u001B[0;32m~/.virtualenvs/pp/lib/python3.11/site-packages/django/db/backends/utils.py:84\u001B[0m, in \u001B[0;36mCursorWrapper._execute\u001B[0;34m(self, sql, params, *ignored_wrapper_args)\u001B[0m\n\u001B[1;32m     82\u001B[0m \u001B[38;5;28;01mdef\u001B[39;00m \u001B[38;5;21m_execute\u001B[39m(\u001B[38;5;28mself\u001B[39m, sql, params, \u001B[38;5;241m*\u001B[39mignored_wrapper_args):\n\u001B[1;32m     83\u001B[0m     \u001B[38;5;28mself\u001B[39m\u001B[38;5;241m.\u001B[39mdb\u001B[38;5;241m.\u001B[39mvalidate_no_broken_transaction()\n\u001B[0;32m---> 84\u001B[0m \u001B[43m    \u001B[49m\u001B[38;5;28;43;01mwith\u001B[39;49;00m\u001B[43m \u001B[49m\u001B[38;5;28;43mself\u001B[39;49m\u001B[38;5;241;43m.\u001B[39;49m\u001B[43mdb\u001B[49m\u001B[38;5;241;43m.\u001B[39;49m\u001B[43mwrap_database_errors\u001B[49m\u001B[43m:\u001B[49m\n\u001B[1;32m     85\u001B[0m \u001B[43m        \u001B[49m\u001B[38;5;28;43;01mif\u001B[39;49;00m\u001B[43m \u001B[49m\u001B[43mparams\u001B[49m\u001B[43m \u001B[49m\u001B[38;5;129;43;01mis\u001B[39;49;00m\u001B[43m \u001B[49m\u001B[38;5;28;43;01mNone\u001B[39;49;00m\u001B[43m:\u001B[49m\n\u001B[1;32m     86\u001B[0m \u001B[43m            \u001B[49m\u001B[38;5;66;43;03m# params default might be backend specific.\u001B[39;49;00m\n\u001B[1;32m     87\u001B[0m \u001B[43m            \u001B[49m\u001B[38;5;28;43;01mreturn\u001B[39;49;00m\u001B[43m \u001B[49m\u001B[38;5;28;43mself\u001B[39;49m\u001B[38;5;241;43m.\u001B[39;49m\u001B[43mcursor\u001B[49m\u001B[38;5;241;43m.\u001B[39;49m\u001B[43mexecute\u001B[49m\u001B[43m(\u001B[49m\u001B[43msql\u001B[49m\u001B[43m)\u001B[49m\n",
      "File \u001B[0;32m~/.virtualenvs/pp/lib/python3.11/site-packages/django/db/utils.py:91\u001B[0m, in \u001B[0;36mDatabaseErrorWrapper.__exit__\u001B[0;34m(self, exc_type, exc_value, traceback)\u001B[0m\n\u001B[1;32m     89\u001B[0m \u001B[38;5;28;01mif\u001B[39;00m dj_exc_type \u001B[38;5;129;01mnot\u001B[39;00m \u001B[38;5;129;01min\u001B[39;00m (DataError, IntegrityError):\n\u001B[1;32m     90\u001B[0m     \u001B[38;5;28mself\u001B[39m\u001B[38;5;241m.\u001B[39mwrapper\u001B[38;5;241m.\u001B[39merrors_occurred \u001B[38;5;241m=\u001B[39m \u001B[38;5;28;01mTrue\u001B[39;00m\n\u001B[0;32m---> 91\u001B[0m \u001B[38;5;28;01mraise\u001B[39;00m dj_exc_value\u001B[38;5;241m.\u001B[39mwith_traceback(traceback) \u001B[38;5;28;01mfrom\u001B[39;00m \u001B[38;5;21;01mexc_value\u001B[39;00m\n",
      "File \u001B[0;32m~/.virtualenvs/pp/lib/python3.11/site-packages/django/db/backends/utils.py:89\u001B[0m, in \u001B[0;36mCursorWrapper._execute\u001B[0;34m(self, sql, params, *ignored_wrapper_args)\u001B[0m\n\u001B[1;32m     87\u001B[0m     \u001B[38;5;28;01mreturn\u001B[39;00m \u001B[38;5;28mself\u001B[39m\u001B[38;5;241m.\u001B[39mcursor\u001B[38;5;241m.\u001B[39mexecute(sql)\n\u001B[1;32m     88\u001B[0m \u001B[38;5;28;01melse\u001B[39;00m:\n\u001B[0;32m---> 89\u001B[0m     \u001B[38;5;28;01mreturn\u001B[39;00m \u001B[38;5;28;43mself\u001B[39;49m\u001B[38;5;241;43m.\u001B[39;49m\u001B[43mcursor\u001B[49m\u001B[38;5;241;43m.\u001B[39;49m\u001B[43mexecute\u001B[49m\u001B[43m(\u001B[49m\u001B[43msql\u001B[49m\u001B[43m,\u001B[49m\u001B[43m \u001B[49m\u001B[43mparams\u001B[49m\u001B[43m)\u001B[49m\n",
      "\u001B[0;31mProgrammingError\u001B[0m: column cast_blog.itunes_artwork_id does not exist\nLINE 1: ...st_blog\".\"email\", \"cast_blog\".\"comments_enabled\", \"cast_blog...\n                                                             ^\n"
     ]
    },
    {
     "data": {
      "application/javascript": [
       "\n",
       "            setTimeout(function() {\n",
       "                var nbb_cell_id = 4;\n",
       "                var nbb_unformatted_code = \"Blog.objects.first()\";\n",
       "                var nbb_formatted_code = \"Blog.objects.first()\";\n",
       "                var nbb_cells = Jupyter.notebook.get_cells();\n",
       "                for (var i = 0; i < nbb_cells.length; ++i) {\n",
       "                    if (nbb_cells[i].input_prompt_number == nbb_cell_id) {\n",
       "                        if (nbb_cells[i].get_text() == nbb_unformatted_code) {\n",
       "                             nbb_cells[i].set_text(nbb_formatted_code);\n",
       "                        }\n",
       "                        break;\n",
       "                    }\n",
       "                }\n",
       "            }, 500);\n",
       "            "
      ],
      "text/plain": [
       "<IPython.core.display.Javascript object>"
      ]
     },
     "metadata": {},
     "output_type": "display_data"
    }
   ],
   "source": [
    "Blog.objects.first()"
   ]
  },
  {
   "cell_type": "code",
   "execution_count": 1,
   "id": "62b9dd01-304a-4282-9207-f98c6963c40e",
   "metadata": {
    "tags": []
   },
   "outputs": [
    {
     "ename": "ProgrammingError",
     "evalue": "column cast_blog.itunes_artwork_id does not exist\nLINE 1: ...st_blog\".\"email\", \"cast_blog\".\"comments_enabled\", \"cast_blog...\n                                                             ^\n",
     "output_type": "error",
     "traceback": [
      "\u001B[0;31m---------------------------------------------------------------------------\u001B[0m",
      "\u001B[0;31mUndefinedColumn\u001B[0m                           Traceback (most recent call last)",
      "File \u001B[0;32m~/.virtualenvs/pp/lib/python3.11/site-packages/django/db/backends/utils.py:89\u001B[0m, in \u001B[0;36mCursorWrapper._execute\u001B[0;34m(self, sql, params, *ignored_wrapper_args)\u001B[0m\n\u001B[1;32m     88\u001B[0m \u001B[38;5;28;01melse\u001B[39;00m:\n\u001B[0;32m---> 89\u001B[0m     \u001B[38;5;28;01mreturn\u001B[39;00m \u001B[38;5;28;43mself\u001B[39;49m\u001B[38;5;241;43m.\u001B[39;49m\u001B[43mcursor\u001B[49m\u001B[38;5;241;43m.\u001B[39;49m\u001B[43mexecute\u001B[49m\u001B[43m(\u001B[49m\u001B[43msql\u001B[49m\u001B[43m,\u001B[49m\u001B[43m \u001B[49m\u001B[43mparams\u001B[49m\u001B[43m)\u001B[49m\n",
      "\u001B[0;31mUndefinedColumn\u001B[0m: column cast_blog.itunes_artwork_id does not exist\nLINE 1: ...st_blog\".\"email\", \"cast_blog\".\"comments_enabled\", \"cast_blog...\n                                                             ^\n",
      "\nThe above exception was the direct cause of the following exception:\n",
      "\u001B[0;31mProgrammingError\u001B[0m                          Traceback (most recent call last)",
      "Cell \u001B[0;32mIn[1], line 1\u001B[0m\n\u001B[0;32m----> 1\u001B[0m \u001B[43mBlog\u001B[49m\u001B[38;5;241;43m.\u001B[39;49m\u001B[43mobjects\u001B[49m\u001B[38;5;241;43m.\u001B[39;49m\u001B[43mfirst\u001B[49m\u001B[43m(\u001B[49m\u001B[43m)\u001B[49m\n",
      "File \u001B[0;32m~/.virtualenvs/pp/lib/python3.11/site-packages/django/db/models/manager.py:85\u001B[0m, in \u001B[0;36mBaseManager._get_queryset_methods.<locals>.create_method.<locals>.manager_method\u001B[0;34m(self, *args, **kwargs)\u001B[0m\n\u001B[1;32m     84\u001B[0m \u001B[38;5;28;01mdef\u001B[39;00m \u001B[38;5;21mmanager_method\u001B[39m(\u001B[38;5;28mself\u001B[39m, \u001B[38;5;241m*\u001B[39margs, \u001B[38;5;241m*\u001B[39m\u001B[38;5;241m*\u001B[39mkwargs):\n\u001B[0;32m---> 85\u001B[0m     \u001B[38;5;28;01mreturn\u001B[39;00m \u001B[38;5;28;43mgetattr\u001B[39;49m\u001B[43m(\u001B[49m\u001B[38;5;28;43mself\u001B[39;49m\u001B[38;5;241;43m.\u001B[39;49m\u001B[43mget_queryset\u001B[49m\u001B[43m(\u001B[49m\u001B[43m)\u001B[49m\u001B[43m,\u001B[49m\u001B[43m \u001B[49m\u001B[43mname\u001B[49m\u001B[43m)\u001B[49m\u001B[43m(\u001B[49m\u001B[38;5;241;43m*\u001B[39;49m\u001B[43margs\u001B[49m\u001B[43m,\u001B[49m\u001B[43m \u001B[49m\u001B[38;5;241;43m*\u001B[39;49m\u001B[38;5;241;43m*\u001B[39;49m\u001B[43mkwargs\u001B[49m\u001B[43m)\u001B[49m\n",
      "File \u001B[0;32m~/.virtualenvs/pp/lib/python3.11/site-packages/django/db/models/query.py:1047\u001B[0m, in \u001B[0;36mQuerySet.first\u001B[0;34m(self)\u001B[0m\n\u001B[1;32m   1045\u001B[0m \u001B[38;5;28;01mdef\u001B[39;00m \u001B[38;5;21mfirst\u001B[39m(\u001B[38;5;28mself\u001B[39m):\n\u001B[1;32m   1046\u001B[0m \u001B[38;5;250m    \u001B[39m\u001B[38;5;124;03m\"\"\"Return the first object of a query or None if no match is found.\"\"\"\u001B[39;00m\n\u001B[0;32m-> 1047\u001B[0m     \u001B[38;5;28;01mfor\u001B[39;00m obj \u001B[38;5;129;01min\u001B[39;00m (\u001B[38;5;28mself\u001B[39m \u001B[38;5;28;01mif\u001B[39;00m \u001B[38;5;28mself\u001B[39m\u001B[38;5;241m.\u001B[39mordered \u001B[38;5;28;01melse\u001B[39;00m \u001B[38;5;28mself\u001B[39m\u001B[38;5;241m.\u001B[39morder_by(\u001B[38;5;124m\"\u001B[39m\u001B[38;5;124mpk\u001B[39m\u001B[38;5;124m\"\u001B[39m))[:\u001B[38;5;241m1\u001B[39m]:\n\u001B[1;32m   1048\u001B[0m         \u001B[38;5;28;01mreturn\u001B[39;00m obj\n",
      "File \u001B[0;32m~/.virtualenvs/pp/lib/python3.11/site-packages/django/db/models/query.py:394\u001B[0m, in \u001B[0;36mQuerySet.__iter__\u001B[0;34m(self)\u001B[0m\n\u001B[1;32m    379\u001B[0m \u001B[38;5;28;01mdef\u001B[39;00m \u001B[38;5;21m__iter__\u001B[39m(\u001B[38;5;28mself\u001B[39m):\n\u001B[1;32m    380\u001B[0m \u001B[38;5;250m    \u001B[39m\u001B[38;5;124;03m\"\"\"\u001B[39;00m\n\u001B[1;32m    381\u001B[0m \u001B[38;5;124;03m    The queryset iterator protocol uses three nested iterators in the\u001B[39;00m\n\u001B[1;32m    382\u001B[0m \u001B[38;5;124;03m    default case:\u001B[39;00m\n\u001B[0;32m   (...)\u001B[0m\n\u001B[1;32m    392\u001B[0m \u001B[38;5;124;03m           - Responsible for turning the rows into model objects.\u001B[39;00m\n\u001B[1;32m    393\u001B[0m \u001B[38;5;124;03m    \"\"\"\u001B[39;00m\n\u001B[0;32m--> 394\u001B[0m     \u001B[38;5;28;43mself\u001B[39;49m\u001B[38;5;241;43m.\u001B[39;49m\u001B[43m_fetch_all\u001B[49m\u001B[43m(\u001B[49m\u001B[43m)\u001B[49m\n\u001B[1;32m    395\u001B[0m     \u001B[38;5;28;01mreturn\u001B[39;00m \u001B[38;5;28miter\u001B[39m(\u001B[38;5;28mself\u001B[39m\u001B[38;5;241m.\u001B[39m_result_cache)\n",
      "File \u001B[0;32m~/.virtualenvs/pp/lib/python3.11/site-packages/django/db/models/query.py:1867\u001B[0m, in \u001B[0;36mQuerySet._fetch_all\u001B[0;34m(self)\u001B[0m\n\u001B[1;32m   1865\u001B[0m \u001B[38;5;28;01mdef\u001B[39;00m \u001B[38;5;21m_fetch_all\u001B[39m(\u001B[38;5;28mself\u001B[39m):\n\u001B[1;32m   1866\u001B[0m     \u001B[38;5;28;01mif\u001B[39;00m \u001B[38;5;28mself\u001B[39m\u001B[38;5;241m.\u001B[39m_result_cache \u001B[38;5;129;01mis\u001B[39;00m \u001B[38;5;28;01mNone\u001B[39;00m:\n\u001B[0;32m-> 1867\u001B[0m         \u001B[38;5;28mself\u001B[39m\u001B[38;5;241m.\u001B[39m_result_cache \u001B[38;5;241m=\u001B[39m \u001B[38;5;28;43mlist\u001B[39;49m\u001B[43m(\u001B[49m\u001B[38;5;28;43mself\u001B[39;49m\u001B[38;5;241;43m.\u001B[39;49m\u001B[43m_iterable_class\u001B[49m\u001B[43m(\u001B[49m\u001B[38;5;28;43mself\u001B[39;49m\u001B[43m)\u001B[49m\u001B[43m)\u001B[49m\n\u001B[1;32m   1868\u001B[0m     \u001B[38;5;28;01mif\u001B[39;00m \u001B[38;5;28mself\u001B[39m\u001B[38;5;241m.\u001B[39m_prefetch_related_lookups \u001B[38;5;129;01mand\u001B[39;00m \u001B[38;5;129;01mnot\u001B[39;00m \u001B[38;5;28mself\u001B[39m\u001B[38;5;241m.\u001B[39m_prefetch_done:\n\u001B[1;32m   1869\u001B[0m         \u001B[38;5;28mself\u001B[39m\u001B[38;5;241m.\u001B[39m_prefetch_related_objects()\n",
      "File \u001B[0;32m~/.virtualenvs/pp/lib/python3.11/site-packages/django/db/models/query.py:87\u001B[0m, in \u001B[0;36mModelIterable.__iter__\u001B[0;34m(self)\u001B[0m\n\u001B[1;32m     84\u001B[0m compiler \u001B[38;5;241m=\u001B[39m queryset\u001B[38;5;241m.\u001B[39mquery\u001B[38;5;241m.\u001B[39mget_compiler(using\u001B[38;5;241m=\u001B[39mdb)\n\u001B[1;32m     85\u001B[0m \u001B[38;5;66;03m# Execute the query. This will also fill compiler.select, klass_info,\u001B[39;00m\n\u001B[1;32m     86\u001B[0m \u001B[38;5;66;03m# and annotations.\u001B[39;00m\n\u001B[0;32m---> 87\u001B[0m results \u001B[38;5;241m=\u001B[39m \u001B[43mcompiler\u001B[49m\u001B[38;5;241;43m.\u001B[39;49m\u001B[43mexecute_sql\u001B[49m\u001B[43m(\u001B[49m\n\u001B[1;32m     88\u001B[0m \u001B[43m    \u001B[49m\u001B[43mchunked_fetch\u001B[49m\u001B[38;5;241;43m=\u001B[39;49m\u001B[38;5;28;43mself\u001B[39;49m\u001B[38;5;241;43m.\u001B[39;49m\u001B[43mchunked_fetch\u001B[49m\u001B[43m,\u001B[49m\u001B[43m \u001B[49m\u001B[43mchunk_size\u001B[49m\u001B[38;5;241;43m=\u001B[39;49m\u001B[38;5;28;43mself\u001B[39;49m\u001B[38;5;241;43m.\u001B[39;49m\u001B[43mchunk_size\u001B[49m\n\u001B[1;32m     89\u001B[0m \u001B[43m\u001B[49m\u001B[43m)\u001B[49m\n\u001B[1;32m     90\u001B[0m select, klass_info, annotation_col_map \u001B[38;5;241m=\u001B[39m (\n\u001B[1;32m     91\u001B[0m     compiler\u001B[38;5;241m.\u001B[39mselect,\n\u001B[1;32m     92\u001B[0m     compiler\u001B[38;5;241m.\u001B[39mklass_info,\n\u001B[1;32m     93\u001B[0m     compiler\u001B[38;5;241m.\u001B[39mannotation_col_map,\n\u001B[1;32m     94\u001B[0m )\n\u001B[1;32m     95\u001B[0m model_cls \u001B[38;5;241m=\u001B[39m klass_info[\u001B[38;5;124m\"\u001B[39m\u001B[38;5;124mmodel\u001B[39m\u001B[38;5;124m\"\u001B[39m]\n",
      "File \u001B[0;32m~/.virtualenvs/pp/lib/python3.11/site-packages/django/db/models/sql/compiler.py:1398\u001B[0m, in \u001B[0;36mSQLCompiler.execute_sql\u001B[0;34m(self, result_type, chunked_fetch, chunk_size)\u001B[0m\n\u001B[1;32m   1396\u001B[0m     cursor \u001B[38;5;241m=\u001B[39m \u001B[38;5;28mself\u001B[39m\u001B[38;5;241m.\u001B[39mconnection\u001B[38;5;241m.\u001B[39mcursor()\n\u001B[1;32m   1397\u001B[0m \u001B[38;5;28;01mtry\u001B[39;00m:\n\u001B[0;32m-> 1398\u001B[0m     \u001B[43mcursor\u001B[49m\u001B[38;5;241;43m.\u001B[39;49m\u001B[43mexecute\u001B[49m\u001B[43m(\u001B[49m\u001B[43msql\u001B[49m\u001B[43m,\u001B[49m\u001B[43m \u001B[49m\u001B[43mparams\u001B[49m\u001B[43m)\u001B[49m\n\u001B[1;32m   1399\u001B[0m \u001B[38;5;28;01mexcept\u001B[39;00m \u001B[38;5;167;01mException\u001B[39;00m:\n\u001B[1;32m   1400\u001B[0m     \u001B[38;5;66;03m# Might fail for server-side cursors (e.g. connection closed)\u001B[39;00m\n\u001B[1;32m   1401\u001B[0m     cursor\u001B[38;5;241m.\u001B[39mclose()\n",
      "File \u001B[0;32m~/.virtualenvs/pp/lib/python3.11/site-packages/django/db/backends/utils.py:103\u001B[0m, in \u001B[0;36mCursorDebugWrapper.execute\u001B[0;34m(self, sql, params)\u001B[0m\n\u001B[1;32m    101\u001B[0m \u001B[38;5;28;01mdef\u001B[39;00m \u001B[38;5;21mexecute\u001B[39m(\u001B[38;5;28mself\u001B[39m, sql, params\u001B[38;5;241m=\u001B[39m\u001B[38;5;28;01mNone\u001B[39;00m):\n\u001B[1;32m    102\u001B[0m     \u001B[38;5;28;01mwith\u001B[39;00m \u001B[38;5;28mself\u001B[39m\u001B[38;5;241m.\u001B[39mdebug_sql(sql, params, use_last_executed_query\u001B[38;5;241m=\u001B[39m\u001B[38;5;28;01mTrue\u001B[39;00m):\n\u001B[0;32m--> 103\u001B[0m         \u001B[38;5;28;01mreturn\u001B[39;00m \u001B[38;5;28;43msuper\u001B[39;49m\u001B[43m(\u001B[49m\u001B[43m)\u001B[49m\u001B[38;5;241;43m.\u001B[39;49m\u001B[43mexecute\u001B[49m\u001B[43m(\u001B[49m\u001B[43msql\u001B[49m\u001B[43m,\u001B[49m\u001B[43m \u001B[49m\u001B[43mparams\u001B[49m\u001B[43m)\u001B[49m\n",
      "File \u001B[0;32m~/.virtualenvs/pp/lib/python3.11/site-packages/django/db/backends/utils.py:67\u001B[0m, in \u001B[0;36mCursorWrapper.execute\u001B[0;34m(self, sql, params)\u001B[0m\n\u001B[1;32m     66\u001B[0m \u001B[38;5;28;01mdef\u001B[39;00m \u001B[38;5;21mexecute\u001B[39m(\u001B[38;5;28mself\u001B[39m, sql, params\u001B[38;5;241m=\u001B[39m\u001B[38;5;28;01mNone\u001B[39;00m):\n\u001B[0;32m---> 67\u001B[0m     \u001B[38;5;28;01mreturn\u001B[39;00m \u001B[38;5;28;43mself\u001B[39;49m\u001B[38;5;241;43m.\u001B[39;49m\u001B[43m_execute_with_wrappers\u001B[49m\u001B[43m(\u001B[49m\n\u001B[1;32m     68\u001B[0m \u001B[43m        \u001B[49m\u001B[43msql\u001B[49m\u001B[43m,\u001B[49m\u001B[43m \u001B[49m\u001B[43mparams\u001B[49m\u001B[43m,\u001B[49m\u001B[43m \u001B[49m\u001B[43mmany\u001B[49m\u001B[38;5;241;43m=\u001B[39;49m\u001B[38;5;28;43;01mFalse\u001B[39;49;00m\u001B[43m,\u001B[49m\u001B[43m \u001B[49m\u001B[43mexecutor\u001B[49m\u001B[38;5;241;43m=\u001B[39;49m\u001B[38;5;28;43mself\u001B[39;49m\u001B[38;5;241;43m.\u001B[39;49m\u001B[43m_execute\u001B[49m\n\u001B[1;32m     69\u001B[0m \u001B[43m    \u001B[49m\u001B[43m)\u001B[49m\n",
      "File \u001B[0;32m~/.virtualenvs/pp/lib/python3.11/site-packages/django/db/backends/utils.py:80\u001B[0m, in \u001B[0;36mCursorWrapper._execute_with_wrappers\u001B[0;34m(self, sql, params, many, executor)\u001B[0m\n\u001B[1;32m     78\u001B[0m \u001B[38;5;28;01mfor\u001B[39;00m wrapper \u001B[38;5;129;01min\u001B[39;00m \u001B[38;5;28mreversed\u001B[39m(\u001B[38;5;28mself\u001B[39m\u001B[38;5;241m.\u001B[39mdb\u001B[38;5;241m.\u001B[39mexecute_wrappers):\n\u001B[1;32m     79\u001B[0m     executor \u001B[38;5;241m=\u001B[39m functools\u001B[38;5;241m.\u001B[39mpartial(wrapper, executor)\n\u001B[0;32m---> 80\u001B[0m \u001B[38;5;28;01mreturn\u001B[39;00m \u001B[43mexecutor\u001B[49m\u001B[43m(\u001B[49m\u001B[43msql\u001B[49m\u001B[43m,\u001B[49m\u001B[43m \u001B[49m\u001B[43mparams\u001B[49m\u001B[43m,\u001B[49m\u001B[43m \u001B[49m\u001B[43mmany\u001B[49m\u001B[43m,\u001B[49m\u001B[43m \u001B[49m\u001B[43mcontext\u001B[49m\u001B[43m)\u001B[49m\n",
      "File \u001B[0;32m~/.virtualenvs/pp/lib/python3.11/site-packages/django/db/backends/utils.py:84\u001B[0m, in \u001B[0;36mCursorWrapper._execute\u001B[0;34m(self, sql, params, *ignored_wrapper_args)\u001B[0m\n\u001B[1;32m     82\u001B[0m \u001B[38;5;28;01mdef\u001B[39;00m \u001B[38;5;21m_execute\u001B[39m(\u001B[38;5;28mself\u001B[39m, sql, params, \u001B[38;5;241m*\u001B[39mignored_wrapper_args):\n\u001B[1;32m     83\u001B[0m     \u001B[38;5;28mself\u001B[39m\u001B[38;5;241m.\u001B[39mdb\u001B[38;5;241m.\u001B[39mvalidate_no_broken_transaction()\n\u001B[0;32m---> 84\u001B[0m \u001B[43m    \u001B[49m\u001B[38;5;28;43;01mwith\u001B[39;49;00m\u001B[43m \u001B[49m\u001B[38;5;28;43mself\u001B[39;49m\u001B[38;5;241;43m.\u001B[39;49m\u001B[43mdb\u001B[49m\u001B[38;5;241;43m.\u001B[39;49m\u001B[43mwrap_database_errors\u001B[49m\u001B[43m:\u001B[49m\n\u001B[1;32m     85\u001B[0m \u001B[43m        \u001B[49m\u001B[38;5;28;43;01mif\u001B[39;49;00m\u001B[43m \u001B[49m\u001B[43mparams\u001B[49m\u001B[43m \u001B[49m\u001B[38;5;129;43;01mis\u001B[39;49;00m\u001B[43m \u001B[49m\u001B[38;5;28;43;01mNone\u001B[39;49;00m\u001B[43m:\u001B[49m\n\u001B[1;32m     86\u001B[0m \u001B[43m            \u001B[49m\u001B[38;5;66;43;03m# params default might be backend specific.\u001B[39;49;00m\n\u001B[1;32m     87\u001B[0m \u001B[43m            \u001B[49m\u001B[38;5;28;43;01mreturn\u001B[39;49;00m\u001B[43m \u001B[49m\u001B[38;5;28;43mself\u001B[39;49m\u001B[38;5;241;43m.\u001B[39;49m\u001B[43mcursor\u001B[49m\u001B[38;5;241;43m.\u001B[39;49m\u001B[43mexecute\u001B[49m\u001B[43m(\u001B[49m\u001B[43msql\u001B[49m\u001B[43m)\u001B[49m\n",
      "File \u001B[0;32m~/.virtualenvs/pp/lib/python3.11/site-packages/django/db/utils.py:91\u001B[0m, in \u001B[0;36mDatabaseErrorWrapper.__exit__\u001B[0;34m(self, exc_type, exc_value, traceback)\u001B[0m\n\u001B[1;32m     89\u001B[0m \u001B[38;5;28;01mif\u001B[39;00m dj_exc_type \u001B[38;5;129;01mnot\u001B[39;00m \u001B[38;5;129;01min\u001B[39;00m (DataError, IntegrityError):\n\u001B[1;32m     90\u001B[0m     \u001B[38;5;28mself\u001B[39m\u001B[38;5;241m.\u001B[39mwrapper\u001B[38;5;241m.\u001B[39merrors_occurred \u001B[38;5;241m=\u001B[39m \u001B[38;5;28;01mTrue\u001B[39;00m\n\u001B[0;32m---> 91\u001B[0m \u001B[38;5;28;01mraise\u001B[39;00m dj_exc_value\u001B[38;5;241m.\u001B[39mwith_traceback(traceback) \u001B[38;5;28;01mfrom\u001B[39;00m \u001B[38;5;21;01mexc_value\u001B[39;00m\n",
      "File \u001B[0;32m~/.virtualenvs/pp/lib/python3.11/site-packages/django/db/backends/utils.py:89\u001B[0m, in \u001B[0;36mCursorWrapper._execute\u001B[0;34m(self, sql, params, *ignored_wrapper_args)\u001B[0m\n\u001B[1;32m     87\u001B[0m     \u001B[38;5;28;01mreturn\u001B[39;00m \u001B[38;5;28mself\u001B[39m\u001B[38;5;241m.\u001B[39mcursor\u001B[38;5;241m.\u001B[39mexecute(sql)\n\u001B[1;32m     88\u001B[0m \u001B[38;5;28;01melse\u001B[39;00m:\n\u001B[0;32m---> 89\u001B[0m     \u001B[38;5;28;01mreturn\u001B[39;00m \u001B[38;5;28;43mself\u001B[39;49m\u001B[38;5;241;43m.\u001B[39;49m\u001B[43mcursor\u001B[49m\u001B[38;5;241;43m.\u001B[39;49m\u001B[43mexecute\u001B[49m\u001B[43m(\u001B[49m\u001B[43msql\u001B[49m\u001B[43m,\u001B[49m\u001B[43m \u001B[49m\u001B[43mparams\u001B[49m\u001B[43m)\u001B[49m\n",
      "\u001B[0;31mProgrammingError\u001B[0m: column cast_blog.itunes_artwork_id does not exist\nLINE 1: ...st_blog\".\"email\", \"cast_blog\".\"comments_enabled\", \"cast_blog...\n                                                             ^\n"
     ]
    }
   ],
   "source": [
    "Blog.objects.first()"
   ]
  },
  {
   "cell_type": "code",
   "execution_count": 1,
   "id": "77811971-9029-413c-a6c4-a285e4a1bbc9",
   "metadata": {
    "tags": []
   },
   "outputs": [
    {
     "ename": "NameError",
     "evalue": "name 'Podcast' is not defined",
     "output_type": "error",
     "traceback": [
      "\u001B[0;31m---------------------------------------------------------------------------\u001B[0m",
      "\u001B[0;31mNameError\u001B[0m                                 Traceback (most recent call last)",
      "Cell \u001B[0;32mIn[1], line 1\u001B[0m\n\u001B[0;32m----> 1\u001B[0m \u001B[43mPodcast\u001B[49m\u001B[38;5;241m.\u001B[39mobjects\u001B[38;5;241m.\u001B[39mall()\n",
      "\u001B[0;31mNameError\u001B[0m: name 'Podcast' is not defined"
     ]
    }
   ],
   "source": [
    "Podcast.objects.all()"
   ]
  },
  {
   "cell_type": "code",
   "execution_count": 2,
   "id": "910e2ccd-7054-4ee7-add1-d52a266265f8",
   "metadata": {
    "tags": []
   },
   "outputs": [
    {
     "name": "stdout",
     "output_type": "stream",
     "text": [
      "hello world\n"
     ]
    }
   ],
   "source": [
    "print(\"hello world\")"
   ]
  },
  {
   "cell_type": "code",
   "execution_count": 1,
   "id": "aa9daf05-affc-4eb4-ad9f-7e5db54e7838",
   "metadata": {
    "tags": []
   },
   "outputs": [
    {
     "ename": "ImportError",
     "evalue": "cannot import name 'Podcast' from 'cast.models.pages' (/Users/jochen/.virtualenvs/pp/lib/python3.11/site-packages/cast/models/pages.py)",
     "output_type": "error",
     "traceback": [
      "\u001B[0;31m---------------------------------------------------------------------------\u001B[0m",
      "\u001B[0;31mImportError\u001B[0m                               Traceback (most recent call last)",
      "Cell \u001B[0;32mIn[1], line 1\u001B[0m\n\u001B[0;32m----> 1\u001B[0m \u001B[38;5;28;01mfrom\u001B[39;00m \u001B[38;5;21;01mcast\u001B[39;00m\u001B[38;5;21;01m.\u001B[39;00m\u001B[38;5;21;01mmodels\u001B[39;00m\u001B[38;5;21;01m.\u001B[39;00m\u001B[38;5;21;01mpages\u001B[39;00m \u001B[38;5;28;01mimport\u001B[39;00m Podcast\n",
      "\u001B[0;31mImportError\u001B[0m: cannot import name 'Podcast' from 'cast.models.pages' (/Users/jochen/.virtualenvs/pp/lib/python3.11/site-packages/cast/models/pages.py)"
     ]
    }
   ],
   "source": [
    "from cast.models.pages import Podcast"
   ]
  },
  {
   "cell_type": "code",
   "execution_count": null,
   "id": "7b7a00b6-ea6d-436c-9876-0cbd1f060bd8",
   "metadata": {},
   "outputs": [],
   "source": []
  }
 ],
 "metadata": {
  "kernelspec": {
   "display_name": "Django Kernel",
   "language": "python",
   "name": "django_extensions"
  },
  "language_info": {
   "codemirror_mode": {
    "name": "ipython",
    "version": 3
   },
   "file_extension": ".py",
   "mimetype": "text/x-python",
   "name": "python",
   "nbconvert_exporter": "python",
   "pygments_lexer": "ipython3",
   "version": "3.11.1"
  }
 },
 "nbformat": 4,
 "nbformat_minor": 5
}
