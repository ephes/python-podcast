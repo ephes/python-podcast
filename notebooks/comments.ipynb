{
 "cells": [
  {
   "cell_type": "code",
   "execution_count": 1,
   "metadata": {},
   "outputs": [],
   "source": [
    "from django_comments import get_model as get_comments_model"
   ]
  },
  {
   "cell_type": "code",
   "execution_count": 3,
   "metadata": {},
   "outputs": [],
   "source": [
    "comment_model = get_comments_model()"
   ]
  },
  {
   "cell_type": "code",
   "execution_count": 4,
   "metadata": {},
   "outputs": [
    {
     "name": "stdout",
     "output_type": "stream",
     "text": [
      "Help on class FluentComment in module fluent_comments.models:\n",
      "\n",
      "class FluentComment(threadedcomments.models.ThreadedComment)\n",
      " |  FluentComment(*args, **kwargs)\n",
      " |  \n",
      " |  Proxy model to make sure that a ``select_related()`` is performed on the ``user`` field.\n",
      " |  \n",
      " |  Method resolution order:\n",
      " |      FluentComment\n",
      " |      threadedcomments.models.ThreadedComment\n",
      " |      django_comments.models.Comment\n",
      " |      django_comments.abstracts.CommentAbstractModel\n",
      " |      django_comments.abstracts.BaseCommentAbstractModel\n",
      " |      django.db.models.base.Model\n",
      " |      builtins.object\n",
      " |  \n",
      " |  Data descriptors defined here:\n",
      " |  \n",
      " |  content_object\n",
      " |      Provide a generic many-to-one relation through the ``content_type`` and\n",
      " |      ``object_id`` fields.\n",
      " |      \n",
      " |      This class also doubles as an accessor to the related object (similar to\n",
      " |      ForwardManyToOneDescriptor) by adding itself as a model attribute.\n",
      " |  \n",
      " |  ----------------------------------------------------------------------\n",
      " |  Data and other attributes defined here:\n",
      " |  \n",
      " |  DoesNotExist = <class 'fluent_comments.models.FluentComment.DoesNotExi...\n",
      " |      The requested object does not exist\n",
      " |  \n",
      " |  MultipleObjectsReturned = <class 'fluent_comments.models.FluentComment...\n",
      " |      The query returned multiple objects when only one was expected.\n",
      " |  \n",
      " |  objects = <fluent_comments.models.FluentCommentManager object>\n",
      " |  \n",
      " |  ----------------------------------------------------------------------\n",
      " |  Methods inherited from threadedcomments.models.ThreadedComment:\n",
      " |  \n",
      " |  comment_ptr_id = <django.db.models.query_utils.DeferredAttribute object>\n",
      " |  delete(self, *args, **kwargs)\n",
      " |  \n",
      " |  last_child_id = <django.db.models.query_utils.DeferredAttribute object>\n",
      " |  newest_activity = <django.db.models.query_utils.DeferredAttribute object>\n",
      " |  parent_id = <django.db.models.query_utils.DeferredAttribute object>\n",
      " |  save(self, *args, **kwargs)\n",
      " |      Save the current instance. Override this in a subclass if you want to\n",
      " |      control the saving process.\n",
      " |      \n",
      " |      The 'force_insert' and 'force_update' parameters can be used to insist\n",
      " |      that the \"save\" must be an SQL insert or update (or equivalent for\n",
      " |      non-SQL backends), respectively. Normally, they should not be set.\n",
      " |  \n",
      " |  title = <django.db.models.query_utils.DeferredAttribute object>\n",
      " |  tree_path = <django.db.models.query_utils.DeferredAttribute object>\n",
      " |  ----------------------------------------------------------------------\n",
      " |  Data descriptors inherited from threadedcomments.models.ThreadedComment:\n",
      " |  \n",
      " |  children\n",
      " |      Accessor to the related objects manager on the reverse side of a\n",
      " |      many-to-one relation.\n",
      " |      \n",
      " |      In the example::\n",
      " |      \n",
      " |          class Child(Model):\n",
      " |              parent = ForeignKey(Parent, related_name='children')\n",
      " |      \n",
      " |      ``Parent.children`` is a ``ReverseManyToOneDescriptor`` instance.\n",
      " |      \n",
      " |      Most of the implementation is delegated to a dynamically defined manager\n",
      " |      class built by ``create_forward_many_to_many_manager()`` defined below.\n",
      " |  \n",
      " |  comment_ptr\n",
      " |      Accessor to the related object on the forward side of a one-to-one relation.\n",
      " |      \n",
      " |      In the example::\n",
      " |      \n",
      " |          class Restaurant(Model):\n",
      " |              place = OneToOneField(Place, related_name='restaurant')\n",
      " |      \n",
      " |      ``Restaurant.place`` is a ``ForwardOneToOneDescriptor`` instance.\n",
      " |  \n",
      " |  depth\n",
      " |  \n",
      " |  last_child\n",
      " |      Accessor to the related object on the forward side of a many-to-one or\n",
      " |      one-to-one (via ForwardOneToOneDescriptor subclass) relation.\n",
      " |      \n",
      " |      In the example::\n",
      " |      \n",
      " |          class Child(Model):\n",
      " |              parent = ForeignKey(Parent, related_name='children')\n",
      " |      \n",
      " |      ``Child.parent`` is a ``ForwardManyToOneDescriptor`` instance.\n",
      " |  \n",
      " |  parent\n",
      " |      Accessor to the related object on the forward side of a many-to-one or\n",
      " |      one-to-one (via ForwardOneToOneDescriptor subclass) relation.\n",
      " |      \n",
      " |      In the example::\n",
      " |      \n",
      " |          class Child(Model):\n",
      " |              parent = ForeignKey(Parent, related_name='children')\n",
      " |      \n",
      " |      ``Child.parent`` is a ``ForwardManyToOneDescriptor`` instance.\n",
      " |  \n",
      " |  root_id\n",
      " |  \n",
      " |  root_path\n",
      " |  \n",
      " |  threadedcomment_set\n",
      " |      Accessor to the related objects manager on the reverse side of a\n",
      " |      many-to-one relation.\n",
      " |      \n",
      " |      In the example::\n",
      " |      \n",
      " |          class Child(Model):\n",
      " |              parent = ForeignKey(Parent, related_name='children')\n",
      " |      \n",
      " |      ``Parent.children`` is a ``ReverseManyToOneDescriptor`` instance.\n",
      " |      \n",
      " |      Most of the implementation is delegated to a dynamically defined manager\n",
      " |      class built by ``create_forward_many_to_many_manager()`` defined below.\n",
      " |  \n",
      " |  ----------------------------------------------------------------------\n",
      " |  Methods inherited from django_comments.models.Comment:\n",
      " |  \n",
      " |  get_next_by_submit_date = _method(self, *, field=<django.db.models.fields.DateTimeField: submit_date>, is_next=True, **kwargs)\n",
      " |  \n",
      " |  get_previous_by_submit_date = _method(self, *, field=<django.db.models.fields.DateTimeField: submit_date>, is_next=False, **kwargs)\n",
      " |  \n",
      " |  id = <django.db.models.query_utils.DeferredAttribute object>\n",
      " |  ----------------------------------------------------------------------\n",
      " |  Data descriptors inherited from django_comments.models.Comment:\n",
      " |  \n",
      " |  content_type\n",
      " |      Accessor to the related object on the forward side of a many-to-one or\n",
      " |      one-to-one (via ForwardOneToOneDescriptor subclass) relation.\n",
      " |      \n",
      " |      In the example::\n",
      " |      \n",
      " |          class Child(Model):\n",
      " |              parent = ForeignKey(Parent, related_name='children')\n",
      " |      \n",
      " |      ``Child.parent`` is a ``ForwardManyToOneDescriptor`` instance.\n",
      " |  \n",
      " |  flags\n",
      " |      Accessor to the related objects manager on the reverse side of a\n",
      " |      many-to-one relation.\n",
      " |      \n",
      " |      In the example::\n",
      " |      \n",
      " |          class Child(Model):\n",
      " |              parent = ForeignKey(Parent, related_name='children')\n",
      " |      \n",
      " |      ``Parent.children`` is a ``ReverseManyToOneDescriptor`` instance.\n",
      " |      \n",
      " |      Most of the implementation is delegated to a dynamically defined manager\n",
      " |      class built by ``create_forward_many_to_many_manager()`` defined below.\n",
      " |  \n",
      " |  site\n",
      " |      Accessor to the related object on the forward side of a many-to-one or\n",
      " |      one-to-one (via ForwardOneToOneDescriptor subclass) relation.\n",
      " |      \n",
      " |      In the example::\n",
      " |      \n",
      " |          class Child(Model):\n",
      " |              parent = ForeignKey(Parent, related_name='children')\n",
      " |      \n",
      " |      ``Child.parent`` is a ``ForwardManyToOneDescriptor`` instance.\n",
      " |  \n",
      " |  threadedcomment\n",
      " |      Accessor to the related object on the reverse side of a one-to-one\n",
      " |      relation.\n",
      " |      \n",
      " |      In the example::\n",
      " |      \n",
      " |          class Restaurant(Model):\n",
      " |              place = OneToOneField(Place, related_name='restaurant')\n",
      " |      \n",
      " |      ``Place.restaurant`` is a ``ReverseOneToOneDescriptor`` instance.\n",
      " |  \n",
      " |  user\n",
      " |      Accessor to the related object on the forward side of a many-to-one or\n",
      " |      one-to-one (via ForwardOneToOneDescriptor subclass) relation.\n",
      " |      \n",
      " |      In the example::\n",
      " |      \n",
      " |          class Child(Model):\n",
      " |              parent = ForeignKey(Parent, related_name='children')\n",
      " |      \n",
      " |      ``Child.parent`` is a ``ForwardManyToOneDescriptor`` instance.\n",
      " |  \n",
      " |  ----------------------------------------------------------------------\n",
      " |  Methods inherited from django_comments.abstracts.CommentAbstractModel:\n",
      " |  \n",
      " |  __str__(self)\n",
      " |      Return str(self).\n",
      " |  \n",
      " |  comment = <django.db.models.query_utils.DeferredAttribute object>\n",
      " |  get_absolute_url(self, anchor_pattern='#c%(id)s')\n",
      " |  \n",
      " |  get_as_text(self)\n",
      " |      Return this comment as plain text.  Useful for emails.\n",
      " |  \n",
      " |  ip_address = <django.db.models.query_utils.DeferredAttribute object>\n",
      " |  is_public = <django.db.models.query_utils.DeferredAttribute object>\n",
      " |  is_removed = <django.db.models.query_utils.DeferredAttribute object>\n",
      " |  submit_date = <django.db.models.query_utils.DeferredAttribute object>\n",
      " |  user_email = <django.db.models.query_utils.DeferredAttribute object>\n",
      " |  user_id = <django.db.models.query_utils.DeferredAttribute object>\n",
      " |  user_name = <django.db.models.query_utils.DeferredAttribute object>\n",
      " |  user_url = <django.db.models.query_utils.DeferredAttribute object>\n",
      " |  ----------------------------------------------------------------------\n",
      " |  Data descriptors inherited from django_comments.abstracts.CommentAbstractModel:\n",
      " |  \n",
      " |  email\n",
      " |      The email of the user who posted this comment\n",
      " |  \n",
      " |  name\n",
      " |      The name of the user who posted this comment\n",
      " |  \n",
      " |  url\n",
      " |      The URL given by the user who posted this comment\n",
      " |  \n",
      " |  userinfo\n",
      " |      Get a dictionary that pulls together information about the poster\n",
      " |      safely for both authenticated and non-authenticated comments.\n",
      " |      \n",
      " |      This dict will have ``name``, ``email``, and ``url`` fields.\n",
      " |  \n",
      " |  ----------------------------------------------------------------------\n",
      " |  Data and other attributes inherited from django_comments.abstracts.CommentAbstractModel:\n",
      " |  \n",
      " |  Meta = <class 'django_comments.abstracts.CommentAbstractModel.Meta'>\n",
      " |  \n",
      " |  \n",
      " |  ----------------------------------------------------------------------\n",
      " |  Methods inherited from django_comments.abstracts.BaseCommentAbstractModel:\n",
      " |  \n",
      " |  content_type_id = <django.db.models.query_utils.DeferredAttribute object>\n",
      " |  get_content_object_url(self)\n",
      " |      Get a URL suitable for redirecting to the content object.\n",
      " |  \n",
      " |  object_pk = <django.db.models.query_utils.DeferredAttribute object>\n",
      " |  site_id = <django.db.models.query_utils.DeferredAttribute object>\n",
      " |  ----------------------------------------------------------------------\n",
      " |  Methods inherited from django.db.models.base.Model:\n",
      " |  \n",
      " |  __eq__(self, other)\n",
      " |      Return self==value.\n",
      " |  \n",
      " |  __getstate__(self)\n",
      " |      Hook to allow choosing the attributes to pickle.\n",
      " |  \n",
      " |  __hash__(self)\n",
      " |      Return hash(self).\n",
      " |  \n",
      " |  __init__(self, *args, **kwargs)\n",
      " |      Initialize self.  See help(type(self)) for accurate signature.\n",
      " |  \n",
      " |  __reduce__(self)\n",
      " |      Helper for pickle.\n",
      " |  \n",
      " |  __repr__(self)\n",
      " |      Return repr(self).\n",
      " |  \n",
      " |  __setstate__(self, state)\n",
      " |  \n",
      " |  clean(self)\n",
      " |      Hook for doing any extra model-wide validation after clean() has been\n",
      " |      called on every field by self.clean_fields. Any ValidationError raised\n",
      " |      by this method will not be associated with a particular field; it will\n",
      " |      have a special-case association with the field defined by NON_FIELD_ERRORS.\n",
      " |  \n",
      " |  clean_fields(self, exclude=None)\n",
      " |      Clean all fields and raise a ValidationError containing a dict\n",
      " |      of all validation errors if any occur.\n",
      " |  \n",
      " |  date_error_message(self, lookup_type, field_name, unique_for)\n",
      " |  \n",
      " |  full_clean(self, exclude=None, validate_unique=True)\n",
      " |      Call clean_fields(), clean(), and validate_unique() on the model.\n",
      " |      Raise a ValidationError for any errors that occur.\n",
      " |  \n",
      " |  get_deferred_fields(self)\n",
      " |      Return a set containing names of deferred fields for this instance.\n",
      " |  \n",
      " |  prepare_database_save(self, field)\n",
      " |  \n",
      " |  refresh_from_db(self, using=None, fields=None)\n",
      " |      Reload field values from the database.\n",
      " |      \n",
      " |      By default, the reloading happens from the database this instance was\n",
      " |      loaded from, or by the read router if this instance wasn't loaded from\n",
      " |      any database. The using parameter will override the default.\n",
      " |      \n",
      " |      Fields can be used to specify which fields to reload. The fields\n",
      " |      should be an iterable of field attnames. If fields is None, then\n",
      " |      all non-deferred fields are reloaded.\n",
      " |      \n",
      " |      When accessing deferred fields of an instance, the deferred loading\n",
      " |      of the field will call this method.\n",
      " |  \n",
      " |  save_base(self, raw=False, force_insert=False, force_update=False, using=None, update_fields=None)\n",
      " |      Handle the parts of saving which should be done only once per save,\n",
      " |      yet need to be done in raw saves, too. This includes some sanity\n",
      " |      checks and signal sending.\n",
      " |      \n",
      " |      The 'raw' argument is telling save_base not to save any parent\n",
      " |      models and not to do any changes to the values before save. This\n",
      " |      is used by fixture loading.\n",
      " |  \n",
      " |  serializable_value(self, field_name)\n",
      " |      Return the value of the field name for this instance. If the field is\n",
      " |      a foreign key, return the id value instead of the object. If there's\n",
      " |      no Field object with this name on the model, return the model\n",
      " |      attribute's value.\n",
      " |      \n",
      " |      Used to serialize a field's value (in the serializer, or form output,\n",
      " |      for example). Normally, you would just access the attribute directly\n",
      " |      and not use this method.\n",
      " |  \n",
      " |  unique_error_message(self, model_class, unique_check)\n",
      " |  \n",
      " |  validate_unique(self, exclude=None)\n",
      " |      Check unique constraints on the model and raise ValidationError if any\n",
      " |      failed.\n",
      " |  \n",
      " |  ----------------------------------------------------------------------\n",
      " |  Class methods inherited from django.db.models.base.Model:\n",
      " |  \n",
      " |  check(**kwargs) from django.db.models.base.ModelBase\n",
      " |  \n",
      " |  from_db(db, field_names, values) from django.db.models.base.ModelBase\n",
      " |  \n",
      " |  ----------------------------------------------------------------------\n",
      " |  Data descriptors inherited from django.db.models.base.Model:\n",
      " |  \n",
      " |  __dict__\n",
      " |      dictionary for instance variables (if defined)\n",
      " |  \n",
      " |  __weakref__\n",
      " |      list of weak references to the object (if defined)\n",
      " |  \n",
      " |  pk\n",
      "\n"
     ]
    }
   ],
   "source": [
    "help(comment_model)"
   ]
  },
  {
   "cell_type": "code",
   "execution_count": 10,
   "metadata": {},
   "outputs": [],
   "source": [
    "post = Post.objects.last()"
   ]
  },
  {
   "cell_type": "code",
   "execution_count": 13,
   "metadata": {},
   "outputs": [],
   "source": [
    "instance = comment_model(content_object=post, site_id=1, title=\"foobar\", comment=\"bar baz\")"
   ]
  },
  {
   "cell_type": "code",
   "execution_count": 14,
   "metadata": {},
   "outputs": [],
   "source": [
    "instance.save()"
   ]
  },
  {
   "cell_type": "code",
   "execution_count": 16,
   "metadata": {},
   "outputs": [
    {
     "data": {
      "text/plain": [
       "<Post: PP08 - Machine Learning am Beispiel Bildklassifikation>"
      ]
     },
     "execution_count": 16,
     "metadata": {},
     "output_type": "execute_result"
    }
   ],
   "source": [
    "instance.content_object"
   ]
  },
  {
   "cell_type": "code",
   "execution_count": 17,
   "metadata": {},
   "outputs": [
    {
     "data": {
      "text/plain": [
       "'bar baz'"
      ]
     },
     "execution_count": 17,
     "metadata": {},
     "output_type": "execute_result"
    }
   ],
   "source": [
    "instance.comment"
   ]
  },
  {
   "cell_type": "code",
   "execution_count": 18,
   "metadata": {},
   "outputs": [
    {
     "data": {
      "text/plain": [
       "'/show/comments/post/ajax/'"
      ]
     },
     "execution_count": 18,
     "metadata": {},
     "output_type": "execute_result"
    }
   ],
   "source": [
    "reverse(\"comments-post-comment-ajax\")"
   ]
  },
  {
   "cell_type": "code",
   "execution_count": 19,
   "metadata": {},
   "outputs": [
    {
     "data": {
      "text/plain": [
       "<ContentType: post>"
      ]
     },
     "execution_count": 19,
     "metadata": {},
     "output_type": "execute_result"
    }
   ],
   "source": [
    "ContentType.objects.get(app_label='cast', model='post')"
   ]
  },
  {
   "cell_type": "code",
   "execution_count": 20,
   "metadata": {},
   "outputs": [],
   "source": [
    "x = \"\"\" type=\"hidden\" name=\"security_hash\" value=\"6504eec036e979bc8e565cb33cb2ae33c93aaa14\" id=\"id_security_hash\"> <div id=\"div_id_name\" class=\"control-group\"> <label for=\"id_name\" class=\"control-label requiredField\">\"\"\""
   ]
  },
  {
   "cell_type": "code",
   "execution_count": 21,
   "metadata": {},
   "outputs": [
    {
     "data": {
      "text/plain": [
       "' type=\"hidden\" name=\"security_hash\" value=\"6504eec036e979bc8e565cb33cb2ae33c93aaa14\" id=\"id_security_hash\"> <div id=\"div_id_name\" class=\"control-group\"> <label for=\"id_name\" class=\"control-label requiredField\">'"
      ]
     },
     "execution_count": 21,
     "metadata": {},
     "output_type": "execute_result"
    }
   ],
   "source": [
    "x"
   ]
  },
  {
   "cell_type": "code",
   "execution_count": 28,
   "metadata": {},
   "outputs": [
    {
     "name": "stdout",
     "output_type": "stream",
     "text": [
      "['value=', '6504eec036e979bc8e565cb33cb2ae33c93aaa14', '']\n"
     ]
    }
   ],
   "source": [
    "for attr in x.split(' '):\n",
    "    if \"value\" in attr:\n",
    "        print(attr.split('\"'))"
   ]
  },
  {
   "cell_type": "code",
   "execution_count": 29,
   "metadata": {},
   "outputs": [],
   "source": [
    "x = \"\"\" type=\"hidden\" name=\"timestamp\" value=\"1557062683\" id=\"id_timestamp\"> <\"\"\""
   ]
  },
  {
   "cell_type": "code",
   "execution_count": 32,
   "metadata": {},
   "outputs": [],
   "source": [
    "for attr in x.split():\n",
    "    if \"value\" in attr:\n",
    "        timestamp = attr.split('\"')[1]"
   ]
  },
  {
   "cell_type": "code",
   "execution_count": 33,
   "metadata": {},
   "outputs": [
    {
     "data": {
      "text/plain": [
       "'1557062683'"
      ]
     },
     "execution_count": 33,
     "metadata": {},
     "output_type": "execute_result"
    }
   ],
   "source": [
    "timestamp"
   ]
  },
  {
   "cell_type": "code",
   "execution_count": 35,
   "metadata": {},
   "outputs": [
    {
     "data": {
      "text/plain": [
       "<QuerySet [<FluentComment: Jochen Wersdörfer: Blubber...>, <FluentComment: asdf: asdf...>, <FluentComment: bsdf: Foo bar baz\n",
       "\n",
       "Blub...>, <FluentComment: Jochen Wersdörfer: Kommentar für bsdf...>, <FluentComment: Jochen Wersdörfer: Das ist das Haus vom Nikolaus...>, <FluentComment: Jochen Wersdörfer: blub blubber...>, <FluentComment: Jochen Wersdörfer: blub...>, <FluentComment: : bar baz...>]>"
      ]
     },
     "execution_count": 35,
     "metadata": {},
     "output_type": "execute_result"
    }
   ],
   "source": [
    "comment_model.objects.all()"
   ]
  },
  {
   "cell_type": "code",
   "execution_count": null,
   "metadata": {},
   "outputs": [],
   "source": []
  }
 ],
 "metadata": {
  "kernelspec": {
   "display_name": "Django Shell-Plus",
   "language": "python",
   "name": "django_extensions"
  },
  "language_info": {
   "codemirror_mode": {
    "name": "ipython",
    "version": 3
   },
   "file_extension": ".py",
   "mimetype": "text/x-python",
   "name": "python",
   "nbconvert_exporter": "python",
   "pygments_lexer": "ipython3",
   "version": "3.7.3"
  }
 },
 "nbformat": 4,
 "nbformat_minor": 2
}
