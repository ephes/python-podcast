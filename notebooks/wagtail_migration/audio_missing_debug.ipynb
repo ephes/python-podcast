{
 "cells": [
  {
   "cell_type": "code",
   "execution_count": 11,
   "id": "9e9aec85-fbc5-49ad-92b2-e5e38b3a3fad",
   "metadata": {},
   "outputs": [],
   "source": [
    "import json\n",
    "\n",
    "from uuid import uuid4\n",
    "\n",
    "from rich.jupyter import print"
   ]
  },
  {
   "cell_type": "code",
   "execution_count": 2,
   "id": "b9c78c81-254e-4234-a4b9-c8df16798e56",
   "metadata": {},
   "outputs": [],
   "source": [
    "post = Page.objects.get(slug=\"kleine-episode\").post"
   ]
  },
  {
   "cell_type": "code",
   "execution_count": 3,
   "id": "2fc372df-1f3b-43f3-9150-0f51496f598f",
   "metadata": {},
   "outputs": [],
   "source": [
    "raw_data = post.body.raw_data"
   ]
  },
  {
   "cell_type": "code",
   "execution_count": 4,
   "id": "dffaa031-1b6a-4d57-89a4-5ebb1aed598d",
   "metadata": {},
   "outputs": [
    {
     "data": {
      "text/html": [
       "<pre style=\"white-space:pre;overflow-x:auto;line-height:normal;font-family:Menlo,'DejaVu Sans Mono',consolas,'Courier New',monospace\"><span style=\"font-weight: bold\">[{</span><span style=\"color: #008000; text-decoration-color: #008000\">'type'</span>: <span style=\"color: #008000; text-decoration-color: #008000\">'overview'</span>, <span style=\"color: #008000; text-decoration-color: #008000\">'value'</span>: <span style=\"font-weight: bold\">[{</span><span style=\"color: #008000; text-decoration-color: #008000\">'type'</span>: <span style=\"color: #008000; text-decoration-color: #008000\">'heading'</span>, <span style=\"color: #008000; text-decoration-color: #008000\">'value'</span>: <span style=\"color: #008000; text-decoration-color: #008000\">'Foo bar baz blub'</span>, <span style=\"color: #008000; text-decoration-color: #008000\">'id'</span>: \n",
       "<span style=\"color: #008000; text-decoration-color: #008000\">'d225ab1c-3216-4ea6-a690-4bb9a768fbc3'</span><span style=\"font-weight: bold\">}]</span>, <span style=\"color: #008000; text-decoration-color: #008000\">'id'</span>: <span style=\"color: #008000; text-decoration-color: #008000\">'fd7a7c8b-5f55-42ff-88fd-119109acd8ed'</span><span style=\"font-weight: bold\">}]</span>\n",
       "</pre>\n"
      ],
      "text/plain": [
       "\u001b[1m[\u001b[0m\u001b[1m{\u001b[0m\u001b[32m'type'\u001b[0m: \u001b[32m'overview'\u001b[0m, \u001b[32m'value'\u001b[0m: \u001b[1m[\u001b[0m\u001b[1m{\u001b[0m\u001b[32m'type'\u001b[0m: \u001b[32m'heading'\u001b[0m, \u001b[32m'value'\u001b[0m: \u001b[32m'Foo bar baz blub'\u001b[0m, \u001b[32m'id'\u001b[0m: \n",
       "\u001b[32m'd225ab1c-3216-4ea6-a690-4bb9a768fbc3'\u001b[0m\u001b[1m}\u001b[0m\u001b[1m]\u001b[0m, \u001b[32m'id'\u001b[0m: \u001b[32m'fd7a7c8b-5f55-42ff-88fd-119109acd8ed'\u001b[0m\u001b[1m}\u001b[0m\u001b[1m]\u001b[0m\n"
      ]
     },
     "metadata": {},
     "output_type": "display_data"
    }
   ],
   "source": [
    "print(raw_data)"
   ]
  },
  {
   "cell_type": "code",
   "execution_count": 12,
   "id": "68e33281-7262-49c5-a8d1-871813f10fbb",
   "metadata": {},
   "outputs": [],
   "source": [
    "raw_data = [{'type': 'overview', 'value': [{'type': 'heading', 'value': 'Foo bar baz', 'id': 'd225ab1c-3216-4ea6-a690-4bb9a768fbc3'}], 'id': 'fd7a7c8b-5f55-42ff-88fd-119109acd8ed'}]"
   ]
  },
  {
   "cell_type": "code",
   "execution_count": 13,
   "id": "c6f69a7a-1802-4ee2-84b7-932580a4f083",
   "metadata": {},
   "outputs": [],
   "source": [
    "audio = Audio.objects.get(title=\"podlove\")\n",
    "audio_block = {\"type\": \"audio\", \"value\": audio.pk, \"id\": str(uuid4())}"
   ]
  },
  {
   "cell_type": "code",
   "execution_count": 14,
   "id": "1d406d17-6625-4ce4-aef8-fc7162326f37",
   "metadata": {},
   "outputs": [
    {
     "data": {
      "text/html": [
       "<pre style=\"white-space:pre;overflow-x:auto;line-height:normal;font-family:Menlo,'DejaVu Sans Mono',consolas,'Courier New',monospace\"><span style=\"font-weight: bold\">[</span>\n",
       "    <span style=\"font-weight: bold\">{</span>\n",
       "        <span style=\"color: #008000; text-decoration-color: #008000\">'type'</span>: <span style=\"color: #008000; text-decoration-color: #008000\">'overview'</span>,\n",
       "        <span style=\"color: #008000; text-decoration-color: #008000\">'value'</span>: <span style=\"font-weight: bold\">[</span>\n",
       "            <span style=\"font-weight: bold\">{</span><span style=\"color: #008000; text-decoration-color: #008000\">'type'</span>: <span style=\"color: #008000; text-decoration-color: #008000\">'heading'</span>, <span style=\"color: #008000; text-decoration-color: #008000\">'value'</span>: <span style=\"color: #008000; text-decoration-color: #008000\">'Foo bar baz'</span>, <span style=\"color: #008000; text-decoration-color: #008000\">'id'</span>: <span style=\"color: #008000; text-decoration-color: #008000\">'d225ab1c-3216-4ea6-a690-4bb9a768fbc3'</span><span style=\"font-weight: bold\">}</span>,\n",
       "            <span style=\"font-weight: bold\">{</span><span style=\"color: #008000; text-decoration-color: #008000\">'type'</span>: <span style=\"color: #008000; text-decoration-color: #008000\">'audio'</span>, <span style=\"color: #008000; text-decoration-color: #008000\">'value'</span>: <span style=\"color: #008080; text-decoration-color: #008080; font-weight: bold\">1</span>, <span style=\"color: #008000; text-decoration-color: #008000\">'id'</span>: <span style=\"color: #008000; text-decoration-color: #008000\">'e7c0ce1b-41f1-4e7a-89b5-ae44eefecede'</span><span style=\"font-weight: bold\">}</span>\n",
       "        <span style=\"font-weight: bold\">]</span>,\n",
       "        <span style=\"color: #008000; text-decoration-color: #008000\">'id'</span>: <span style=\"color: #008000; text-decoration-color: #008000\">'fd7a7c8b-5f55-42ff-88fd-119109acd8ed'</span>\n",
       "    <span style=\"font-weight: bold\">}</span>\n",
       "<span style=\"font-weight: bold\">]</span>\n",
       "</pre>\n"
      ],
      "text/plain": [
       "\u001b[1m[\u001b[0m\n",
       "    \u001b[1m{\u001b[0m\n",
       "        \u001b[32m'type'\u001b[0m: \u001b[32m'overview'\u001b[0m,\n",
       "        \u001b[32m'value'\u001b[0m: \u001b[1m[\u001b[0m\n",
       "            \u001b[1m{\u001b[0m\u001b[32m'type'\u001b[0m: \u001b[32m'heading'\u001b[0m, \u001b[32m'value'\u001b[0m: \u001b[32m'Foo bar baz'\u001b[0m, \u001b[32m'id'\u001b[0m: \u001b[32m'd225ab1c-3216-4ea6-a690-4bb9a768fbc3'\u001b[0m\u001b[1m}\u001b[0m,\n",
       "            \u001b[1m{\u001b[0m\u001b[32m'type'\u001b[0m: \u001b[32m'audio'\u001b[0m, \u001b[32m'value'\u001b[0m: \u001b[1;36m1\u001b[0m, \u001b[32m'id'\u001b[0m: \u001b[32m'e7c0ce1b-41f1-4e7a-89b5-ae44eefecede'\u001b[0m\u001b[1m}\u001b[0m\n",
       "        \u001b[1m]\u001b[0m,\n",
       "        \u001b[32m'id'\u001b[0m: \u001b[32m'fd7a7c8b-5f55-42ff-88fd-119109acd8ed'\u001b[0m\n",
       "    \u001b[1m}\u001b[0m\n",
       "\u001b[1m]\u001b[0m\n"
      ]
     },
     "metadata": {},
     "output_type": "display_data"
    }
   ],
   "source": [
    "raw_data[0][\"value\"].append(audio_block)\n",
    "print(raw_data)"
   ]
  },
  {
   "cell_type": "code",
   "execution_count": 15,
   "id": "66f0f3d3-a72c-4f14-a22c-7b95ff515a91",
   "metadata": {},
   "outputs": [],
   "source": [
    "post.body = json.dumps(raw_data)"
   ]
  },
  {
   "cell_type": "code",
   "execution_count": 16,
   "id": "362c8566-2b4d-4e61-9e67-6a8d8b485a04",
   "metadata": {},
   "outputs": [],
   "source": [
    "post.save()"
   ]
  },
  {
   "cell_type": "code",
   "execution_count": null,
   "id": "8ffa3e7e-a51f-47e0-9b9c-ea3f7a31c194",
   "metadata": {},
   "outputs": [],
   "source": []
  }
 ],
 "metadata": {
  "kernelspec": {
   "display_name": "Django Kernel",
   "language": "python",
   "name": "django_extensions"
  },
  "language_info": {
   "codemirror_mode": {
    "name": "ipython",
    "version": 3
   },
   "file_extension": ".py",
   "mimetype": "text/x-python",
   "name": "python",
   "nbconvert_exporter": "python",
   "pygments_lexer": "ipython3",
   "version": "3.11.0"
  }
 },
 "nbformat": 4,
 "nbformat_minor": 5
}
