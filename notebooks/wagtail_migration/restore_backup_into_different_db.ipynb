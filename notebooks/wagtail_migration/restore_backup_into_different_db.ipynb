{
 "cells": [
  {
   "cell_type": "markdown",
   "id": "87279d93-560d-4dfc-9dbd-cb5d7e6f472d",
   "metadata": {},
   "source": [
    "# Create Backup from Production\n",
    "\n",
    "Use prod_backup.py script to create production backup and copy the backup.gz via ssh.\n",
    "\n",
    "# Restore Backup\n",
    "\n",
    "gunzip -c backups/backup_2022_11_08T08_31_47.sql.gz | psql homepage_legacy\n",
    "\n",
    "# Restore Backup\n",
    "\n",
    "gunzip -c backups/backup_2022_11_08T08_31_47.sql.gz | psql homepage_legacy"
   ]
  },
  {
   "cell_type": "code",
   "execution_count": 4,
   "id": "dd060821-a1a3-43e4-ac34-c9a1c7a1adaf",
   "metadata": {},
   "outputs": [],
   "source": [
    "stmt = \"\"\"\n",
    "select * from cast_post;\n",
    "\"\"\"\n",
    "qs = Post.objects.raw(stmt).using(\"homepage_legacy\")"
   ]
  },
  {
   "cell_type": "code",
   "execution_count": 5,
   "id": "b5c05049-0121-4dd0-8437-2ff14de732c3",
   "metadata": {},
   "outputs": [],
   "source": [
    "from django.db import connections"
   ]
  },
  {
   "cell_type": "code",
   "execution_count": 9,
   "id": "ecc598dc-306f-4916-bd70-afc0a15bad29",
   "metadata": {},
   "outputs": [],
   "source": [
    "def dictfetchall(cursor):\n",
    "    \"Return all rows from a cursor as a dict\"\n",
    "    columns = [col[0] for col in cursor.description]\n",
    "    return [\n",
    "        dict(zip(columns, row))\n",
    "        for row in cursor.fetchall()\n",
    "    ]\n",
    "\n",
    "\n",
    "with connections[\"legacy\"].cursor() as cursor:\n",
    "    cursor.execute(stmt)\n",
    "    rows = dictfetchall(cursor)"
   ]
  },
  {
   "cell_type": "code",
   "execution_count": 13,
   "id": "d6b8b51a-eb30-4db6-9903-d0fa0ba5af77",
   "metadata": {},
   "outputs": [
    {
     "data": {
      "text/plain": [
       "334"
      ]
     },
     "execution_count": 13,
     "metadata": {},
     "output_type": "execute_result"
    }
   ],
   "source": [
    "max([r[\"id\"] for r in rows])"
   ]
  },
  {
   "cell_type": "code",
   "execution_count": 18,
   "id": "5f10a461-9dab-4b74-9c17-372c99366a88",
   "metadata": {},
   "outputs": [],
   "source": [
    "[post] = [r for r in rows if r[\"id\"] == 333]"
   ]
  },
  {
   "cell_type": "code",
   "execution_count": 19,
   "id": "07193250-a298-4f16-b1ae-1bfd3c3389b2",
   "metadata": {},
   "outputs": [
    {
     "data": {
      "text/plain": [
       "{'id': 333,\n",
       " 'created': datetime.datetime(2022, 11, 2, 5, 32, 58, 340726, tzinfo=datetime.timezone.utc),\n",
       " 'modified': datetime.datetime(2022, 11, 7, 13, 4, 8, 395874, tzinfo=datetime.timezone.utc),\n",
       " 'title': 'Weeknotes 2022-11-07',\n",
       " 'pub_date': datetime.datetime(2022, 11, 7, 13, 4, 8, 393468, tzinfo=datetime.timezone.utc),\n",
       " 'visible_date': datetime.datetime(2022, 11, 7, 0, 0, tzinfo=datetime.timezone.utc),\n",
       " 'content': '<p>Short work week. Gave me time to indulge in heavy yak shaving. At first, I tried to just make&nbsp;<a href=\"https://github.com/ephes/django-cast\">django-cast</a>&nbsp;(the develop branch) work for newer <a href=\"https://www.djangoproject.com/\">Django</a> and <a href=\"https://wagtail.org/\">Wagtail</a> versions. Then I realized I had to fix&nbsp;<a href=\"http://github.com/ephes/wagtail_srcset/issues/2\">wagtail-srcset</a>&nbsp;first and replaced&nbsp;<a href=\"https://python-poetry.org/\">poetry</a>&nbsp;with&nbsp;<a href=\"https://flit.pypa.io/en/stable/\">flit</a>&nbsp;while I&#39;m at it. Then I got lost fixing some stuff in&nbsp;<a href=\"https://github.com/ephes/kptncook/issues/18\">kptncook</a>&nbsp;before I remembered that I have to also update&nbsp;<a href=\"https://github.com/ephes/django-indieweb\">django-indieweb</a>&nbsp;and&nbsp;<a href=\"https://github.com/ephes/django_fileresponse/tree/main/\">django-fileresponse</a>&nbsp;to be able to finally fix&nbsp;<a href=\"https://github.com/ephes/django-cast\">django-cast</a>&nbsp;and make it deployable on my staging system using the latest and greatest Django and Wagtail versions. Oh and then I fixed some bootstrap stuff in the commands.py of my <a href=\"https://github.com/ephes/django-template/issues/7\">Django startproject template</a>. Maybe I&#39;ll manage to merge the develop branch of <a href=\"https://github.com/ephes/django-cast\">django-cast</a>&nbsp;back into main soon after develop started to diverge back in 2019 iirc&nbsp;because I wanted to use Wagtail as a CMS. Looking forward to meet some hairy yaks on the way.&nbsp;<br />\\r\\n&nbsp;</p>\\r\\n\\r\\n<h3>Articles</h3>\\r\\n\\r\\n<ul>\\r\\n\\t<li><a href=\"https://github.com/simonw/simonwillisonblog/issues/290\">Get a Mastodon instance running #290</a>&nbsp;| This yak is looking especially attractive atm</li>\\r\\n\\t<li><a href=\"https://aeracode.org/2022/11/03/static-dynamic-in-memory-sqlite/\">Static-Dynamic Content With In-Memory SQLite</a>&nbsp;| Hmm, cool - but I need to shave my postgres 15 yak first, sorry</li>\\r\\n\\t<li><a href=\"https://fasterthanli.me/articles/becoming-fasterthanlime-full-time\">Becoming fasterthanlime full-time</a></li>\\r\\n</ul>\\r\\n\\r\\n<h3><br />\\r\\nTwitter</h3>\\r\\n\\r\\n<ul>\\r\\n\\t<li>No twitter this week, just yaks</li>\\r\\n</ul>\\r\\n&nbsp;\\r\\n\\r\\n<h3>Weeknotes</h3>\\r\\n\\r\\n<ul>\\r\\n\\t<li><a href=\"https://luisnatera.com/posts/2022/10/2022-10-31-review/\">Week in Review 2022-10-31</a>&nbsp;| Luis</li>\\r\\n\\t<li><a href=\"https://shezi.de/weeklogs/log-2022-10-30.html\">Weeklog for Week 43: October 24 to October 30</a>&nbsp;| Johannes</li>\\r\\n</ul>\\r\\n&nbsp;\\r\\n\\r\\n<h3>Software</h3>\\r\\n\\r\\n<ul>\\r\\n\\t<li><a href=\"https://github.com/bigskysoftware/htmx/releases/tag/v1.8.4\">htmx v1.8.4 release</a></li>\\r\\n\\t<li><a href=\"https://docs.djangoproject.com/en/4.1/releases/4.1.3/\">Django 4.1.3 release</a>&nbsp;| Support for Python 3.11 + some bugfixes</li>\\r\\n\\t<li><a href=\"https://adamj.eu/tech/2022/10/26/django-upgrade-mega-release/\">django-upgrade Mega Release 1.11.0</a></li>\\r\\n\\t<li><a href=\"https://web.dev/patterns/components/\">Component patterns A collection of cross browser UI components for use in accelerating or inspiring your own design systems.</a></li>\\r\\n</ul>\\r\\n\\r\\n<h3><br />\\r\\nPodcasts</h3>\\r\\n\\r\\n<ul>\\r\\n\\t<li><a href=\"https://www1.wdr.de/mediathek/audio/wdr5/wdr5-das-philosophische-radio/audio-was-sollte-ihrer-meinung-nach-den-kapitalismus-abloesen-100.html\">Was sollte Ihrer Meinung nach den Kapitalismus abl&ouml;sen?</a>&nbsp;(<a href=\"https://www1.wdr.de/radio/wdr5/sendungen/philosophisches-radio/index.html\">Das philosophische Radio</a>)</li>\\r\\n\\t<li><a href=\"https://capitalisnt.simplecast.com/episodes/a-different-story-of-inflation-with-john-cochrane\">A Different Story Of Inflation With John Cochrane</a>&nbsp;(<a href=\"https://capitalisnt.simplecast.com\">Capitalisn&#39;t</a>) | Doh - bonds and cash aren&#39;t the same?</li>\\r\\n\\t<li><a href=\"https://www.datascience.salon/project/episode-27-probabilistic-thinking-with-james-jd-long/\">Probabilistic thinking with James &ldquo;JD&rdquo; Long</a>&nbsp;(<a href=\"https://www.datascience.salon/podcast/\">Data Science Salon</a>) | Very familiar vibes here -&nbsp;I also wonder why people get away that often with publishing just an accuracy number which is meanlingless in most contexts. On the other hand, I don&#39;t buy the economic arguments in favor of the cloud: You just have to pay for what you use. Use also have to pay for being able to use the cloud efficently, you pay for stuff you forgot to turn off and last but not least you pay for not having a competent IT people and living with grossly inefficient cloud solutions.</li>\\r\\n\\t<li><a href=\"https://djangochat.com/episodes/horserecords-andy-ide\">HorseRecords - Andy Ide</a>&nbsp;(<a href=\"https://djangochat.com\">Django Chat</a>) | Hmm, maybe need to take a closer look at&nbsp;<a href=\"https://www.django-unicorn.com/\">django-unicorn</a></li>\\r\\n\\t<li><a href=\"https://realpython.com/podcasts/rpp/130/\">Episode 130: Fostering an Internal Python Community &amp; Managing the 3.11 Release</a>&nbsp;(<a href=\"https://realpython.com/podcasts/rpp/\">The Real Python Podcast</a>) | &quot;Sometimes you have to break a few eggs to make an omelette.. and some dishes, and the restaurant&quot; 😃</li>\\r\\n</ul>\\r\\n\\r\\n<h3>&nbsp; &nbsp;<br />\\r\\nOut of Context Images</h3>\\r\\n{% image 1281 %}',\n",
       " 'slug': 'weeknotes-2022-11-07',\n",
       " 'author_id': 1,\n",
       " 'blog_id': 1,\n",
       " 'podcast_audio_id': None,\n",
       " 'uuid': UUID('d402a42d-a599-4dad-b212-2f56b15b1ab5'),\n",
       " 'keywords': '',\n",
       " 'explicit': 1,\n",
       " 'block': False,\n",
       " 'comments_enabled': True}"
      ]
     },
     "execution_count": 19,
     "metadata": {},
     "output_type": "execute_result"
    }
   ],
   "source": [
    "post"
   ]
  },
  {
   "cell_type": "code",
   "execution_count": null,
   "id": "353dbae1-5335-410a-9429-e29df4f084a6",
   "metadata": {},
   "outputs": [],
   "source": []
  }
 ],
 "metadata": {
  "kernelspec": {
   "display_name": "Django Kernel",
   "language": "python",
   "name": "django_extensions"
  },
  "language_info": {
   "codemirror_mode": {
    "name": "ipython",
    "version": 3
   },
   "file_extension": ".py",
   "mimetype": "text/x-python",
   "name": "python",
   "nbconvert_exporter": "python",
   "pygments_lexer": "ipython3",
   "version": "3.11.0"
  }
 },
 "nbformat": 4,
 "nbformat_minor": 5
}
