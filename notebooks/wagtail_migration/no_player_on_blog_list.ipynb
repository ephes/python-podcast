{
 "cells": [
  {
   "cell_type": "code",
   "execution_count": 2,
   "id": "3500ff36-0942-4fa0-b63a-256460260336",
   "metadata": {},
   "outputs": [],
   "source": [
    "blog = Page.objects.get(slug=\"show\").blog"
   ]
  },
  {
   "cell_type": "code",
   "execution_count": 8,
   "id": "4dac3605-77c0-44d7-9bf8-d34f10f4e43c",
   "metadata": {},
   "outputs": [
    {
     "data": {
      "text/plain": [
       "True"
      ]
     },
     "execution_count": 8,
     "metadata": {},
     "output_type": "execute_result"
    }
   ],
   "source": [
    "blog.is_podcast"
   ]
  },
  {
   "cell_type": "code",
   "execution_count": 9,
   "id": "5046fa00-355f-4acb-a965-3565832bb90a",
   "metadata": {},
   "outputs": [
    {
     "ename": "AttributeError",
     "evalue": "'Blog' object has no attribute 'has_audio'",
     "output_type": "error",
     "traceback": [
      "\u001b[0;31m---------------------------------------------------------------------------\u001b[0m",
      "\u001b[0;31mAttributeError\u001b[0m                            Traceback (most recent call last)",
      "Cell \u001b[0;32mIn [9], line 1\u001b[0m\n\u001b[0;32m----> 1\u001b[0m \u001b[43mblog\u001b[49m\u001b[38;5;241;43m.\u001b[39;49m\u001b[43mhas_audio\u001b[49m\n",
      "\u001b[0;31mAttributeError\u001b[0m: 'Blog' object has no attribute 'has_audio'"
     ]
    }
   ],
   "source": [
    "blog.has_audio"
   ]
  },
  {
   "cell_type": "code",
   "execution_count": 5,
   "id": "cff22006-4a96-41b7-b9d4-41f1eb310672",
   "metadata": {},
   "outputs": [
    {
     "ename": "AttributeError",
     "evalue": "'Page' object has no attribute 'has_audio'",
     "output_type": "error",
     "traceback": [
      "\u001b[0;31m---------------------------------------------------------------------------\u001b[0m",
      "\u001b[0;31mAttributeError\u001b[0m                            Traceback (most recent call last)",
      "Cell \u001b[0;32mIn [5], line 1\u001b[0m\n\u001b[0;32m----> 1\u001b[0m \u001b[43mPage\u001b[49m\u001b[38;5;241;43m.\u001b[39;49m\u001b[43mobjects\u001b[49m\u001b[38;5;241;43m.\u001b[39;49m\u001b[43mget\u001b[49m\u001b[43m(\u001b[49m\u001b[43mslug\u001b[49m\u001b[38;5;241;43m=\u001b[39;49m\u001b[38;5;124;43m\"\u001b[39;49m\u001b[38;5;124;43mshow\u001b[39;49m\u001b[38;5;124;43m\"\u001b[39;49m\u001b[43m)\u001b[49m\u001b[38;5;241;43m.\u001b[39;49m\u001b[43mhas_audio\u001b[49m\n",
      "\u001b[0;31mAttributeError\u001b[0m: 'Page' object has no attribute 'has_audio'"
     ]
    }
   ],
   "source": [
    "Page.objects.get(slug=\"show\").has_audio"
   ]
  },
  {
   "cell_type": "code",
   "execution_count": null,
   "id": "1cf42f5f-f86b-496b-9116-65d1dbb6e5da",
   "metadata": {},
   "outputs": [],
   "source": []
  }
 ],
 "metadata": {
  "kernelspec": {
   "display_name": "Django Kernel",
   "language": "python",
   "name": "django_extensions"
  },
  "language_info": {
   "codemirror_mode": {
    "name": "ipython",
    "version": 3
   },
   "file_extension": ".py",
   "mimetype": "text/x-python",
   "name": "python",
   "nbconvert_exporter": "python",
   "pygments_lexer": "ipython3",
   "version": "3.11.0"
  }
 },
 "nbformat": 4,
 "nbformat_minor": 5
}
