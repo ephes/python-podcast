{
 "cells": [
  {
   "cell_type": "code",
   "execution_count": 1,
   "id": "94ea5df4-30a3-4d6d-9bda-30043cb8066f",
   "metadata": {},
   "outputs": [],
   "source": [
    "sf = SpamFilter.default"
   ]
  },
  {
   "cell_type": "code",
   "execution_count": 3,
   "id": "d483994f-0a3e-4192-8703-7d78f5544323",
   "metadata": {},
   "outputs": [
    {
     "data": {
      "text/plain": [
       "{'ham': 0.010132257441178634, 'spam': 0.9898677425588213}"
      ]
     },
     "execution_count": 3,
     "metadata": {},
     "output_type": "execute_result"
    }
   ],
   "source": [
    "sf.model.predict(\"foo bar baz\")"
   ]
  },
  {
   "cell_type": "code",
   "execution_count": 5,
   "id": "7f8b6e02-ac2c-4e06-8816-869fd57533f3",
   "metadata": {},
   "outputs": [
    {
     "data": {
      "text/plain": [
       "'ham'"
      ]
     },
     "execution_count": 5,
     "metadata": {},
     "output_type": "execute_result"
    }
   ],
   "source": [
    "sf.model.predict_label(\"geht das hier durch?\")"
   ]
  },
  {
   "cell_type": "code",
   "execution_count": 8,
   "id": "62c3e9ca-7675-45e8-9095-b1471c663d71",
   "metadata": {},
   "outputs": [
    {
     "data": {
      "text/plain": [
       "'spam'"
      ]
     },
     "execution_count": 8,
     "metadata": {},
     "output_type": "execute_result"
    }
   ],
   "source": [
    "sf.model.predict_label(\"This is obvious spam\")"
   ]
  },
  {
   "cell_type": "code",
   "execution_count": null,
   "id": "a1472a04-e4b4-47e8-a516-dbd3628afea6",
   "metadata": {},
   "outputs": [],
   "source": []
  }
 ],
 "metadata": {
  "kernelspec": {
   "display_name": "Django Kernel",
   "language": "python",
   "name": "django_extensions"
  },
  "language_info": {
   "codemirror_mode": {
    "name": "ipython",
    "version": 3
   },
   "file_extension": ".py",
   "mimetype": "text/x-python",
   "name": "python",
   "nbconvert_exporter": "python",
   "pygments_lexer": "ipython3",
   "version": "3.11.0"
  }
 },
 "nbformat": 4,
 "nbformat_minor": 5
}
