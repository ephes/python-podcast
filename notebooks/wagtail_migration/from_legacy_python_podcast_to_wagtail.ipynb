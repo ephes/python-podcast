{
 "cells": [
  {
   "cell_type": "code",
   "execution_count": 2,
   "id": "d2e1da81-ab44-438a-8c91-079080fca6d7",
   "metadata": {},
   "outputs": [],
   "source": [
    "%load_ext lab_black"
   ]
  },
  {
   "cell_type": "code",
   "execution_count": 3,
   "id": "13f8110b-0ec8-4c54-bd80-0cea82533bc4",
   "metadata": {},
   "outputs": [],
   "source": [
    "import re\n",
    "import json\n",
    "\n",
    "from uuid import uuid4\n",
    "\n",
    "from django.db import connections\n",
    "\n",
    "from rich import print"
   ]
  },
  {
   "cell_type": "markdown",
   "id": "28ac2bf1-661e-47c6-8b8f-e21b6bcac29c",
   "metadata": {},
   "source": [
    "# Manual Stuff\n",
    "\n",
    "* Set DELETE_WAGTAIL_IMAGES=False to deactivate post_delete_file_cleanup, to avoid deleting original 🥶\n",
    "* Start only postgres and then: dropdb python_podcast && createdb python_podcast && python manage.py migrate\n",
    "* Sometimes after convert: python manage.py fixtree\n",
    "* Sometimes, you have to run: python manage.py sqlsequencereset cast + execute via pgcli"
   ]
  },
  {
   "cell_type": "markdown",
   "id": "67af7169-5f1d-4d0c-871b-0c024f9ab453",
   "metadata": {},
   "source": [
    "# Create New Empty DB"
   ]
  },
  {
   "cell_type": "code",
   "execution_count": 4,
   "id": "8a77f139-caa5-4a35-9a0a-5ea15165adab",
   "metadata": {},
   "outputs": [],
   "source": [
    "import os\n",
    "\n",
    "from django.conf import settings\n",
    "from django.core.management import call_command\n",
    "\n",
    "from pathlib import Path"
   ]
  },
  {
   "cell_type": "code",
   "execution_count": 5,
   "id": "cb92856a-dce9-4bf4-a645-635eec7716ca",
   "metadata": {},
   "outputs": [
    {
     "name": "stdout",
     "output_type": "stream",
     "text": [
      "Operations to perform:\n",
      "  Apply all migrations: account, admin, auth, authtoken, cast, contenttypes, django_comments, filepond, fluent_comments, indieweb, sessions, sites, socialaccount, taggit, threadedcomments, users, wagtailadmin, wagtailcore, wagtaildocs, wagtailembeds, wagtailforms, wagtailimages, wagtailredirects, wagtailsearch, wagtailusers, watson\n",
      "Running migrations:\n",
      "  Applying contenttypes.0001_initial... OK\n",
      "  Applying contenttypes.0002_remove_content_type_name... OK\n",
      "  Applying auth.0001_initial... OK\n",
      "  Applying auth.0002_alter_permission_name_max_length... OK\n",
      "  Applying auth.0003_alter_user_email_max_length... OK\n",
      "  Applying auth.0004_alter_user_username_opts... OK\n",
      "  Applying auth.0005_alter_user_last_login_null... OK\n",
      "  Applying auth.0006_require_contenttypes_0002... OK\n",
      "  Applying auth.0007_alter_validators_add_error_messages... OK\n",
      "  Applying auth.0008_alter_user_username_max_length... OK\n",
      "  Applying users.0001_initial... OK\n",
      "  Applying account.0001_initial... OK\n",
      "  Applying account.0002_email_max_length... OK\n",
      "  Applying admin.0001_initial... OK\n",
      "  Applying admin.0002_logentry_remove_auto_add... OK\n",
      "  Applying admin.0003_logentry_add_action_flag_choices... OK\n",
      "  Applying auth.0009_alter_user_last_name_max_length... OK\n",
      "  Applying auth.0010_alter_group_name_max_length... OK\n",
      "  Applying auth.0011_update_proxy_permissions... OK\n",
      "  Applying auth.0012_alter_user_first_name_max_length... OK\n",
      "  Applying authtoken.0001_initial... OK\n",
      "  Applying authtoken.0002_auto_20160226_1747... OK\n",
      "  Applying authtoken.0003_tokenproxy... OK\n",
      "  Applying wagtailcore.0001_squashed_0016_change_page_url_path_to_text_field... OK\n",
      "  Applying wagtailcore.0017_change_edit_page_permission_description... OK\n",
      "  Applying wagtailcore.0018_pagerevision_submitted_for_moderation_index... OK\n",
      "  Applying wagtailcore.0019_verbose_names_cleanup... OK\n",
      "  Applying wagtailcore.0020_add_index_on_page_first_published_at... OK\n",
      "  Applying wagtailcore.0021_capitalizeverbose... OK\n",
      "  Applying wagtailcore.0022_add_site_name... OK\n",
      "  Applying wagtailcore.0023_alter_page_revision_on_delete_behaviour... OK\n",
      "  Applying wagtailcore.0024_collection... OK\n",
      "  Applying wagtailcore.0025_collection_initial_data... OK\n",
      "  Applying wagtailcore.0026_group_collection_permission... OK\n",
      "  Applying wagtailcore.0027_fix_collection_path_collation... OK\n",
      "  Applying wagtailcore.0024_alter_page_content_type_on_delete_behaviour... OK\n",
      "  Applying wagtailcore.0028_merge... OK\n",
      "  Applying wagtailcore.0029_unicode_slugfield_dj19... OK\n",
      "  Applying wagtailcore.0030_index_on_pagerevision_created_at... OK\n",
      "  Applying wagtailcore.0031_add_page_view_restriction_types... OK\n",
      "  Applying wagtailcore.0032_add_bulk_delete_page_permission... OK\n",
      "  Applying wagtailcore.0033_remove_golive_expiry_help_text... OK\n",
      "  Applying wagtailcore.0034_page_live_revision... OK\n",
      "  Applying wagtailcore.0035_page_last_published_at... OK\n",
      "  Applying wagtailcore.0036_populate_page_last_published_at... OK\n",
      "  Applying wagtailcore.0037_set_page_owner_editable... OK\n",
      "  Applying wagtailcore.0038_make_first_published_at_editable... OK\n",
      "  Applying wagtailcore.0039_collectionviewrestriction... OK\n",
      "  Applying wagtailcore.0040_page_draft_title... OK\n",
      "  Applying wagtailcore.0041_group_collection_permissions_verbose_name_plural... OK\n",
      "  Applying wagtailcore.0042_index_on_pagerevision_approved_go_live_at... OK\n",
      "  Applying wagtailcore.0043_lock_fields... OK\n",
      "  Applying wagtailcore.0044_add_unlock_grouppagepermission... OK\n",
      "  Applying wagtailcore.0045_assign_unlock_grouppagepermission... OK\n",
      "  Applying wagtailcore.0046_site_name_remove_null... OK\n",
      "  Applying wagtailcore.0047_add_workflow_models... OK\n",
      "  Applying wagtailcore.0048_add_default_workflows... OK\n",
      "  Applying wagtailcore.0049_taskstate_finished_by... OK\n",
      "  Applying wagtailcore.0050_workflow_rejected_to_needs_changes... OK\n",
      "  Applying wagtailcore.0051_taskstate_comment... OK\n",
      "  Applying wagtailcore.0052_pagelogentry... OK\n",
      "  Applying wagtailcore.0053_locale_model... OK\n",
      "  Applying wagtailcore.0054_initial_locale... OK\n",
      "  Applying wagtailcore.0055_page_locale_fields... OK\n",
      "  Applying wagtailcore.0056_page_locale_fields_populate... OK\n",
      "  Applying wagtailcore.0057_page_locale_fields_notnull... OK\n",
      "  Applying wagtailcore.0058_page_alias_of... OK\n",
      "  Applying wagtailcore.0059_apply_collection_ordering... OK\n",
      "  Applying wagtailcore.0060_fix_workflow_unique_constraint... OK\n",
      "  Applying wagtailcore.0061_change_promote_tab_helpt_text_and_verbose_names... OK\n",
      "  Applying wagtailcore.0062_comment_models_and_pagesubscription... OK\n",
      "  Applying taggit.0001_initial... OK\n",
      "  Applying taggit.0002_auto_20150616_2121... OK\n",
      "  Applying taggit.0003_taggeditem_add_unique_index... OK\n",
      "  Applying wagtailredirects.0001_initial... OK\n",
      "  Applying wagtailredirects.0002_add_verbose_names... OK\n",
      "  Applying wagtailredirects.0003_make_site_field_editable... OK\n",
      "  Applying wagtailredirects.0004_set_unique_on_path_and_site... OK\n",
      "  Applying wagtailredirects.0005_capitalizeverbose... OK\n",
      "  Applying wagtailredirects.0006_redirect_increase_max_length... OK\n",
      "  Applying wagtailforms.0001_initial... OK\n",
      "  Applying wagtailforms.0002_add_verbose_names... OK\n",
      "  Applying wagtailforms.0003_capitalizeverbose... OK\n",
      "  Applying wagtailforms.0004_add_verbose_name_plural... OK\n",
      "  Applying wagtailimages.0001_squashed_0021... OK\n",
      "  Applying wagtailimages.0022_uploadedimage... OK\n",
      "  Applying wagtailimages.0023_add_choose_permissions... OK\n",
      "  Applying cast.0001_initial... OK\n",
      "  Applying cast.0002_remove_blog_description... OK\n",
      "  Applying cast.0003_remove_post_parent_blog... OK\n",
      "  Applying cast.0004_homepage_alias_for_page... OK\n",
      "  Applying cast.0005_auto_20201024_0613... OK\n",
      "  Applying cast.0006_auto_20210628_1628... OK\n",
      "  Applying cast.0007_alter_post_body... OK\n",
      "  Applying cast.0008_auto_20210712_0919... OK\n",
      "  Applying cast.0009_alter_post_body... OK\n",
      "  Applying cast.0010_rename_intro_blog_description... OK\n",
      "  Applying cast.0011_alter_post_body... OK\n",
      "  Applying cast.0012_alter_post_images... OK\n",
      "  Applying cast.0013_alter_gallery_images... OK\n",
      "  Applying cast.0014_remove_gallery_user... OK\n",
      "  Applying cast.0015_delete_blogindexpage... OK\n",
      "  Applying cast.0016_auto_20210830_0422... OK\n",
      "  Applying cast.0017_alter_post_body... OK\n",
      "  Applying cast.0018_alter_chaptermark_start... OK\n",
      "  Applying cast.0019_alter_chaptermark_start... OK\n",
      "  Applying cast.0020_auto_20210926_1556... OK\n",
      "  Applying cast.0021_spamfilter... OK\n",
      "  Applying cast.0022_alter_spamfilter_model... OK\n",
      "  Applying cast.0023_alter_spamfilter_model... OK\n",
      "  Applying sites.0001_initial... OK\n",
      "  Applying django_comments.0001_initial... OK\n",
      "  Applying django_comments.0002_update_user_email_field_length... OK\n",
      "  Applying django_comments.0003_add_submit_date_index... OK\n",
      "  Applying django_comments.0004_add_object_pk_is_removed_index... OK\n",
      "  Applying filepond.0001_initial... OK\n",
      "  Applying filepond.0002_auto_20181127_0925... OK\n",
      "  Applying filepond.0003_auto_20181127_0938... OK\n",
      "  Applying fluent_comments.0001_initial... OK\n",
      "  Applying indieweb.0001_initial... OK\n",
      "  Applying indieweb.0002_auto_20190512_0612... OK\n",
      "  Applying indieweb.0003_auto_20190518_0207... OK\n",
      "  Applying sessions.0001_initial... OK\n",
      "  Applying sites.0002_alter_domain_unique... OK\n",
      "  Applying sites.0003_set_site_domain_and_name... OK\n",
      "  Applying socialaccount.0001_initial... OK\n",
      "  Applying socialaccount.0002_token_max_lengths... OK\n",
      "  Applying socialaccount.0003_extra_data_default_dict... OK\n",
      "  Applying taggit.0004_alter_taggeditem_content_type_alter_taggeditem_tag... OK\n",
      "  Applying taggit.0005_auto_20220424_2025... OK\n",
      "  Applying threadedcomments.0001_initial... OK\n",
      "  Applying threadedcomments.0002_auto_20150521_2011... OK\n",
      "  Applying threadedcomments.0003_threadedcomment_newest_activity... OK\n",
      "  Applying wagtailadmin.0001_create_admin_access_permissions... OK\n",
      "  Applying wagtailadmin.0002_admin... OK\n",
      "  Applying wagtailadmin.0003_admin_managed... OK\n",
      "  Applying wagtailcore.0063_modellogentry... OK\n",
      "  Applying wagtailcore.0064_log_timestamp_indexes... OK\n",
      "  Applying wagtailcore.0065_log_entry_uuid... OK\n",
      "  Applying wagtailcore.0066_collection_management_permissions... OK\n",
      "  Applying wagtailcore.0067_alter_pagerevision_content_json... OK\n",
      "  Applying wagtailcore.0068_log_entry_empty_object... OK\n",
      "  Applying wagtailcore.0069_log_entry_jsonfield... OK\n",
      "  Applying wagtailcore.0070_rename_pagerevision_revision... OK\n",
      "  Applying wagtailcore.0071_populate_revision_content_type... OK\n",
      "  Applying wagtailcore.0072_alter_revision_content_type_notnull... OK\n",
      "  Applying wagtailcore.0073_page_latest_revision... OK\n",
      "  Applying wagtailcore.0074_revision_object_str... OK\n",
      "  Applying wagtailcore.0075_populate_latest_revision_and_revision_object_str... OK\n",
      "  Applying wagtailcore.0076_modellogentry_revision... OK\n",
      "  Applying wagtailcore.0077_alter_revision_user... OK\n",
      "  Applying wagtailcore.0078_referenceindex... OK\n",
      "  Applying wagtaildocs.0001_initial... OK\n",
      "  Applying wagtaildocs.0002_initial_data... OK\n",
      "  Applying wagtaildocs.0003_add_verbose_names... OK\n",
      "  Applying wagtaildocs.0004_capitalizeverbose... OK\n",
      "  Applying wagtaildocs.0005_document_collection... OK\n",
      "  Applying wagtaildocs.0006_copy_document_permissions_to_collections... OK\n",
      "  Applying wagtaildocs.0005_alter_uploaded_by_user_on_delete_action... OK\n",
      "  Applying wagtaildocs.0007_merge... OK\n",
      "  Applying wagtaildocs.0008_document_file_size... OK\n",
      "  Applying wagtaildocs.0009_document_verbose_name_plural... OK\n",
      "  Applying wagtaildocs.0010_document_file_hash... OK\n",
      "  Applying wagtaildocs.0011_add_choose_permissions... OK\n",
      "  Applying wagtaildocs.0012_uploadeddocument... OK\n",
      "  Applying wagtailembeds.0001_initial... OK\n",
      "  Applying wagtailembeds.0002_add_verbose_names... OK\n",
      "  Applying wagtailembeds.0003_capitalizeverbose... OK\n",
      "  Applying wagtailembeds.0004_embed_verbose_name_plural... OK\n",
      "  Applying wagtailembeds.0005_specify_thumbnail_url_max_length... OK\n",
      "  Applying wagtailembeds.0006_add_embed_hash... OK\n",
      "  Applying wagtailembeds.0007_populate_hash... OK\n",
      "  Applying wagtailembeds.0008_allow_long_urls... OK\n",
      "  Applying wagtailembeds.0009_embed_cache_until... OK\n",
      "  Applying wagtailforms.0005_alter_formsubmission_form_data... OK\n",
      "  Applying wagtailimages.0024_index_image_file_hash... OK\n",
      "  Applying wagtailredirects.0007_add_autocreate_fields... OK\n",
      "  Applying wagtailredirects.0008_add_verbose_name_plural... OK\n",
      "  Applying wagtailsearch.0001_initial... OK\n",
      "  Applying wagtailsearch.0002_add_verbose_names... OK\n",
      "  Applying wagtailsearch.0003_remove_editors_pick... OK\n",
      "  Applying wagtailsearch.0004_querydailyhits_verbose_name_plural... OK\n",
      "  Applying wagtailsearch.0005_create_indexentry... OK\n",
      "  Applying wagtailsearch.0006_customise_indexentry... OK\n",
      "  Applying wagtailsearch.0007_delete_editorspick... OK\n",
      "  Applying wagtailusers.0001_initial... OK\n",
      "  Applying wagtailusers.0002_add_verbose_name_on_userprofile... OK\n",
      "  Applying wagtailusers.0003_add_verbose_names... OK\n",
      "  Applying wagtailusers.0004_capitalizeverbose... OK\n",
      "  Applying wagtailusers.0005_make_related_name_wagtail_specific... OK\n",
      "  Applying wagtailusers.0006_userprofile_prefered_language... OK\n",
      "  Applying wagtailusers.0007_userprofile_current_time_zone... OK\n",
      "  Applying wagtailusers.0008_userprofile_avatar... OK\n",
      "  Applying wagtailusers.0009_userprofile_verbose_name_plural... OK\n",
      "  Applying wagtailusers.0010_userprofile_updated_comments_notifications... OK\n",
      "  Applying wagtailusers.0011_userprofile_dismissibles... OK\n",
      "  Applying watson.0001_initial... OK\n"
     ]
    }
   ],
   "source": [
    "current_working_dir = Path.cwd()\n",
    "os.chdir(settings.ROOT_DIR)\n",
    "!dropdb python_podcast && createdb python_podcast\n",
    "call_command(\"migrate\")\n",
    "os.chdir(current_working_dir)"
   ]
  },
  {
   "cell_type": "markdown",
   "id": "c43e1b1c-d939-4858-97aa-b2885576bb3b",
   "metadata": {},
   "source": [
    "# Fetch Legacy Data from Database and Restore"
   ]
  },
  {
   "cell_type": "code",
   "execution_count": 19,
   "id": "35611ccd-3682-402c-8c16-6f9196b8a2f9",
   "metadata": {},
   "outputs": [],
   "source": [
    "def dictfetchall(cursor):\n",
    "    \"Return all rows from a cursor as a dict\"\n",
    "    columns = [col[0] for col in cursor.description]\n",
    "    return [dict(zip(columns, row)) for row in cursor.fetchall()]\n",
    "\n",
    "\n",
    "class Legacy:\n",
    "    def __init__(self, db_name=\"legacy\"):\n",
    "        self.db_name = db_name\n",
    "        self.users = self.fetch_rows(\"select * from users_user\")\n",
    "        self.blogs = self.fetch_rows(\"select * from cast_blog\")\n",
    "        self.posts = self.fetch_rows(\"select * from cast_post\")\n",
    "        self.images = self.fetch_rows(\"select * from cast_image\")\n",
    "        self.galleries = self.fetch_rows(\"select * from cast_gallery\")\n",
    "        self.gallery_images = self.fetch_rows(\"select * from cast_gallery_images\")\n",
    "        self.videos = self.fetch_rows(\"select * from cast_video\")\n",
    "        self.audios = self.fetch_rows(\"select * from cast_audio\")\n",
    "        self.chaptermarks = self.fetch_rows(\"select * from cast_chaptermark\")\n",
    "        self.itunes_artworks = self.fetch_rows(\"select * from cast_itunesartwork\")\n",
    "        self.comments = self.fetch_rows(\"select * from django_comments\")\n",
    "        self.comment_flags = self.fetch_rows(\"select * from django_comment_flags\")\n",
    "        self.threadedcomments_comments = self.fetch_rows(\n",
    "            \"select * from threadedcomments_comment\"\n",
    "        )\n",
    "\n",
    "    def fetch_rows(self, stmt):\n",
    "        with connections[self.db_name].cursor() as cursor:\n",
    "            cursor.execute(stmt)\n",
    "            rows = dictfetchall(cursor)\n",
    "        return rows\n",
    "\n",
    "\n",
    "class Converter:\n",
    "    def __init__(self, legacy):\n",
    "        self.legacy = legacy\n",
    "        self.blog_content_type = ContentType.objects.get(app_label=\"cast\", model=\"blog\")\n",
    "\n",
    "    def users(self):\n",
    "        for l_user in self.legacy.users:\n",
    "            user = User(**l_user)\n",
    "            user.save()\n",
    "        return {user.pk: user for user in User.objects.all()}\n",
    "\n",
    "    def itunes_artworks(self):\n",
    "        for l_iaw in self.legacy.itunes_artworks:\n",
    "            iaw = ItunesArtWork(**l_iaw)\n",
    "            iaw.save()\n",
    "\n",
    "    def blogs(self):\n",
    "        blog_legacy_to_wagtail = {}\n",
    "        root = Page.objects.get(title=\"Welcome to your new Wagtail site!\")\n",
    "        for l_blog in self.legacy.blogs:\n",
    "            kwargs = l_blog.copy()\n",
    "            del kwargs[\"user_id\"]\n",
    "            del kwargs[\"id\"]\n",
    "            kwargs[\"owner\"] = self.user_lookup[l_blog[\"user_id\"]]\n",
    "            kwargs[\"last_published_at\"] = l_blog[\"modified\"]\n",
    "            # l_blog[\"content_type\"] = self.blog_content_type\n",
    "            blog = Blog(**kwargs)\n",
    "            blog = root.add_child(instance=blog)\n",
    "            blog_legacy_to_wagtail[l_blog[\"id\"]] = blog.pk\n",
    "        return blog_legacy_to_wagtail\n",
    "\n",
    "    def images(self):\n",
    "        for num, l_image in enumerate(self.legacy.images):\n",
    "            image = Image(\n",
    "                pk=l_image[\"id\"],\n",
    "                file=l_image[\"original\"],\n",
    "                uploaded_by_user=self.user_lookup[l_image[\"user_id\"]],\n",
    "                created_at=l_image[\"created\"],\n",
    "                width=l_image[\"original_width\"],\n",
    "                height=l_image[\"original_height\"],\n",
    "            )\n",
    "            image.save()\n",
    "            if num % 300 == 0:\n",
    "                print(num)\n",
    "\n",
    "    def galleries(self):\n",
    "        for l_gallery in self.legacy.galleries:\n",
    "            kwargs = {k: v for k, v in l_gallery.items() if k != \"user_id\"}\n",
    "            gallery = Gallery(**kwargs)\n",
    "            gallery.save()\n",
    "\n",
    "    def gallery_image_links(self):\n",
    "        links = [\n",
    "            (gi[\"id\"], gi[\"gallery_id\"], gi[\"image_id\"])\n",
    "            for gi in self.legacy.gallery_images\n",
    "        ]\n",
    "        stmt = \"insert into cast_gallery_images (id, gallery_id, image_id) values (%s, %s, %s)\"\n",
    "        with connections[\"default\"].cursor() as cursor:\n",
    "            cursor.executemany(stmt, links)\n",
    "\n",
    "    def audios(self):\n",
    "        for l_audio in self.legacy.audios:\n",
    "            audio = Audio(**l_audio)\n",
    "            audio.save()\n",
    "\n",
    "    def chaptermarks(self):\n",
    "        for l_mark in self.legacy.chaptermarks:\n",
    "            mark = ChapterMark(**l_mark)\n",
    "            mark.save()\n",
    "\n",
    "    def videos(self):\n",
    "        for num, video in enumerate(self.legacy.videos):\n",
    "            upload_user = self.user_lookup[video[\"user_id\"]]\n",
    "            video = Video(\n",
    "                pk=video[\"id\"],\n",
    "                title=Path(video[\"original\"]).name,\n",
    "                user=upload_user,\n",
    "                poster=video[\"poster\"],\n",
    "                poster_seconds=video[\"poster_seconds\"],\n",
    "                original=video[\"original\"],\n",
    "                created=video[\"created\"],\n",
    "                modified=video[\"modified\"],\n",
    "            )\n",
    "            video.save(poster=False)\n",
    "            if num % 50 == 0:\n",
    "                print(num)\n",
    "\n",
    "    def convert(self):\n",
    "        self.user_lookup = self.users()\n",
    "        self.itunes_artworks()\n",
    "        self.blog_lookup = self.blogs()\n",
    "        self.images()\n",
    "        self.galleries()\n",
    "        self.gallery_image_links()\n",
    "        self.videos()\n",
    "        self.audios()\n",
    "        self.chaptermarks()"
   ]
  },
  {
   "cell_type": "code",
   "execution_count": 20,
   "id": "17166087-09d4-41a0-8d3e-d080c109e417",
   "metadata": {},
   "outputs": [],
   "source": [
    "converter = Converter(Legacy())"
   ]
  },
  {
   "cell_type": "code",
   "execution_count": 8,
   "id": "9f3ea7de-6345-4821-9316-674ad10a1089",
   "metadata": {},
   "outputs": [
    {
     "data": {
      "text/plain": [
       "[{'id': 1,\n",
       "  'created': datetime.datetime(2018, 11, 21, 9, 18, 45, 339582, tzinfo=datetime.timezone.utc),\n",
       "  'modified': datetime.datetime(2018, 11, 30, 14, 40, 34, 546525, tzinfo=datetime.timezone.utc),\n",
       "  'original': 'cast_images/itunes_artwork/pp_itunes_artwork_3k.png',\n",
       "  'original_height': 3000,\n",
       "  'original_width': 3000}]"
      ]
     },
     "execution_count": 8,
     "metadata": {},
     "output_type": "execute_result"
    }
   ],
   "source": [
    "converter.legacy.itunes_artworks"
   ]
  },
  {
   "cell_type": "code",
   "execution_count": 9,
   "id": "2f09f5d8-3340-4f0d-959b-6d15bd80b1cf",
   "metadata": {},
   "outputs": [
    {
     "data": {
      "text/html": [
       "<pre style=\"white-space:pre;overflow-x:auto;line-height:normal;font-family:Menlo,'DejaVu Sans Mono',consolas,'Courier New',monospace\"><span style=\"color: #008080; text-decoration-color: #008080; font-weight: bold\">0</span>\n",
       "</pre>\n"
      ],
      "text/plain": [
       "\u001b[1;36m0\u001b[0m\n"
      ]
     },
     "metadata": {},
     "output_type": "display_data"
    },
    {
     "data": {
      "text/html": [
       "<pre style=\"white-space:pre;overflow-x:auto;line-height:normal;font-family:Menlo,'DejaVu Sans Mono',consolas,'Courier New',monospace\"><span style=\"color: #008080; text-decoration-color: #008080; font-weight: bold\">0</span>\n",
       "</pre>\n"
      ],
      "text/plain": [
       "\u001b[1;36m0\u001b[0m\n"
      ]
     },
     "metadata": {},
     "output_type": "display_data"
    },
    {
     "name": "stdout",
     "output_type": "stream",
     "text": [
      "CPU times: user 2.12 s, sys: 566 ms, total: 2.69 s\n",
      "Wall time: 879 ms\n"
     ]
    }
   ],
   "source": [
    "%%time\n",
    "converter.convert()"
   ]
  },
  {
   "cell_type": "code",
   "execution_count": 17,
   "id": "c6b98bef-4e05-4a98-a2f2-c7cc4ac82be8",
   "metadata": {},
   "outputs": [],
   "source": [
    "def convert_audios(audios):\n",
    "    for l_audio in audios:\n",
    "        audio = Audio(**l_audio)\n",
    "        audio.save()"
   ]
  },
  {
   "cell_type": "code",
   "execution_count": 18,
   "id": "f9cd09ea-d56a-4545-8e4f-e7a8fde56890",
   "metadata": {},
   "outputs": [],
   "source": [
    "convert_audios([converter.legacy.audios[0]])"
   ]
  },
  {
   "cell_type": "code",
   "execution_count": 10,
   "id": "6a63b781-44a0-446e-8416-c1de512f95ae",
   "metadata": {},
   "outputs": [],
   "source": [
    "# converter.legacy.audios"
   ]
  },
  {
   "cell_type": "markdown",
   "id": "1514db1a-bbd1-4e07-a4ab-0630544b157b",
   "metadata": {},
   "source": [
    "# Migrate Posts"
   ]
  },
  {
   "cell_type": "code",
   "execution_count": 11,
   "id": "00c6afc7-71dc-45f6-b796-87e4ca967a91",
   "metadata": {},
   "outputs": [],
   "source": [
    "def is_tag(text):\n",
    "    return text.startswith(\"{%\") and text.endswith(\"%}\")\n",
    "\n",
    "\n",
    "def tag_to_block(tag):\n",
    "    tag_name, tag_id = tag.strip(\"{%\").strip(\"%}\").split()\n",
    "    tag_id = int(tag_id)\n",
    "    if tag_name == \"gallery\":\n",
    "        image_blocks = []\n",
    "        for image in Gallery.objects.get(pk=tag_id).images.all():\n",
    "            image_blocks.append({\"type\": \"item\", \"value\": image.pk, \"id\": str(uuid4())})\n",
    "        return {\"type\": tag_name, \"value\": image_blocks}\n",
    "    return {\"type\": tag_name, \"value\": tag_id}\n",
    "\n",
    "\n",
    "def content_to_blocks(content):\n",
    "    blocks = []\n",
    "    just_tag = re.compile(r\"({% \\w+ \\d+ %})\")\n",
    "    for part in just_tag.split(content):\n",
    "        if len(part) == 0:\n",
    "            continue\n",
    "        if is_tag(part):\n",
    "            blocks.append(tag_to_block(part))\n",
    "        else:\n",
    "            blocks.append({\"type\": \"paragraph\", \"value\": part})\n",
    "    return blocks\n",
    "\n",
    "\n",
    "def content_to_streamfield(content):\n",
    "    detail_blocks = None\n",
    "    pattern = r\"(?P<overview>.*){% if include_detail %}(?P<detail>.*){% endif %}.*\"\n",
    "    match = re.search(pattern, content, re.DOTALL)\n",
    "    if match is not None:\n",
    "        overview_blocks = content_to_blocks(match.group(\"overview\"))\n",
    "        detail_blocks = content_to_blocks(match.group(\"detail\"))\n",
    "    else:\n",
    "        overview_blocks = content_to_blocks(content)\n",
    "    streamfield = [{\"type\": \"overview\", \"value\": overview_blocks}]\n",
    "    if detail_blocks is not None:\n",
    "        streamfield.append({\"type\": \"detail\", \"value\": detail_blocks})\n",
    "    return streamfield\n",
    "\n",
    "\n",
    "def build_post_from_legacy(legacy, user_lookup):\n",
    "    # post = Post(title=legacy[\"title\"], visible_date=legacy[\"visible_date\"])\n",
    "    kwargs = {\n",
    "        k: v\n",
    "        for k, v in legacy.items()\n",
    "        if k not in [\"content\", \"author_id\", \"blog_id\", \"id\"]\n",
    "    }\n",
    "    kwargs[\"content_type\"] = ContentType.objects.get(app_label=\"cast\", model=\"post\")\n",
    "    kwargs[\"live\"] = legacy[\"pub_date\"] is not None\n",
    "    if kwargs[\"live\"]:\n",
    "        kwargs[\"first_published_at\"] = legacy[\"pub_date\"]\n",
    "        kwargs[\"last_published_at\"] = legacy[\"modified\"]\n",
    "    kwargs[\"latest_revision_created_at\"] = legacy[\"modified\"]\n",
    "    kwargs[\"owner\"] = user_lookup[legacy[\"author_id\"]]\n",
    "    # print(kwargs)\n",
    "    post = Post(**kwargs)\n",
    "    raw_body = content_to_streamfield(legacy[\"content\"])\n",
    "    post.body = json.dumps(raw_body)\n",
    "    return post"
   ]
  },
  {
   "cell_type": "code",
   "execution_count": 12,
   "id": "c0a95386-3ce4-4cda-a898-c04f5622eac6",
   "metadata": {},
   "outputs": [],
   "source": [
    "legacy_post_lookup = {p[\"id\"]: p for p in converter.legacy.posts}"
   ]
  },
  {
   "cell_type": "code",
   "execution_count": 13,
   "id": "205a246d-19ee-4622-bb61-bd9277ed98b6",
   "metadata": {},
   "outputs": [],
   "source": [
    "# for lpost in legacy_post_lookup.values():\n",
    "#     if \"video\" in lpost[\"content\"] and lpost[\"blog_id\"] == 1:\n",
    "#         print(lpost)"
   ]
  },
  {
   "cell_type": "code",
   "execution_count": 14,
   "id": "27e1151c-04df-4e6a-8abe-a441a4d7870d",
   "metadata": {},
   "outputs": [],
   "source": [
    "# for lpost in legacy_post_lookup.values():\n",
    "#     if \"include_detail\" in lpost[\"content\"]:\n",
    "#         print(lpost)"
   ]
  },
  {
   "cell_type": "code",
   "execution_count": 15,
   "id": "78771733-cb57-4de6-8064-7e681e7ffaf2",
   "metadata": {},
   "outputs": [
    {
     "data": {
      "text/html": [
       "<pre style=\"white-space:pre;overflow-x:auto;line-height:normal;font-family:Menlo,'DejaVu Sans Mono',consolas,'Courier New',monospace\"><span style=\"color: #008080; text-decoration-color: #008080; font-weight: bold\">0</span>\n",
       "</pre>\n"
      ],
      "text/plain": [
       "\u001b[1;36m0\u001b[0m\n"
      ]
     },
     "metadata": {},
     "output_type": "display_data"
    },
    {
     "data": {
      "text/html": [
       "<pre style=\"white-space:pre;overflow-x:auto;line-height:normal;font-family:Menlo,'DejaVu Sans Mono',consolas,'Courier New',monospace\"><span style=\"color: #008080; text-decoration-color: #008080; font-weight: bold\">20</span>\n",
       "</pre>\n"
      ],
      "text/plain": [
       "\u001b[1;36m20\u001b[0m\n"
      ]
     },
     "metadata": {},
     "output_type": "display_data"
    },
    {
     "data": {
      "text/html": [
       "<pre style=\"white-space:pre;overflow-x:auto;line-height:normal;font-family:Menlo,'DejaVu Sans Mono',consolas,'Courier New',monospace\"><span style=\"color: #008080; text-decoration-color: #008080; font-weight: bold\">40</span>\n",
       "</pre>\n"
      ],
      "text/plain": [
       "\u001b[1;36m40\u001b[0m\n"
      ]
     },
     "metadata": {},
     "output_type": "display_data"
    },
    {
     "name": "stdout",
     "output_type": "stream",
     "text": [
      "CPU times: user 387 ms, sys: 16.1 ms, total: 403 ms\n",
      "Wall time: 522 ms\n"
     ]
    }
   ],
   "source": [
    "%%time\n",
    "blog_lookup = {k: Page.objects.get(pk=v) for k, v in converter.blog_lookup.items()}\n",
    "legacy_post_lookup = {p[\"id\"]: p for p in converter.legacy.posts}\n",
    "# for p_id in (9,):\n",
    "# for p_id in (183,):\n",
    "# for p_id in (9, 183, 332, 333):\n",
    "# for p_id in (329,):\n",
    "for num, p_id in enumerate(legacy_post_lookup.keys()):\n",
    "    l_post = legacy_post_lookup[p_id]\n",
    "    blog = blog_lookup[l_post[\"blog_id\"]]\n",
    "    post = build_post_from_legacy(l_post, converter.user_lookup)\n",
    "    post = blog.add_child(instance=post)\n",
    "    if num % 20 == 0:\n",
    "        print(num)"
   ]
  },
  {
   "cell_type": "code",
   "execution_count": 13,
   "id": "eac5e9bb-c21e-4069-9faf-b8c8c111db7a",
   "metadata": {},
   "outputs": [],
   "source": [
    "[l_post] = [p for p in converter.legacy.posts if p[\"id\"] == 329]"
   ]
  },
  {
   "cell_type": "code",
   "execution_count": 14,
   "id": "dc51ca81-19f7-43f3-a7f3-5ad5f2868b19",
   "metadata": {},
   "outputs": [
    {
     "data": {
      "text/plain": [
       "{'id': 329,\n",
       " 'created': datetime.datetime(2022, 10, 22, 10, 37, 0, 444369, tzinfo=datetime.timezone.utc),\n",
       " 'modified': datetime.datetime(2022, 10, 22, 10, 56, 8, 61463, tzinfo=datetime.timezone.utc),\n",
       " 'title': 'Django Beginner Series: Update Python',\n",
       " 'pub_date': None,\n",
       " 'visible_date': datetime.datetime(2022, 10, 22, 0, 0, tzinfo=datetime.timezone.utc),\n",
       " 'content': 'cd ~/.pyenv<br />\\r\\ngit pull<br />\\r\\n<br />\\r\\npyenv install 3.10.8<br />\\r\\n<br />\\r\\npyenv global 3.10.8',\n",
       " 'slug': 'update-python',\n",
       " 'author_id': 1,\n",
       " 'blog_id': 1,\n",
       " 'podcast_audio_id': None,\n",
       " 'uuid': UUID('bf0666a1-62d2-438d-9d11-1d195388b68d'),\n",
       " 'keywords': '',\n",
       " 'explicit': 1,\n",
       " 'block': False,\n",
       " 'comments_enabled': True}"
      ]
     },
     "execution_count": 14,
     "metadata": {},
     "output_type": "execute_result"
    }
   ],
   "source": [
    "l_post"
   ]
  },
  {
   "cell_type": "code",
   "execution_count": 29,
   "id": "462ff694-fa66-4c3d-8671-c01b0693123a",
   "metadata": {},
   "outputs": [
    {
     "data": {
      "text/html": [
       "<pre style=\"white-space:pre;overflow-x:auto;line-height:normal;font-family:Menlo,'DejaVu Sans Mono',consolas,'Courier New',monospace\"><span style=\"font-weight: bold\">{</span><span style=\"color: #800080; text-decoration-color: #800080; font-style: italic\">None</span>: <span style=\"color: #008080; text-decoration-color: #008080; font-weight: bold\">321</span>, <span style=\"font-weight: bold\">&lt;</span><span style=\"color: #ff00ff; text-decoration-color: #ff00ff; font-weight: bold\">User:</span><span style=\"color: #000000; text-decoration-color: #000000\"> jochen</span><span style=\"font-weight: bold\">&gt;</span>: <span style=\"color: #008080; text-decoration-color: #008080; font-weight: bold\">2</span><span style=\"font-weight: bold\">}</span>\n",
       "</pre>\n"
      ],
      "text/plain": [
       "\u001b[1m{\u001b[0m\u001b[3;35mNone\u001b[0m: \u001b[1;36m321\u001b[0m, \u001b[1m<\u001b[0m\u001b[1;95mUser:\u001b[0m\u001b[39m jochen\u001b[0m\u001b[1m>\u001b[0m: \u001b[1;36m2\u001b[0m\u001b[1m}\u001b[0m\n"
      ]
     },
     "metadata": {},
     "output_type": "display_data"
    }
   ],
   "source": [
    "counter = {}\n",
    "for page in Page.objects.all():\n",
    "    counter[page.owner] = counter.get(page.owner, 0) + 1\n",
    "print(counter)"
   ]
  },
  {
   "cell_type": "code",
   "execution_count": 36,
   "id": "25ed3708-b8f7-41df-be64-8c976f1e868d",
   "metadata": {},
   "outputs": [
    {
     "data": {
      "text/plain": [
       "datetime.datetime(2018, 1, 1, 0, 0, tzinfo=datetime.timezone.utc)"
      ]
     },
     "execution_count": 36,
     "metadata": {},
     "output_type": "execute_result"
    }
   ],
   "source": [
    "Post.objects.first().visible_date"
   ]
  },
  {
   "cell_type": "code",
   "execution_count": 15,
   "id": "c3c58a07-81c1-4e85-b6e5-45be9bd25f51",
   "metadata": {},
   "outputs": [
    {
     "data": {
      "text/plain": [
       "datetime.datetime(2018, 1, 24, 0, 0, tzinfo=datetime.timezone.utc)"
      ]
     },
     "execution_count": 15,
     "metadata": {},
     "output_type": "execute_result"
    }
   ],
   "source": [
    "Page.objects.all()[5].post.visible_date"
   ]
  },
  {
   "cell_type": "code",
   "execution_count": 13,
   "id": "3a4044d4-43d4-455f-a364-1f02f19f9685",
   "metadata": {},
   "outputs": [],
   "source": [
    "# for page in Page.objects.all():\n",
    "#    print(page.first_published_at)"
   ]
  },
  {
   "cell_type": "markdown",
   "id": "b7a731f1-fa55-4f7a-bb83-6f34ba32c3e1",
   "metadata": {},
   "source": [
    "# Migrate Comments"
   ]
  },
  {
   "cell_type": "code",
   "execution_count": null,
   "id": "b469f234-4b9e-4837-a196-49ab2bf7c17a",
   "metadata": {},
   "outputs": [],
   "source": [
    "ThreadedComment"
   ]
  },
  {
   "cell_type": "code",
   "execution_count": 101,
   "id": "f9fe9211-9104-4b6d-88b5-ecb3c903d401",
   "metadata": {},
   "outputs": [],
   "source": [
    "from django_comments.models import Comment\n",
    "\n",
    "\n",
    "def convert_comments(comments):\n",
    "    for l_comment in comments:\n",
    "        comment = Comment(**l_comment)\n",
    "        comment.content_type_id = 66\n",
    "        comment.save()\n",
    "\n",
    "\n",
    "def convert_comment_flags(comment_flags):\n",
    "    for l_comment_flag in comment_flags:\n",
    "        flag = CommentFlag(**l_comment_flag)\n",
    "        flag.save()\n",
    "\n",
    "\n",
    "def convert_threaded_comments(threaded_comments):\n",
    "    # does not work due to db constraints\n",
    "    for l_threaded_comment in threaded_comments:\n",
    "        threaded_comment = ThreadedComment(**l_threaded_comment)\n",
    "        threaded_comment.save()"
   ]
  },
  {
   "cell_type": "code",
   "execution_count": 36,
   "id": "c9272bb3-8a1a-4e5c-9090-13f5a0f6fab0",
   "metadata": {},
   "outputs": [],
   "source": [
    "convert_comments(converter.legacy.comments)"
   ]
  },
  {
   "cell_type": "code",
   "execution_count": 37,
   "id": "56023adb-3b86-43ca-9e0b-565a6458c734",
   "metadata": {},
   "outputs": [],
   "source": [
    "convert_comment_flags(converter.legacy.comment_flags)"
   ]
  },
  {
   "cell_type": "code",
   "execution_count": 41,
   "id": "3eceae1f-4b6b-4041-b9fa-ee2fd7a0b15b",
   "metadata": {},
   "outputs": [
    {
     "data": {
      "text/plain": [
       "<ContentType: authtoken | token>"
      ]
     },
     "execution_count": 41,
     "metadata": {},
     "output_type": "execute_result"
    }
   ],
   "source": [
    "Comment.objects.first().content_type"
   ]
  },
  {
   "cell_type": "markdown",
   "id": "6ecb4865-5eaa-41b4-880d-2e63e96f9c90",
   "metadata": {},
   "source": [
    "Copy threaded_comments manually:\n",
    "```\n",
    "pg_dump -a -t threadedcomments_comment python_podcast_legacy | psql python_podcast\n",
    "```"
   ]
  },
  {
   "cell_type": "markdown",
   "id": "d6abdd23-19fa-499d-953b-4f4494df6b40",
   "metadata": {},
   "source": [
    "# Backup migrated Database\n",
    "\n",
    "Before applying the backup, change the site name in wagtail settings to the new fqdn + port 443. Otherwise item.get_full_url() will not be correct.\n",
    "\n",
    "```\n",
    "pg_dump python_podcast | gzip > backups/db.staging.psql.gz\n",
    "cd deploy\n",
    "ansible-playbook restore_database.yml\n",
    "```"
   ]
  },
  {
   "cell_type": "code",
   "execution_count": null,
   "id": "d0740167-a073-4862-b45e-726de6208b53",
   "metadata": {},
   "outputs": [],
   "source": []
  }
 ],
 "metadata": {
  "kernelspec": {
   "display_name": "Django Kernel",
   "language": "python",
   "name": "django_extensions"
  },
  "language_info": {
   "codemirror_mode": {
    "name": "ipython",
    "version": 3
   },
   "file_extension": ".py",
   "mimetype": "text/x-python",
   "name": "python",
   "nbconvert_exporter": "python",
   "pygments_lexer": "ipython3",
   "version": "3.11.1"
  }
 },
 "nbformat": 4,
 "nbformat_minor": 5
}
