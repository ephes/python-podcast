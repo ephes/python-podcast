{
 "cells": [
  {
   "cell_type": "code",
   "execution_count": 1,
   "id": "d03483f8-8924-4ff7-815f-12fabed326d7",
   "metadata": {},
   "outputs": [
    {
     "data": {
      "text/html": [
       "<pre style=\"white-space:pre;overflow-x:auto;line-height:normal;font-family:Menlo,'DejaVu Sans Mono',consolas,'Courier New',monospace\">The .env file has been loaded. See base.py for more information\n",
       "</pre>\n"
      ],
      "text/plain": [
       "The .env file has been loaded. See base.py for more information\n"
      ]
     },
     "metadata": {},
     "output_type": "display_data"
    },
    {
     "data": {
      "application/vnd.jupyter.widget-view+json": {
       "model_id": "",
       "version_major": 2,
       "version_minor": 0
      },
      "text/plain": [
       "Output()"
      ]
     },
     "metadata": {},
     "output_type": "display_data"
    },
    {
     "data": {
      "text/html": [
       "<pre style=\"white-space:pre;overflow-x:auto;line-height:normal;font-family:Menlo,'DejaVu Sans Mono',consolas,'Courier New',monospace\">/Users/jochen/.virtualenvs/pp/lib/python3.12/site-packages/django/db/backends/utils.py:98: RuntimeWarning: \n",
       "Accessing the database during app initialization is discouraged. To fix this warning, avoid executing queries in \n",
       "AppConfig.ready() or when your app modules are imported.\n",
       "  warnings.warn(self.APPS_NOT_READY_WARNING_MSG, category=RuntimeWarning)\n",
       "</pre>\n"
      ],
      "text/plain": [
       "/Users/jochen/.virtualenvs/pp/lib/python3.12/site-packages/django/db/backends/utils.py:98: RuntimeWarning: \n",
       "Accessing the database during app initialization is discouraged. To fix this warning, avoid executing queries in \n",
       "AppConfig.ready() or when your app modules are imported.\n",
       "  warnings.warn(self.APPS_NOT_READY_WARNING_MSG, category=RuntimeWarning)\n"
      ]
     },
     "metadata": {},
     "output_type": "display_data"
    },
    {
     "data": {
      "text/html": [
       "<pre style=\"white-space:pre;overflow-x:auto;line-height:normal;font-family:Menlo,'DejaVu Sans Mono',consolas,'Courier New',monospace\"></pre>\n"
      ],
      "text/plain": []
     },
     "metadata": {},
     "output_type": "display_data"
    }
   ],
   "source": [
    "from dj_notebook import activate\n",
    "\n",
    "plus = activate()"
   ]
  },
  {
   "cell_type": "code",
   "execution_count": 2,
   "id": "c7717506-caf6-4508-a539-e95d36fcdbec",
   "metadata": {},
   "outputs": [],
   "source": [
    "import sqlparse\n",
    "\n",
    "from django.urls import reverse\n",
    "from django.db import connection\n",
    "\n",
    "from wagtail.models import Page\n",
    "from wagtail.api.v2.filters import FieldsFilter\n",
    "from rest_framework.filters import BaseFilterBackend\n",
    "from rest_framework.test import APIRequestFactory\n",
    "\n",
    "from cast.api.views import FilteredPagesAPIViewSet"
   ]
  },
  {
   "cell_type": "code",
   "execution_count": 3,
   "id": "8d44a3fc-572e-45dc-bbda-ff149f98234e",
   "metadata": {},
   "outputs": [],
   "source": [
    "def format_sql(query):\n",
    "    return sqlparse.format(query, reindent=True, keyword_case='upper')\n",
    "\n",
    "def get_formatted_sql(queryset):\n",
    "    # Get the raw SQL query from the queryset\n",
    "    sql, params = queryset.query.sql_with_params()\n",
    "    \n",
    "    # Format the SQL query\n",
    "    formatted_sql = format_sql(sql % params)\n",
    "    \n",
    "    return formatted_sql"
   ]
  },
  {
   "cell_type": "code",
   "execution_count": 4,
   "id": "c5af346a-dce0-42d0-be47-a924d2eea936",
   "metadata": {},
   "outputs": [],
   "source": [
    "class FieldsFilter(BaseFilterBackend):\n",
    "    def filter_queryset(self, request, queryset, view):\n",
    "        \"\"\"\n",
    "        This performs field level filtering on the result set\n",
    "        Eg: ?title=James Joyce\n",
    "        \"\"\"\n",
    "        fields = set(view.get_available_fields(queryset.model, db_fields_only=True))\n",
    "\n",
    "        # Locale is a database field, but we provide a separate filter for it\n",
    "        if \"locale\" in fields:\n",
    "            fields.remove(\"locale\")\n",
    "\n",
    "        for field_name, value in request.GET.items():\n",
    "            if field_name in fields:\n",
    "                try:\n",
    "                    field = queryset.model._meta.get_field(field_name)\n",
    "                except LookupError:\n",
    "                    field = None\n",
    "\n",
    "                # Convert value into python\n",
    "                try:\n",
    "                    if isinstance(\n",
    "                        field, (models.BooleanField, models.NullBooleanField)\n",
    "                    ):\n",
    "                        value = parse_boolean(value)\n",
    "                    elif isinstance(field, (models.IntegerField, models.AutoField)):\n",
    "                        value = int(value)\n",
    "                    elif isinstance(field, models.ForeignKey):\n",
    "                        value = field.target_field.get_prep_value(value)\n",
    "                except ValueError as e:\n",
    "                    raise BadRequestError(\n",
    "                        \"field filter error. '%s' is not a valid value for %s (%s)\"\n",
    "                        % (value, field_name, str(e))\n",
    "                    )\n",
    "\n",
    "                if isinstance(field, TaggableManager):\n",
    "                    for tag in value.split(\",\"):\n",
    "                        queryset = queryset.filter(**{field_name + \"__name\": tag})\n",
    "\n",
    "                    # Stick a message on the queryset to indicate that tag filtering has been performed\n",
    "                    # This will let the do_search method know that it must raise an error as searching\n",
    "                    # and tag filtering at the same time is not supported\n",
    "                    queryset._filtered_by_tag = True\n",
    "                else:\n",
    "                    queryset = queryset.filter(**{field_name: value})\n",
    "\n",
    "        return queryset"
   ]
  },
  {
   "cell_type": "code",
   "execution_count": 5,
   "id": "0d728f7d-4e7b-4b1f-afd7-bde62184d16d",
   "metadata": {},
   "outputs": [],
   "source": [
    "blog = plus.Blog.objects.first()"
   ]
  },
  {
   "cell_type": "code",
   "execution_count": 6,
   "id": "bf92f1a0-225a-46e2-8e6e-0524051d053d",
   "metadata": {},
   "outputs": [
    {
     "name": "stdout",
     "output_type": "stream",
     "text": [
      "SELECT \"wagtailcore_page\".\"id\",\n",
      "       \"wagtailcore_page\".\"path\",\n",
      "       \"wagtailcore_page\".\"depth\",\n",
      "       \"wagtailcore_page\".\"numchild\",\n",
      "       \"wagtailcore_page\".\"translation_key\",\n",
      "       \"wagtailcore_page\".\"locale_id\",\n",
      "       \"wagtailcore_page\".\"latest_revision_id\",\n",
      "       \"wagtailcore_page\".\"live\",\n",
      "       \"wagtailcore_page\".\"has_unpublished_changes\",\n",
      "       \"wagtailcore_page\".\"first_published_at\",\n",
      "       \"wagtailcore_page\".\"last_published_at\",\n",
      "       \"wagtailcore_page\".\"live_revision_id\",\n",
      "       \"wagtailcore_page\".\"go_live_at\",\n",
      "       \"wagtailcore_page\".\"expire_at\",\n",
      "       \"wagtailcore_page\".\"expired\",\n",
      "       \"wagtailcore_page\".\"locked\",\n",
      "       \"wagtailcore_page\".\"locked_at\",\n",
      "       \"wagtailcore_page\".\"locked_by_id\",\n",
      "       \"wagtailcore_page\".\"title\",\n",
      "       \"wagtailcore_page\".\"draft_title\",\n",
      "       \"wagtailcore_page\".\"slug\",\n",
      "       \"wagtailcore_page\".\"content_type_id\",\n",
      "       \"wagtailcore_page\".\"url_path\",\n",
      "       \"wagtailcore_page\".\"owner_id\",\n",
      "       \"wagtailcore_page\".\"seo_title\",\n",
      "       \"wagtailcore_page\".\"show_in_menus\",\n",
      "       \"wagtailcore_page\".\"search_description\",\n",
      "       \"wagtailcore_page\".\"latest_revision_created_at\",\n",
      "       \"wagtailcore_page\".\"alias_of_id\"\n",
      "FROM \"wagtailcore_page\"\n",
      "WHERE (\"wagtailcore_page\".\"live\"\n",
      "       AND \"wagtailcore_page\".\"slug\" = 1����%2527%2522)\n",
      "ORDER BY \"wagtailcore_page\".\"path\" ASC\n"
     ]
    }
   ],
   "source": [
    "rf = APIRequestFactory()\n",
    "pages_endpoint = reverse(\"cast:api:wagtail:pages:listing\")\n",
    "bad_input = \"1%00%EF%BF%BD%EF%BF%BD%EF%BF%BD%EF%BF%BD%252527%252522\"\n",
    "# bad_input = \"devops-redux\"\n",
    "# url = f\"{pages_endpoint}?child_of={blog.pk}&slug={bad_input}\"\n",
    "url = f\"{pages_endpoint}?slug={bad_input}\"\n",
    "request = rf.get(url)\n",
    "queryset = Page.objects.all().live()\n",
    "viewset = FilteredPagesAPIViewSet()\n",
    "# queryset = FieldsFilter().filter_queryset(request, queryset, viewset)\n",
    "queryset = queryset.filter(**{\"slug\": \"1����%2527%2522\"})\n",
    "print(get_formatted_sql(queryset))\n",
    "queryset.count()\n",
    "for page in queryset:\n",
    "    print(page.pk, page.slug)"
   ]
  },
  {
   "cell_type": "code",
   "execution_count": 7,
   "id": "1f17554d-98b4-4ec9-9203-7d9e0e14c9c2",
   "metadata": {},
   "outputs": [
    {
     "ename": "ProgrammingError",
     "evalue": "Müll folgt auf numerische Konstante bei »1�«\nLINE 33:        AND \"wagtailcore_page\".\"slug\" = 1����%2527%2522)\n                                                ^",
     "output_type": "error",
     "traceback": [
      "\u001b[0;31m---------------------------------------------------------------------------\u001b[0m",
      "\u001b[0;31mSyntaxError\u001b[0m                               Traceback (most recent call last)",
      "File \u001b[0;32m~/.virtualenvs/pp/lib/python3.12/site-packages/django/db/backends/utils.py:103\u001b[0m, in \u001b[0;36mCursorWrapper._execute\u001b[0;34m(self, sql, params, *ignored_wrapper_args)\u001b[0m\n\u001b[1;32m    101\u001b[0m \u001b[38;5;28;01mif\u001b[39;00m params \u001b[38;5;129;01mis\u001b[39;00m \u001b[38;5;28;01mNone\u001b[39;00m:\n\u001b[1;32m    102\u001b[0m     \u001b[38;5;66;03m# params default might be backend specific.\u001b[39;00m\n\u001b[0;32m--> 103\u001b[0m     \u001b[38;5;28;01mreturn\u001b[39;00m \u001b[38;5;28;43mself\u001b[39;49m\u001b[38;5;241;43m.\u001b[39;49m\u001b[43mcursor\u001b[49m\u001b[38;5;241;43m.\u001b[39;49m\u001b[43mexecute\u001b[49m\u001b[43m(\u001b[49m\u001b[43msql\u001b[49m\u001b[43m)\u001b[49m\n\u001b[1;32m    104\u001b[0m \u001b[38;5;28;01melse\u001b[39;00m:\n",
      "File \u001b[0;32m~/.virtualenvs/pp/lib/python3.12/site-packages/psycopg/cursor.py:732\u001b[0m, in \u001b[0;36mCursor.execute\u001b[0;34m(self, query, params, prepare, binary)\u001b[0m\n\u001b[1;32m    731\u001b[0m \u001b[38;5;28;01mexcept\u001b[39;00m e\u001b[38;5;241m.\u001b[39m_NO_TRACEBACK \u001b[38;5;28;01mas\u001b[39;00m ex:\n\u001b[0;32m--> 732\u001b[0m     \u001b[38;5;28;01mraise\u001b[39;00m ex\u001b[38;5;241m.\u001b[39mwith_traceback(\u001b[38;5;28;01mNone\u001b[39;00m)\n\u001b[1;32m    733\u001b[0m \u001b[38;5;28;01mreturn\u001b[39;00m \u001b[38;5;28mself\u001b[39m\n",
      "\u001b[0;31mSyntaxError\u001b[0m: Müll folgt auf numerische Konstante bei »1�«\nLINE 33:        AND \"wagtailcore_page\".\"slug\" = 1����%2527%2522)\n                                                ^",
      "\nThe above exception was the direct cause of the following exception:\n",
      "\u001b[0;31mProgrammingError\u001b[0m                          Traceback (most recent call last)",
      "Cell \u001b[0;32mIn[7], line 41\u001b[0m\n\u001b[1;32m     37\u001b[0m params \u001b[38;5;241m=\u001b[39m [\u001b[38;5;124m\"\u001b[39m\u001b[38;5;124m1����\u001b[39m\u001b[38;5;132;01m%2527%\u001b[39;00m\u001b[38;5;124m2522\u001b[39m\u001b[38;5;124m\"\u001b[39m]\n\u001b[1;32m     39\u001b[0m \u001b[38;5;28;01mwith\u001b[39;00m connection\u001b[38;5;241m.\u001b[39mcursor() \u001b[38;5;28;01mas\u001b[39;00m cursor:\n\u001b[1;32m     40\u001b[0m     \u001b[38;5;66;03m# cursor.execute(query, params)\u001b[39;00m\n\u001b[0;32m---> 41\u001b[0m     \u001b[43mcursor\u001b[49m\u001b[38;5;241;43m.\u001b[39;49m\u001b[43mexecute\u001b[49m\u001b[43m(\u001b[49m\u001b[43mquery\u001b[49m\u001b[43m)\u001b[49m\n\u001b[1;32m     42\u001b[0m     results \u001b[38;5;241m=\u001b[39m cursor\u001b[38;5;241m.\u001b[39mfetchall()\n\u001b[1;32m     44\u001b[0m \u001b[38;5;28;01mfor\u001b[39;00m row \u001b[38;5;129;01min\u001b[39;00m results:\n",
      "File \u001b[0;32m~/.virtualenvs/pp/lib/python3.12/site-packages/django/db/backends/utils.py:122\u001b[0m, in \u001b[0;36mCursorDebugWrapper.execute\u001b[0;34m(self, sql, params)\u001b[0m\n\u001b[1;32m    120\u001b[0m \u001b[38;5;28;01mdef\u001b[39;00m \u001b[38;5;21mexecute\u001b[39m(\u001b[38;5;28mself\u001b[39m, sql, params\u001b[38;5;241m=\u001b[39m\u001b[38;5;28;01mNone\u001b[39;00m):\n\u001b[1;32m    121\u001b[0m     \u001b[38;5;28;01mwith\u001b[39;00m \u001b[38;5;28mself\u001b[39m\u001b[38;5;241m.\u001b[39mdebug_sql(sql, params, use_last_executed_query\u001b[38;5;241m=\u001b[39m\u001b[38;5;28;01mTrue\u001b[39;00m):\n\u001b[0;32m--> 122\u001b[0m         \u001b[38;5;28;01mreturn\u001b[39;00m \u001b[38;5;28;43msuper\u001b[39;49m\u001b[43m(\u001b[49m\u001b[43m)\u001b[49m\u001b[38;5;241;43m.\u001b[39;49m\u001b[43mexecute\u001b[49m\u001b[43m(\u001b[49m\u001b[43msql\u001b[49m\u001b[43m,\u001b[49m\u001b[43m \u001b[49m\u001b[43mparams\u001b[49m\u001b[43m)\u001b[49m\n",
      "File \u001b[0;32m~/.virtualenvs/pp/lib/python3.12/site-packages/django/db/backends/utils.py:79\u001b[0m, in \u001b[0;36mCursorWrapper.execute\u001b[0;34m(self, sql, params)\u001b[0m\n\u001b[1;32m     78\u001b[0m \u001b[38;5;28;01mdef\u001b[39;00m \u001b[38;5;21mexecute\u001b[39m(\u001b[38;5;28mself\u001b[39m, sql, params\u001b[38;5;241m=\u001b[39m\u001b[38;5;28;01mNone\u001b[39;00m):\n\u001b[0;32m---> 79\u001b[0m     \u001b[38;5;28;01mreturn\u001b[39;00m \u001b[38;5;28;43mself\u001b[39;49m\u001b[38;5;241;43m.\u001b[39;49m\u001b[43m_execute_with_wrappers\u001b[49m\u001b[43m(\u001b[49m\n\u001b[1;32m     80\u001b[0m \u001b[43m        \u001b[49m\u001b[43msql\u001b[49m\u001b[43m,\u001b[49m\u001b[43m \u001b[49m\u001b[43mparams\u001b[49m\u001b[43m,\u001b[49m\u001b[43m \u001b[49m\u001b[43mmany\u001b[49m\u001b[38;5;241;43m=\u001b[39;49m\u001b[38;5;28;43;01mFalse\u001b[39;49;00m\u001b[43m,\u001b[49m\u001b[43m \u001b[49m\u001b[43mexecutor\u001b[49m\u001b[38;5;241;43m=\u001b[39;49m\u001b[38;5;28;43mself\u001b[39;49m\u001b[38;5;241;43m.\u001b[39;49m\u001b[43m_execute\u001b[49m\n\u001b[1;32m     81\u001b[0m \u001b[43m    \u001b[49m\u001b[43m)\u001b[49m\n",
      "File \u001b[0;32m~/.virtualenvs/pp/lib/python3.12/site-packages/django/db/backends/utils.py:92\u001b[0m, in \u001b[0;36mCursorWrapper._execute_with_wrappers\u001b[0;34m(self, sql, params, many, executor)\u001b[0m\n\u001b[1;32m     90\u001b[0m \u001b[38;5;28;01mfor\u001b[39;00m wrapper \u001b[38;5;129;01min\u001b[39;00m \u001b[38;5;28mreversed\u001b[39m(\u001b[38;5;28mself\u001b[39m\u001b[38;5;241m.\u001b[39mdb\u001b[38;5;241m.\u001b[39mexecute_wrappers):\n\u001b[1;32m     91\u001b[0m     executor \u001b[38;5;241m=\u001b[39m functools\u001b[38;5;241m.\u001b[39mpartial(wrapper, executor)\n\u001b[0;32m---> 92\u001b[0m \u001b[38;5;28;01mreturn\u001b[39;00m \u001b[43mexecutor\u001b[49m\u001b[43m(\u001b[49m\u001b[43msql\u001b[49m\u001b[43m,\u001b[49m\u001b[43m \u001b[49m\u001b[43mparams\u001b[49m\u001b[43m,\u001b[49m\u001b[43m \u001b[49m\u001b[43mmany\u001b[49m\u001b[43m,\u001b[49m\u001b[43m \u001b[49m\u001b[43mcontext\u001b[49m\u001b[43m)\u001b[49m\n",
      "File \u001b[0;32m~/.virtualenvs/pp/lib/python3.12/site-packages/django/db/backends/utils.py:100\u001b[0m, in \u001b[0;36mCursorWrapper._execute\u001b[0;34m(self, sql, params, *ignored_wrapper_args)\u001b[0m\n\u001b[1;32m     98\u001b[0m     warnings\u001b[38;5;241m.\u001b[39mwarn(\u001b[38;5;28mself\u001b[39m\u001b[38;5;241m.\u001b[39mAPPS_NOT_READY_WARNING_MSG, category\u001b[38;5;241m=\u001b[39m\u001b[38;5;167;01mRuntimeWarning\u001b[39;00m)\n\u001b[1;32m     99\u001b[0m \u001b[38;5;28mself\u001b[39m\u001b[38;5;241m.\u001b[39mdb\u001b[38;5;241m.\u001b[39mvalidate_no_broken_transaction()\n\u001b[0;32m--> 100\u001b[0m \u001b[43m\u001b[49m\u001b[38;5;28;43;01mwith\u001b[39;49;00m\u001b[43m \u001b[49m\u001b[38;5;28;43mself\u001b[39;49m\u001b[38;5;241;43m.\u001b[39;49m\u001b[43mdb\u001b[49m\u001b[38;5;241;43m.\u001b[39;49m\u001b[43mwrap_database_errors\u001b[49m\u001b[43m:\u001b[49m\n\u001b[1;32m    101\u001b[0m \u001b[43m    \u001b[49m\u001b[38;5;28;43;01mif\u001b[39;49;00m\u001b[43m \u001b[49m\u001b[43mparams\u001b[49m\u001b[43m \u001b[49m\u001b[38;5;129;43;01mis\u001b[39;49;00m\u001b[43m \u001b[49m\u001b[38;5;28;43;01mNone\u001b[39;49;00m\u001b[43m:\u001b[49m\n\u001b[1;32m    102\u001b[0m \u001b[43m        \u001b[49m\u001b[38;5;66;43;03m# params default might be backend specific.\u001b[39;49;00m\n\u001b[1;32m    103\u001b[0m \u001b[43m        \u001b[49m\u001b[38;5;28;43;01mreturn\u001b[39;49;00m\u001b[43m \u001b[49m\u001b[38;5;28;43mself\u001b[39;49m\u001b[38;5;241;43m.\u001b[39;49m\u001b[43mcursor\u001b[49m\u001b[38;5;241;43m.\u001b[39;49m\u001b[43mexecute\u001b[49m\u001b[43m(\u001b[49m\u001b[43msql\u001b[49m\u001b[43m)\u001b[49m\n",
      "File \u001b[0;32m~/.virtualenvs/pp/lib/python3.12/site-packages/django/db/utils.py:91\u001b[0m, in \u001b[0;36mDatabaseErrorWrapper.__exit__\u001b[0;34m(self, exc_type, exc_value, traceback)\u001b[0m\n\u001b[1;32m     89\u001b[0m \u001b[38;5;28;01mif\u001b[39;00m dj_exc_type \u001b[38;5;129;01mnot\u001b[39;00m \u001b[38;5;129;01min\u001b[39;00m (DataError, IntegrityError):\n\u001b[1;32m     90\u001b[0m     \u001b[38;5;28mself\u001b[39m\u001b[38;5;241m.\u001b[39mwrapper\u001b[38;5;241m.\u001b[39merrors_occurred \u001b[38;5;241m=\u001b[39m \u001b[38;5;28;01mTrue\u001b[39;00m\n\u001b[0;32m---> 91\u001b[0m \u001b[38;5;28;01mraise\u001b[39;00m dj_exc_value\u001b[38;5;241m.\u001b[39mwith_traceback(traceback) \u001b[38;5;28;01mfrom\u001b[39;00m \u001b[38;5;21;01mexc_value\u001b[39;00m\n",
      "File \u001b[0;32m~/.virtualenvs/pp/lib/python3.12/site-packages/django/db/backends/utils.py:103\u001b[0m, in \u001b[0;36mCursorWrapper._execute\u001b[0;34m(self, sql, params, *ignored_wrapper_args)\u001b[0m\n\u001b[1;32m    100\u001b[0m \u001b[38;5;28;01mwith\u001b[39;00m \u001b[38;5;28mself\u001b[39m\u001b[38;5;241m.\u001b[39mdb\u001b[38;5;241m.\u001b[39mwrap_database_errors:\n\u001b[1;32m    101\u001b[0m     \u001b[38;5;28;01mif\u001b[39;00m params \u001b[38;5;129;01mis\u001b[39;00m \u001b[38;5;28;01mNone\u001b[39;00m:\n\u001b[1;32m    102\u001b[0m         \u001b[38;5;66;03m# params default might be backend specific.\u001b[39;00m\n\u001b[0;32m--> 103\u001b[0m         \u001b[38;5;28;01mreturn\u001b[39;00m \u001b[38;5;28;43mself\u001b[39;49m\u001b[38;5;241;43m.\u001b[39;49m\u001b[43mcursor\u001b[49m\u001b[38;5;241;43m.\u001b[39;49m\u001b[43mexecute\u001b[49m\u001b[43m(\u001b[49m\u001b[43msql\u001b[49m\u001b[43m)\u001b[49m\n\u001b[1;32m    104\u001b[0m     \u001b[38;5;28;01melse\u001b[39;00m:\n\u001b[1;32m    105\u001b[0m         \u001b[38;5;28;01mreturn\u001b[39;00m \u001b[38;5;28mself\u001b[39m\u001b[38;5;241m.\u001b[39mcursor\u001b[38;5;241m.\u001b[39mexecute(sql, params)\n",
      "File \u001b[0;32m~/.virtualenvs/pp/lib/python3.12/site-packages/psycopg/cursor.py:732\u001b[0m, in \u001b[0;36mCursor.execute\u001b[0;34m(self, query, params, prepare, binary)\u001b[0m\n\u001b[1;32m    728\u001b[0m         \u001b[38;5;28mself\u001b[39m\u001b[38;5;241m.\u001b[39m_conn\u001b[38;5;241m.\u001b[39mwait(\n\u001b[1;32m    729\u001b[0m             \u001b[38;5;28mself\u001b[39m\u001b[38;5;241m.\u001b[39m_execute_gen(query, params, prepare\u001b[38;5;241m=\u001b[39mprepare, binary\u001b[38;5;241m=\u001b[39mbinary)\n\u001b[1;32m    730\u001b[0m         )\n\u001b[1;32m    731\u001b[0m \u001b[38;5;28;01mexcept\u001b[39;00m e\u001b[38;5;241m.\u001b[39m_NO_TRACEBACK \u001b[38;5;28;01mas\u001b[39;00m ex:\n\u001b[0;32m--> 732\u001b[0m     \u001b[38;5;28;01mraise\u001b[39;00m ex\u001b[38;5;241m.\u001b[39mwith_traceback(\u001b[38;5;28;01mNone\u001b[39;00m)\n\u001b[1;32m    733\u001b[0m \u001b[38;5;28;01mreturn\u001b[39;00m \u001b[38;5;28mself\u001b[39m\n",
      "\u001b[0;31mProgrammingError\u001b[0m: Müll folgt auf numerische Konstante bei »1�«\nLINE 33:        AND \"wagtailcore_page\".\"slug\" = 1����%2527%2522)\n                                                ^"
     ]
    }
   ],
   "source": [
    "query = \"\"\"\n",
    "SELECT \"wagtailcore_page\".\"id\",\n",
    "       \"wagtailcore_page\".\"path\",\n",
    "       \"wagtailcore_page\".\"depth\",\n",
    "       \"wagtailcore_page\".\"numchild\",\n",
    "       \"wagtailcore_page\".\"translation_key\",\n",
    "       \"wagtailcore_page\".\"locale_id\",\n",
    "       \"wagtailcore_page\".\"latest_revision_id\",\n",
    "       \"wagtailcore_page\".\"live\",\n",
    "       \"wagtailcore_page\".\"has_unpublished_changes\",\n",
    "       \"wagtailcore_page\".\"first_published_at\",\n",
    "       \"wagtailcore_page\".\"last_published_at\",\n",
    "       \"wagtailcore_page\".\"live_revision_id\",\n",
    "       \"wagtailcore_page\".\"go_live_at\",\n",
    "       \"wagtailcore_page\".\"expire_at\",\n",
    "       \"wagtailcore_page\".\"expired\",\n",
    "       \"wagtailcore_page\".\"locked\",\n",
    "       \"wagtailcore_page\".\"locked_at\",\n",
    "       \"wagtailcore_page\".\"locked_by_id\",\n",
    "       \"wagtailcore_page\".\"title\",\n",
    "       \"wagtailcore_page\".\"draft_title\",\n",
    "       \"wagtailcore_page\".\"slug\",\n",
    "       \"wagtailcore_page\".\"content_type_id\",\n",
    "       \"wagtailcore_page\".\"url_path\",\n",
    "       \"wagtailcore_page\".\"owner_id\",\n",
    "       \"wagtailcore_page\".\"seo_title\",\n",
    "       \"wagtailcore_page\".\"show_in_menus\",\n",
    "       \"wagtailcore_page\".\"search_description\",\n",
    "       \"wagtailcore_page\".\"latest_revision_created_at\",\n",
    "       \"wagtailcore_page\".\"alias_of_id\"\n",
    "FROM \"wagtailcore_page\"\n",
    "WHERE (\"wagtailcore_page\".\"live\"\n",
    "       AND \"wagtailcore_page\".\"slug\" = 1����%2527%2522)\n",
    "ORDER BY \"wagtailcore_page\".\"path\" ASC\n",
    "\"\"\"\n",
    "# params = [\"devops-redux\"]\n",
    "params = [\"1����%2527%2522\"]\n",
    "\n",
    "with connection.cursor() as cursor:\n",
    "    # cursor.execute(query, params)\n",
    "    cursor.execute(query)\n",
    "    results = cursor.fetchall()\n",
    "\n",
    "for row in results:\n",
    "    print(row)"
   ]
  },
  {
   "cell_type": "code",
   "execution_count": null,
   "id": "fb81db91-67e1-4bef-a709-7d04afe124a4",
   "metadata": {},
   "outputs": [],
   "source": [
    "for page in plus.Post.objects.all():\n",
    "    print(page.pk, page.slug)"
   ]
  },
  {
   "cell_type": "code",
   "execution_count": 7,
   "id": "86b0ff27-6da0-4874-8c34-e4a9402119ae",
   "metadata": {},
   "outputs": [
    {
     "name": "stdout",
     "output_type": "stream",
     "text": [
      "slug 1\u0000����%2527%2522\n"
     ]
    }
   ],
   "source": [
    "for field_name, value in request.GET.items():\n",
    "    print(field_name, value)"
   ]
  },
  {
   "cell_type": "code",
   "execution_count": null,
   "id": "75bd6027-0397-41a8-8e30-4027520d9381",
   "metadata": {},
   "outputs": [],
   "source": []
  },
  {
   "cell_type": "code",
   "execution_count": null,
   "id": "2af3ae5c-dedc-4fde-b760-c560ffa4305a",
   "metadata": {},
   "outputs": [],
   "source": []
  }
 ],
 "metadata": {
  "kernelspec": {
   "display_name": "Python 3 (ipykernel)",
   "language": "python",
   "name": "python3"
  },
  "language_info": {
   "codemirror_mode": {
    "name": "ipython",
    "version": 3
   },
   "file_extension": ".py",
   "mimetype": "text/x-python",
   "name": "python",
   "nbconvert_exporter": "python",
   "pygments_lexer": "ipython3",
   "version": "3.12.4"
  }
 },
 "nbformat": 4,
 "nbformat_minor": 5
}
